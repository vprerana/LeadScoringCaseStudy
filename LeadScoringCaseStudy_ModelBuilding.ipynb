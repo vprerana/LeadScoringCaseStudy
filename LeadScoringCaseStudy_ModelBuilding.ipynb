{
 "cells": [
  {
   "cell_type": "markdown",
   "metadata": {
    "colab_type": "text",
    "id": "ZariHKckzePV"
   },
   "source": [
    "# ***LEAD SCORING CASE STUDY***\n"
   ]
  },
  {
   "cell_type": "markdown",
   "metadata": {
    "colab_type": "text",
    "id": "CinD98Hgzk_x"
   },
   "source": [
    "## PROBLEM STATEMENT \n",
    "\n",
    "An education **company** named **X Education** sells online courses to industry professionals.Now, although X Education gets a lot of leads, its lead conversion rate is very poor. For example, if, say, they acquire 100 leads in a day, only about 30 of them are converted. The objective is to build a model to identify the hot/potential leads and **achieve lead conversion rate to 80%**."
   ]
  },
  {
   "cell_type": "markdown",
   "metadata": {
    "colab_type": "text",
    "id": "1-8lY9xVz0TW"
   },
   "source": [
    "## **DATA READING**"
   ]
  },
  {
   "cell_type": "code",
   "execution_count": 1,
   "metadata": {
    "colab": {},
    "colab_type": "code",
    "id": "FSUANW130JzF"
   },
   "outputs": [],
   "source": [
    "# Suppressing Warnings\n",
    "import warnings\n",
    "warnings.filterwarnings('ignore')"
   ]
  },
  {
   "cell_type": "code",
   "execution_count": 2,
   "metadata": {
    "colab": {},
    "colab_type": "code",
    "id": "k7MTHjc80W2d"
   },
   "outputs": [],
   "source": [
    "# Importing Pandas and NumPy\n",
    "import pandas as pd\n",
    "import numpy as np\n",
    "\n",
    "import matplotlib.pyplot as plt\n",
    "%matplotlib inline\n",
    "\n",
    "import seaborn as sns\n",
    "\n",
    "import sklearn\n",
    "from sklearn.preprocessing import StandardScaler\n",
    "\n",
    "import statsmodels.api as sm"
   ]
  },
  {
   "cell_type": "code",
   "execution_count": 3,
   "metadata": {
    "colab": {
     "base_uri": "https://localhost:8080/",
     "height": 70,
     "resources": {
      "http://localhost:8080/nbextensions/google.colab/files.js": {
       "data": "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",
       "headers": [
        [
         "content-type",
         "application/javascript"
        ]
       ],
       "ok": true,
       "status": 200,
       "status_text": ""
      }
     }
    },
    "colab_type": "code",
    "id": "irQyJiYZ2F7j",
    "outputId": "42483ba2-b93f-46e7-9beb-37a883ed3ff9"
   },
   "outputs": [],
   "source": [
    "#Import the required Dataset, In our case, we use the lead dataset provided to us in the problem statement\n",
    "#from google.colab import files\n",
    "#uploaded = files.upload()\n",
    "\n",
    "#Since we are using Colab to run the code, we upload the dataset to the drive first and then we read the csv file. "
   ]
  },
  {
   "cell_type": "code",
   "execution_count": 4,
   "metadata": {
    "colab": {},
    "colab_type": "code",
    "id": "V_rStjYL7nLs"
   },
   "outputs": [],
   "source": [
    "#Importing the dataset to a csv file.\n",
    "lead = pd.read_csv(\"Leads.csv\")"
   ]
  },
  {
   "cell_type": "code",
   "execution_count": 5,
   "metadata": {
    "colab": {
     "base_uri": "https://localhost:8080/",
     "height": 520
    },
    "colab_type": "code",
    "id": "TvLt1sMa0n9d",
    "outputId": "7e7b250f-1bd4-4975-8300-bee9c2af594c"
   },
   "outputs": [
    {
     "data": {
      "text/html": [
       "<div>\n",
       "<style scoped>\n",
       "    .dataframe tbody tr th:only-of-type {\n",
       "        vertical-align: middle;\n",
       "    }\n",
       "\n",
       "    .dataframe tbody tr th {\n",
       "        vertical-align: top;\n",
       "    }\n",
       "\n",
       "    .dataframe thead th {\n",
       "        text-align: right;\n",
       "    }\n",
       "</style>\n",
       "<table border=\"1\" class=\"dataframe\">\n",
       "  <thead>\n",
       "    <tr style=\"text-align: right;\">\n",
       "      <th></th>\n",
       "      <th>Prospect ID</th>\n",
       "      <th>Lead Number</th>\n",
       "      <th>Lead Origin</th>\n",
       "      <th>Lead Source</th>\n",
       "      <th>Do Not Email</th>\n",
       "      <th>Do Not Call</th>\n",
       "      <th>Converted</th>\n",
       "      <th>TotalVisits</th>\n",
       "      <th>Total Time Spent on Website</th>\n",
       "      <th>Page Views Per Visit</th>\n",
       "      <th>...</th>\n",
       "      <th>Get updates on DM Content</th>\n",
       "      <th>Lead Profile</th>\n",
       "      <th>City</th>\n",
       "      <th>Asymmetrique Activity Index</th>\n",
       "      <th>Asymmetrique Profile Index</th>\n",
       "      <th>Asymmetrique Activity Score</th>\n",
       "      <th>Asymmetrique Profile Score</th>\n",
       "      <th>I agree to pay the amount through cheque</th>\n",
       "      <th>A free copy of Mastering The Interview</th>\n",
       "      <th>Last Notable Activity</th>\n",
       "    </tr>\n",
       "  </thead>\n",
       "  <tbody>\n",
       "    <tr>\n",
       "      <td>0</td>\n",
       "      <td>7927b2df-8bba-4d29-b9a2-b6e0beafe620</td>\n",
       "      <td>660737</td>\n",
       "      <td>API</td>\n",
       "      <td>Olark Chat</td>\n",
       "      <td>No</td>\n",
       "      <td>No</td>\n",
       "      <td>0</td>\n",
       "      <td>0.0</td>\n",
       "      <td>0</td>\n",
       "      <td>0.0</td>\n",
       "      <td>...</td>\n",
       "      <td>No</td>\n",
       "      <td>Select</td>\n",
       "      <td>Select</td>\n",
       "      <td>02.Medium</td>\n",
       "      <td>02.Medium</td>\n",
       "      <td>15.0</td>\n",
       "      <td>15.0</td>\n",
       "      <td>No</td>\n",
       "      <td>No</td>\n",
       "      <td>Modified</td>\n",
       "    </tr>\n",
       "    <tr>\n",
       "      <td>1</td>\n",
       "      <td>2a272436-5132-4136-86fa-dcc88c88f482</td>\n",
       "      <td>660728</td>\n",
       "      <td>API</td>\n",
       "      <td>Organic Search</td>\n",
       "      <td>No</td>\n",
       "      <td>No</td>\n",
       "      <td>0</td>\n",
       "      <td>5.0</td>\n",
       "      <td>674</td>\n",
       "      <td>2.5</td>\n",
       "      <td>...</td>\n",
       "      <td>No</td>\n",
       "      <td>Select</td>\n",
       "      <td>Select</td>\n",
       "      <td>02.Medium</td>\n",
       "      <td>02.Medium</td>\n",
       "      <td>15.0</td>\n",
       "      <td>15.0</td>\n",
       "      <td>No</td>\n",
       "      <td>No</td>\n",
       "      <td>Email Opened</td>\n",
       "    </tr>\n",
       "    <tr>\n",
       "      <td>2</td>\n",
       "      <td>8cc8c611-a219-4f35-ad23-fdfd2656bd8a</td>\n",
       "      <td>660727</td>\n",
       "      <td>Landing Page Submission</td>\n",
       "      <td>Direct Traffic</td>\n",
       "      <td>No</td>\n",
       "      <td>No</td>\n",
       "      <td>1</td>\n",
       "      <td>2.0</td>\n",
       "      <td>1532</td>\n",
       "      <td>2.0</td>\n",
       "      <td>...</td>\n",
       "      <td>No</td>\n",
       "      <td>Potential Lead</td>\n",
       "      <td>Mumbai</td>\n",
       "      <td>02.Medium</td>\n",
       "      <td>01.High</td>\n",
       "      <td>14.0</td>\n",
       "      <td>20.0</td>\n",
       "      <td>No</td>\n",
       "      <td>Yes</td>\n",
       "      <td>Email Opened</td>\n",
       "    </tr>\n",
       "    <tr>\n",
       "      <td>3</td>\n",
       "      <td>0cc2df48-7cf4-4e39-9de9-19797f9b38cc</td>\n",
       "      <td>660719</td>\n",
       "      <td>Landing Page Submission</td>\n",
       "      <td>Direct Traffic</td>\n",
       "      <td>No</td>\n",
       "      <td>No</td>\n",
       "      <td>0</td>\n",
       "      <td>1.0</td>\n",
       "      <td>305</td>\n",
       "      <td>1.0</td>\n",
       "      <td>...</td>\n",
       "      <td>No</td>\n",
       "      <td>Select</td>\n",
       "      <td>Mumbai</td>\n",
       "      <td>02.Medium</td>\n",
       "      <td>01.High</td>\n",
       "      <td>13.0</td>\n",
       "      <td>17.0</td>\n",
       "      <td>No</td>\n",
       "      <td>No</td>\n",
       "      <td>Modified</td>\n",
       "    </tr>\n",
       "    <tr>\n",
       "      <td>4</td>\n",
       "      <td>3256f628-e534-4826-9d63-4a8b88782852</td>\n",
       "      <td>660681</td>\n",
       "      <td>Landing Page Submission</td>\n",
       "      <td>Google</td>\n",
       "      <td>No</td>\n",
       "      <td>No</td>\n",
       "      <td>1</td>\n",
       "      <td>2.0</td>\n",
       "      <td>1428</td>\n",
       "      <td>1.0</td>\n",
       "      <td>...</td>\n",
       "      <td>No</td>\n",
       "      <td>Select</td>\n",
       "      <td>Mumbai</td>\n",
       "      <td>02.Medium</td>\n",
       "      <td>01.High</td>\n",
       "      <td>15.0</td>\n",
       "      <td>18.0</td>\n",
       "      <td>No</td>\n",
       "      <td>No</td>\n",
       "      <td>Modified</td>\n",
       "    </tr>\n",
       "  </tbody>\n",
       "</table>\n",
       "<p>5 rows × 37 columns</p>\n",
       "</div>"
      ],
      "text/plain": [
       "                            Prospect ID  Lead Number              Lead Origin  \\\n",
       "0  7927b2df-8bba-4d29-b9a2-b6e0beafe620       660737                      API   \n",
       "1  2a272436-5132-4136-86fa-dcc88c88f482       660728                      API   \n",
       "2  8cc8c611-a219-4f35-ad23-fdfd2656bd8a       660727  Landing Page Submission   \n",
       "3  0cc2df48-7cf4-4e39-9de9-19797f9b38cc       660719  Landing Page Submission   \n",
       "4  3256f628-e534-4826-9d63-4a8b88782852       660681  Landing Page Submission   \n",
       "\n",
       "      Lead Source Do Not Email Do Not Call  Converted  TotalVisits  \\\n",
       "0      Olark Chat           No          No          0          0.0   \n",
       "1  Organic Search           No          No          0          5.0   \n",
       "2  Direct Traffic           No          No          1          2.0   \n",
       "3  Direct Traffic           No          No          0          1.0   \n",
       "4          Google           No          No          1          2.0   \n",
       "\n",
       "   Total Time Spent on Website  Page Views Per Visit  ...  \\\n",
       "0                            0                   0.0  ...   \n",
       "1                          674                   2.5  ...   \n",
       "2                         1532                   2.0  ...   \n",
       "3                          305                   1.0  ...   \n",
       "4                         1428                   1.0  ...   \n",
       "\n",
       "  Get updates on DM Content    Lead Profile    City  \\\n",
       "0                        No          Select  Select   \n",
       "1                        No          Select  Select   \n",
       "2                        No  Potential Lead  Mumbai   \n",
       "3                        No          Select  Mumbai   \n",
       "4                        No          Select  Mumbai   \n",
       "\n",
       "  Asymmetrique Activity Index Asymmetrique Profile Index  \\\n",
       "0                   02.Medium                  02.Medium   \n",
       "1                   02.Medium                  02.Medium   \n",
       "2                   02.Medium                    01.High   \n",
       "3                   02.Medium                    01.High   \n",
       "4                   02.Medium                    01.High   \n",
       "\n",
       "  Asymmetrique Activity Score Asymmetrique Profile Score  \\\n",
       "0                        15.0                       15.0   \n",
       "1                        15.0                       15.0   \n",
       "2                        14.0                       20.0   \n",
       "3                        13.0                       17.0   \n",
       "4                        15.0                       18.0   \n",
       "\n",
       "  I agree to pay the amount through cheque  \\\n",
       "0                                       No   \n",
       "1                                       No   \n",
       "2                                       No   \n",
       "3                                       No   \n",
       "4                                       No   \n",
       "\n",
       "  A free copy of Mastering The Interview Last Notable Activity  \n",
       "0                                     No              Modified  \n",
       "1                                     No          Email Opened  \n",
       "2                                    Yes          Email Opened  \n",
       "3                                     No              Modified  \n",
       "4                                     No              Modified  \n",
       "\n",
       "[5 rows x 37 columns]"
      ]
     },
     "execution_count": 5,
     "metadata": {},
     "output_type": "execute_result"
    }
   ],
   "source": [
    "#Displaying the content of the data\n",
    "lead.head()"
   ]
  },
  {
   "cell_type": "markdown",
   "metadata": {
    "colab_type": "text",
    "id": "0ZESMq9h00D3"
   },
   "source": [
    "## **ROUTINE DATA CHECK**"
   ]
  },
  {
   "cell_type": "code",
   "execution_count": 6,
   "metadata": {
    "colab": {
     "base_uri": "https://localhost:8080/",
     "height": 0
    },
    "colab_type": "code",
    "id": "r-Xn9SHj0rbM",
    "outputId": "86d1d5e9-be0f-481b-a7f8-03eb77ca2854"
   },
   "outputs": [
    {
     "name": "stdout",
     "output_type": "stream",
     "text": [
      "Index(['Prospect ID', 'Lead Number', 'Lead Origin', 'Lead Source',\n",
      "       'Do Not Email', 'Do Not Call', 'Converted', 'TotalVisits',\n",
      "       'Total Time Spent on Website', 'Page Views Per Visit', 'Last Activity',\n",
      "       'Country', 'Specialization', 'How did you hear about X Education',\n",
      "       'What is your current occupation',\n",
      "       'What matters most to you in choosing a course', 'Search', 'Magazine',\n",
      "       'Newspaper Article', 'X Education Forums', 'Newspaper',\n",
      "       'Digital Advertisement', 'Through Recommendations',\n",
      "       'Receive More Updates About Our Courses', 'Tags', 'Lead Quality',\n",
      "       'Update me on Supply Chain Content', 'Get updates on DM Content',\n",
      "       'Lead Profile', 'City', 'Asymmetrique Activity Index',\n",
      "       'Asymmetrique Profile Index', 'Asymmetrique Activity Score',\n",
      "       'Asymmetrique Profile Score',\n",
      "       'I agree to pay the amount through cheque',\n",
      "       'A free copy of Mastering The Interview', 'Last Notable Activity'],\n",
      "      dtype='object')\n",
      "(9240, 37)\n",
      "Prospect ID                                       object\n",
      "Lead Number                                        int64\n",
      "Lead Origin                                       object\n",
      "Lead Source                                       object\n",
      "Do Not Email                                      object\n",
      "Do Not Call                                       object\n",
      "Converted                                          int64\n",
      "TotalVisits                                      float64\n",
      "Total Time Spent on Website                        int64\n",
      "Page Views Per Visit                             float64\n",
      "Last Activity                                     object\n",
      "Country                                           object\n",
      "Specialization                                    object\n",
      "How did you hear about X Education                object\n",
      "What is your current occupation                   object\n",
      "What matters most to you in choosing a course     object\n",
      "Search                                            object\n",
      "Magazine                                          object\n",
      "Newspaper Article                                 object\n",
      "X Education Forums                                object\n",
      "Newspaper                                         object\n",
      "Digital Advertisement                             object\n",
      "Through Recommendations                           object\n",
      "Receive More Updates About Our Courses            object\n",
      "Tags                                              object\n",
      "Lead Quality                                      object\n",
      "Update me on Supply Chain Content                 object\n",
      "Get updates on DM Content                         object\n",
      "Lead Profile                                      object\n",
      "City                                              object\n",
      "Asymmetrique Activity Index                       object\n",
      "Asymmetrique Profile Index                        object\n",
      "Asymmetrique Activity Score                      float64\n",
      "Asymmetrique Profile Score                       float64\n",
      "I agree to pay the amount through cheque          object\n",
      "A free copy of Mastering The Interview            object\n",
      "Last Notable Activity                             object\n",
      "dtype: object\n"
     ]
    }
   ],
   "source": [
    "print(lead.columns) ##inspecting the columns\n",
    "print(lead.shape)   ##inspecting the shape\n",
    "print(lead.dtypes) ##inspecting the datatypes of variables"
   ]
  },
  {
   "cell_type": "code",
   "execution_count": 7,
   "metadata": {
    "colab": {
     "base_uri": "https://localhost:8080/",
     "height": 0
    },
    "colab_type": "code",
    "id": "GhxO9Xaw04Fk",
    "outputId": "54c8e0d9-8028-4e7d-d634-7b458ff63a79"
   },
   "outputs": [
    {
     "name": "stdout",
     "output_type": "stream",
     "text": [
      "<class 'pandas.core.frame.DataFrame'>\n",
      "RangeIndex: 9240 entries, 0 to 9239\n",
      "Data columns (total 37 columns):\n",
      "Prospect ID                                      9240 non-null object\n",
      "Lead Number                                      9240 non-null int64\n",
      "Lead Origin                                      9240 non-null object\n",
      "Lead Source                                      9204 non-null object\n",
      "Do Not Email                                     9240 non-null object\n",
      "Do Not Call                                      9240 non-null object\n",
      "Converted                                        9240 non-null int64\n",
      "TotalVisits                                      9103 non-null float64\n",
      "Total Time Spent on Website                      9240 non-null int64\n",
      "Page Views Per Visit                             9103 non-null float64\n",
      "Last Activity                                    9137 non-null object\n",
      "Country                                          6779 non-null object\n",
      "Specialization                                   7802 non-null object\n",
      "How did you hear about X Education               7033 non-null object\n",
      "What is your current occupation                  6550 non-null object\n",
      "What matters most to you in choosing a course    6531 non-null object\n",
      "Search                                           9240 non-null object\n",
      "Magazine                                         9240 non-null object\n",
      "Newspaper Article                                9240 non-null object\n",
      "X Education Forums                               9240 non-null object\n",
      "Newspaper                                        9240 non-null object\n",
      "Digital Advertisement                            9240 non-null object\n",
      "Through Recommendations                          9240 non-null object\n",
      "Receive More Updates About Our Courses           9240 non-null object\n",
      "Tags                                             5887 non-null object\n",
      "Lead Quality                                     4473 non-null object\n",
      "Update me on Supply Chain Content                9240 non-null object\n",
      "Get updates on DM Content                        9240 non-null object\n",
      "Lead Profile                                     6531 non-null object\n",
      "City                                             7820 non-null object\n",
      "Asymmetrique Activity Index                      5022 non-null object\n",
      "Asymmetrique Profile Index                       5022 non-null object\n",
      "Asymmetrique Activity Score                      5022 non-null float64\n",
      "Asymmetrique Profile Score                       5022 non-null float64\n",
      "I agree to pay the amount through cheque         9240 non-null object\n",
      "A free copy of Mastering The Interview           9240 non-null object\n",
      "Last Notable Activity                            9240 non-null object\n",
      "dtypes: float64(4), int64(3), object(30)\n",
      "memory usage: 2.6+ MB\n",
      "None\n",
      "         Lead Number    Converted  TotalVisits  Total Time Spent on Website  \\\n",
      "count    9240.000000  9240.000000  9103.000000                  9240.000000   \n",
      "mean   617188.435606     0.385390     3.445238                   487.698268   \n",
      "std     23405.995698     0.486714     4.854853                   548.021466   \n",
      "min    579533.000000     0.000000     0.000000                     0.000000   \n",
      "25%    596484.500000     0.000000     1.000000                    12.000000   \n",
      "50%    615479.000000     0.000000     3.000000                   248.000000   \n",
      "75%    637387.250000     1.000000     5.000000                   936.000000   \n",
      "max    660737.000000     1.000000   251.000000                  2272.000000   \n",
      "\n",
      "       Page Views Per Visit  Asymmetrique Activity Score  \\\n",
      "count           9103.000000                  5022.000000   \n",
      "mean               2.362820                    14.306252   \n",
      "std                2.161418                     1.386694   \n",
      "min                0.000000                     7.000000   \n",
      "25%                1.000000                    14.000000   \n",
      "50%                2.000000                    14.000000   \n",
      "75%                3.000000                    15.000000   \n",
      "max               55.000000                    18.000000   \n",
      "\n",
      "       Asymmetrique Profile Score  \n",
      "count                 5022.000000  \n",
      "mean                    16.344883  \n",
      "std                      1.811395  \n",
      "min                     11.000000  \n",
      "25%                     15.000000  \n",
      "50%                     16.000000  \n",
      "75%                     18.000000  \n",
      "max                     20.000000  \n"
     ]
    }
   ],
   "source": [
    "##further inspecting the datasets\n",
    "print(lead.info())     ##list down all the columns along with name ,no of non null values,datatype,memory usage\n",
    "print(lead.describe()) ##describe dataset's mean,std,min,25%,50%,75%,max"
   ]
  },
  {
   "cell_type": "markdown",
   "metadata": {
    "colab_type": "text",
    "id": "SJ476VD90-8p"
   },
   "source": [
    "## **DATA CLEANING** "
   ]
  },
  {
   "cell_type": "markdown",
   "metadata": {
    "colab_type": "text",
    "id": "b3hN0z931G3p"
   },
   "source": [
    "The following steps will be done in data cleaning process :\n",
    "    \n",
    "1. \"Select\" value will be replaced with NaN\n",
    "2. Calculating missing value percentage for each column and dropping score variables.\n",
    "3. Dropping the columns with high percentage of missing values.\n",
    "4. Checking the unique category for each column.\n",
    "5.  If the columns is highly skewed with one category,such columns will be dropped.\n",
    "    Combining different categories of the columns with less percentage values into \"Others\" category.\n",
    "6. Imputing the column with least missing values percentage.\n",
    "7. Finally Checking for the number of rows retained after performing all the above steps."
   ]
  },
  {
   "cell_type": "markdown",
   "metadata": {
    "colab_type": "text",
    "id": "_Qmo-NZR1KqU"
   },
   "source": [
    "### ***Replace all Select values in the dataframe with np.nan***"
   ]
  },
  {
   "cell_type": "markdown",
   "metadata": {
    "colab_type": "text",
    "id": "zZFb8z872YMO"
   },
   "source": [
    "**Reason to remove the select variable :** Select variable does not provide any information regarding the data, It just means that the user has not answered anything for the particular question and it is better to treat them as missing values."
   ]
  },
  {
   "cell_type": "code",
   "execution_count": 8,
   "metadata": {
    "colab": {
     "base_uri": "https://localhost:8080/",
     "height": 635
    },
    "colab_type": "code",
    "id": "dmECj5Wa2Iro",
    "outputId": "360f5ac3-3300-4ad1-e9b2-ee66ee45e5b2"
   },
   "outputs": [
    {
     "name": "stdout",
     "output_type": "stream",
     "text": [
      "Prospect ID                                      False\n",
      "Lead Number                                      False\n",
      "Lead Origin                                      False\n",
      "Lead Source                                      False\n",
      "Do Not Email                                     False\n",
      "Do Not Call                                      False\n",
      "Converted                                        False\n",
      "TotalVisits                                      False\n",
      "Total Time Spent on Website                      False\n",
      "Page Views Per Visit                             False\n",
      "Last Activity                                    False\n",
      "Country                                          False\n",
      "Specialization                                    True\n",
      "How did you hear about X Education                True\n",
      "What is your current occupation                  False\n",
      "What matters most to you in choosing a course    False\n",
      "Search                                           False\n",
      "Magazine                                         False\n",
      "Newspaper Article                                False\n",
      "X Education Forums                               False\n",
      "Newspaper                                        False\n",
      "Digital Advertisement                            False\n",
      "Through Recommendations                          False\n",
      "Receive More Updates About Our Courses           False\n",
      "Tags                                             False\n",
      "Lead Quality                                     False\n",
      "Update me on Supply Chain Content                False\n",
      "Get updates on DM Content                        False\n",
      "Lead Profile                                      True\n",
      "City                                              True\n",
      "Asymmetrique Activity Index                      False\n",
      "Asymmetrique Profile Index                       False\n",
      "Asymmetrique Activity Score                      False\n",
      "Asymmetrique Profile Score                       False\n",
      "I agree to pay the amount through cheque         False\n",
      "A free copy of Mastering The Interview           False\n",
      "Last Notable Activity                            False\n",
      "dtype: bool\n"
     ]
    }
   ],
   "source": [
    "#Inspecting all the columns with Select variable in the dataframe.\n",
    "colsHavingSelect = lead.isin([\"Select\"]).any()\n",
    "print(colsHavingSelect)"
   ]
  },
  {
   "cell_type": "code",
   "execution_count": 9,
   "metadata": {
    "colab": {},
    "colab_type": "code",
    "id": "wO7l4xZV1CvH"
   },
   "outputs": [],
   "source": [
    "# df.replace() will replace all the occurances of the given string to missing values.\n",
    "lead.replace('Select', np.nan,inplace=True)"
   ]
  },
  {
   "cell_type": "markdown",
   "metadata": {
    "colab_type": "text",
    "id": "fFcFpl4P3E7f"
   },
   "source": [
    "### ***Calculating the missing value percentage in each column***"
   ]
  },
  {
   "cell_type": "code",
   "execution_count": 10,
   "metadata": {
    "colab": {
     "base_uri": "https://localhost:8080/",
     "height": 635
    },
    "colab_type": "code",
    "id": "06k91aHb1fGt",
    "outputId": "079c3b86-ea8b-45dd-8e25-fa08c715d5cc"
   },
   "outputs": [
    {
     "name": "stdout",
     "output_type": "stream",
     "text": [
      "Prospect ID                                       0.00\n",
      "Lead Number                                       0.00\n",
      "Lead Origin                                       0.00\n",
      "Lead Source                                       0.39\n",
      "Do Not Email                                      0.00\n",
      "Do Not Call                                       0.00\n",
      "Converted                                         0.00\n",
      "TotalVisits                                       1.48\n",
      "Total Time Spent on Website                       0.00\n",
      "Page Views Per Visit                              1.48\n",
      "Last Activity                                     1.11\n",
      "Country                                          26.63\n",
      "Specialization                                   36.58\n",
      "How did you hear about X Education               78.46\n",
      "What is your current occupation                  29.11\n",
      "What matters most to you in choosing a course    29.32\n",
      "Search                                            0.00\n",
      "Magazine                                          0.00\n",
      "Newspaper Article                                 0.00\n",
      "X Education Forums                                0.00\n",
      "Newspaper                                         0.00\n",
      "Digital Advertisement                             0.00\n",
      "Through Recommendations                           0.00\n",
      "Receive More Updates About Our Courses            0.00\n",
      "Tags                                             36.29\n",
      "Lead Quality                                     51.59\n",
      "Update me on Supply Chain Content                 0.00\n",
      "Get updates on DM Content                         0.00\n",
      "Lead Profile                                     74.19\n",
      "City                                             39.71\n",
      "Asymmetrique Activity Index                      45.65\n",
      "Asymmetrique Profile Index                       45.65\n",
      "Asymmetrique Activity Score                      45.65\n",
      "Asymmetrique Profile Score                       45.65\n",
      "I agree to pay the amount through cheque          0.00\n",
      "A free copy of Mastering The Interview            0.00\n",
      "Last Notable Activity                             0.00\n",
      "dtype: float64\n"
     ]
    }
   ],
   "source": [
    "#Percentage of missing values in each column.\n",
    "nullseries = round(lead.isnull().sum() * 100 / len(lead),2)\n",
    "print(nullseries)"
   ]
  },
  {
   "cell_type": "markdown",
   "metadata": {
    "colab_type": "text",
    "id": "Gt2Mzwk03P5-"
   },
   "source": [
    "From the above snippet result, we can see that there are high missing value percentages in many columns and we must remove them."
   ]
  },
  {
   "cell_type": "markdown",
   "metadata": {
    "colab_type": "text",
    "id": "DerJ4dvY3fZN"
   },
   "source": [
    "### ***Data Cleaning - Removing (Score variable) all unnecessary information from the dataframe***"
   ]
  },
  {
   "cell_type": "markdown",
   "metadata": {
    "colab_type": "text",
    "id": "cueYPawZ313X"
   },
   "source": [
    "**Reason to remove score variables :** Score variable are those variables in the dataframe where the sales team has already contacted the lead, since the lead has already been contacted it does not add more value to our analysis, So we drop these variables."
   ]
  },
  {
   "cell_type": "markdown",
   "metadata": {
    "colab_type": "text",
    "id": "I4qGM4by3qf1"
   },
   "source": [
    "**Dropping the below score variable first**\n",
    "\n",
    "- Tags\n",
    "- Lead Quality\n",
    "- Lead Profile\n",
    "- Asymmetrique Activity Index\n",
    "- Asymmetrique Profile Index\n",
    "- Asymmetrique Activity Score\n",
    "- Asymmetrique Profile Score "
   ]
  },
  {
   "cell_type": "code",
   "execution_count": 11,
   "metadata": {
    "colab": {},
    "colab_type": "code",
    "id": "I3295IHU3cuu"
   },
   "outputs": [],
   "source": [
    "#Dropping all score variables in the dataframe.\n",
    "lead.drop(['Tags','Lead Quality','Lead Profile','Asymmetrique Activity Index','Asymmetrique Profile Index','Asymmetrique Activity Score','Asymmetrique Profile Score'],axis=1,inplace=True)"
   ]
  },
  {
   "cell_type": "code",
   "execution_count": 12,
   "metadata": {
    "colab": {
     "base_uri": "https://localhost:8080/",
     "height": 228
    },
    "colab_type": "code",
    "id": "XMF0AUfU4e9t",
    "outputId": "fb6d2a66-6289-4dcd-8383-d0c87697d2cd"
   },
   "outputs": [
    {
     "data": {
      "text/plain": [
       "Index(['Prospect ID', 'Lead Number', 'Lead Origin', 'Lead Source',\n",
       "       'Do Not Email', 'Do Not Call', 'Converted', 'TotalVisits',\n",
       "       'Total Time Spent on Website', 'Page Views Per Visit', 'Last Activity',\n",
       "       'Country', 'Specialization', 'How did you hear about X Education',\n",
       "       'What is your current occupation',\n",
       "       'What matters most to you in choosing a course', 'Search', 'Magazine',\n",
       "       'Newspaper Article', 'X Education Forums', 'Newspaper',\n",
       "       'Digital Advertisement', 'Through Recommendations',\n",
       "       'Receive More Updates About Our Courses',\n",
       "       'Update me on Supply Chain Content', 'Get updates on DM Content',\n",
       "       'City', 'I agree to pay the amount through cheque',\n",
       "       'A free copy of Mastering The Interview', 'Last Notable Activity'],\n",
       "      dtype='object')"
      ]
     },
     "execution_count": 12,
     "metadata": {},
     "output_type": "execute_result"
    }
   ],
   "source": [
    "#When we inspect the column we can see that above score variables are removed.\n",
    "lead.columns"
   ]
  },
  {
   "cell_type": "code",
   "execution_count": 13,
   "metadata": {
    "colab": {},
    "colab_type": "code",
    "id": "aZ_5iOYTDf_v"
   },
   "outputs": [],
   "source": [
    "#We also remove the 'Last Notable Activity' column as this column is recorded once the Sales team is in contact with the lead.\n",
    "lead.drop('Last Notable Activity', axis = 1, inplace=True)"
   ]
  },
  {
   "cell_type": "code",
   "execution_count": 14,
   "metadata": {
    "colab": {
     "base_uri": "https://localhost:8080/",
     "height": 505
    },
    "colab_type": "code",
    "id": "PGwbGZv14pYc",
    "outputId": "3c5af3a9-f0e1-4693-d19a-1f424968f061"
   },
   "outputs": [
    {
     "name": "stdout",
     "output_type": "stream",
     "text": [
      "Prospect ID                                       0.00\n",
      "Lead Number                                       0.00\n",
      "Lead Origin                                       0.00\n",
      "Lead Source                                       0.39\n",
      "Do Not Email                                      0.00\n",
      "Do Not Call                                       0.00\n",
      "Converted                                         0.00\n",
      "TotalVisits                                       1.48\n",
      "Total Time Spent on Website                       0.00\n",
      "Page Views Per Visit                              1.48\n",
      "Last Activity                                     1.11\n",
      "Country                                          26.63\n",
      "Specialization                                   36.58\n",
      "How did you hear about X Education               78.46\n",
      "What is your current occupation                  29.11\n",
      "What matters most to you in choosing a course    29.32\n",
      "Search                                            0.00\n",
      "Magazine                                          0.00\n",
      "Newspaper Article                                 0.00\n",
      "X Education Forums                                0.00\n",
      "Newspaper                                         0.00\n",
      "Digital Advertisement                             0.00\n",
      "Through Recommendations                           0.00\n",
      "Receive More Updates About Our Courses            0.00\n",
      "Update me on Supply Chain Content                 0.00\n",
      "Get updates on DM Content                         0.00\n",
      "City                                             39.71\n",
      "I agree to pay the amount through cheque          0.00\n",
      "A free copy of Mastering The Interview            0.00\n",
      "dtype: float64\n"
     ]
    }
   ],
   "source": [
    "#Percentage of missing values in each column.\n",
    "nullseries = round(lead.isnull().sum() * 100 / len(lead),2)\n",
    "print(nullseries)"
   ]
  },
  {
   "cell_type": "markdown",
   "metadata": {
    "colab_type": "text",
    "id": "BHhw3CIX5B5T"
   },
   "source": [
    "### ***Data Cleaning - Treating all missing values in the dataframe (~40%)***"
   ]
  },
  {
   "cell_type": "markdown",
   "metadata": {
    "colab_type": "text",
    "id": "kHeFjXYH5Rzm"
   },
   "source": [
    "**Drop columns that has missing value percentage of about 38-40% approximately.**"
   ]
  },
  {
   "cell_type": "code",
   "execution_count": 15,
   "metadata": {
    "colab": {
     "base_uri": "https://localhost:8080/",
     "height": 66
    },
    "colab_type": "code",
    "id": "QOQBeDU74wPs",
    "outputId": "55d32776-6ed7-4d9f-d1f0-b297f7154333"
   },
   "outputs": [
    {
     "name": "stdout",
     "output_type": "stream",
     "text": [
      "How did you hear about X Education    78.46\n",
      "City                                  39.71\n",
      "dtype: float64\n"
     ]
    }
   ],
   "source": [
    "##Checking columns having null value greater than or equal to 38%\n",
    "print(nullseries[nullseries >= 38])"
   ]
  },
  {
   "cell_type": "code",
   "execution_count": 16,
   "metadata": {
    "colab": {},
    "colab_type": "code",
    "id": "cCTBDLJm5mNx"
   },
   "outputs": [],
   "source": [
    "#Dropping all columns having a missing value percentage greater than 38%.\n",
    "lead = lead.drop(lead.loc[:,list((100*(lead.isnull().sum()/len(lead.index))>=38))].columns, 1)"
   ]
  },
  {
   "cell_type": "code",
   "execution_count": 17,
   "metadata": {
    "colab": {
     "base_uri": "https://localhost:8080/",
     "height": 472
    },
    "colab_type": "code",
    "id": "u4ZOu6dk5opJ",
    "outputId": "4e1dd0bf-0515-402a-efce-1c883c27fc79"
   },
   "outputs": [
    {
     "name": "stdout",
     "output_type": "stream",
     "text": [
      "Prospect ID                                       0.00\n",
      "Lead Number                                       0.00\n",
      "Lead Origin                                       0.00\n",
      "Lead Source                                       0.39\n",
      "Do Not Email                                      0.00\n",
      "Do Not Call                                       0.00\n",
      "Converted                                         0.00\n",
      "TotalVisits                                       1.48\n",
      "Total Time Spent on Website                       0.00\n",
      "Page Views Per Visit                              1.48\n",
      "Last Activity                                     1.11\n",
      "Country                                          26.63\n",
      "Specialization                                   36.58\n",
      "What is your current occupation                  29.11\n",
      "What matters most to you in choosing a course    29.32\n",
      "Search                                            0.00\n",
      "Magazine                                          0.00\n",
      "Newspaper Article                                 0.00\n",
      "X Education Forums                                0.00\n",
      "Newspaper                                         0.00\n",
      "Digital Advertisement                             0.00\n",
      "Through Recommendations                           0.00\n",
      "Receive More Updates About Our Courses            0.00\n",
      "Update me on Supply Chain Content                 0.00\n",
      "Get updates on DM Content                         0.00\n",
      "I agree to pay the amount through cheque          0.00\n",
      "A free copy of Mastering The Interview            0.00\n",
      "dtype: float64\n"
     ]
    }
   ],
   "source": [
    "#Percentage of missing values in each column.\n",
    "nullseries = round(lead.isnull().sum() * 100 / len(lead),2)\n",
    "print(nullseries)"
   ]
  },
  {
   "cell_type": "markdown",
   "metadata": {
    "colab_type": "text",
    "id": "PdRip4ra5rc8"
   },
   "source": [
    "### ***Data Cleaning - Checking for unique category - Combining categories  having low values to make a meaningful category***"
   ]
  },
  {
   "cell_type": "code",
   "execution_count": 18,
   "metadata": {
    "colab": {
     "base_uri": "https://localhost:8080/",
     "height": 115
    },
    "colab_type": "code",
    "id": "LilZ-5YI58L7",
    "outputId": "d039cca2-4fc0-4f8e-f5dc-e5237333764d"
   },
   "outputs": [
    {
     "data": {
      "text/plain": [
       "Landing Page Submission    0.528788\n",
       "API                        0.387446\n",
       "Lead Add Form              0.077706\n",
       "Lead Import                0.005952\n",
       "Quick Add Form             0.000108\n",
       "Name: Lead Origin, dtype: float64"
      ]
     },
     "execution_count": 18,
     "metadata": {},
     "output_type": "execute_result"
    }
   ],
   "source": [
    "# Checking uniqueness in all categorical variables\n",
    "lead['Lead Origin'].value_counts(normalize=True)"
   ]
  },
  {
   "cell_type": "code",
   "execution_count": 19,
   "metadata": {
    "colab": {
     "base_uri": "https://localhost:8080/",
     "height": 375
    },
    "colab_type": "code",
    "id": "82X6NBvp88lz",
    "outputId": "78ecb01e-fb04-4141-9208-f8869741b70f"
   },
   "outputs": [
    {
     "data": {
      "text/plain": [
       "Google               0.311604\n",
       "Direct Traffic       0.276293\n",
       "Olark Chat           0.190678\n",
       "Organic Search       0.125380\n",
       "Reference            0.058018\n",
       "Welingak Website     0.015428\n",
       "Referral Sites       0.013581\n",
       "Facebook             0.005976\n",
       "bing                 0.000652\n",
       "google               0.000543\n",
       "Click2call           0.000435\n",
       "Social Media         0.000217\n",
       "Live Chat            0.000217\n",
       "Press_Release        0.000217\n",
       "testone              0.000109\n",
       "Pay per Click Ads    0.000109\n",
       "NC_EDM               0.000109\n",
       "WeLearn              0.000109\n",
       "blog                 0.000109\n",
       "youtubechannel       0.000109\n",
       "welearnblog_Home     0.000109\n",
       "Name: Lead Source, dtype: float64"
      ]
     },
     "execution_count": 19,
     "metadata": {},
     "output_type": "execute_result"
    }
   ],
   "source": [
    "# Checking uniqueness in all categorical variables\n",
    "lead['Lead Source'].value_counts(normalize=True)"
   ]
  },
  {
   "cell_type": "code",
   "execution_count": 20,
   "metadata": {
    "colab": {
     "base_uri": "https://localhost:8080/",
     "height": 66
    },
    "colab_type": "code",
    "id": "IDfcgUcw9A85",
    "outputId": "795cf72f-ae05-453c-e430-e2e616a6ed61"
   },
   "outputs": [
    {
     "data": {
      "text/plain": [
       "No     0.920563\n",
       "Yes    0.079437\n",
       "Name: Do Not Email, dtype: float64"
      ]
     },
     "execution_count": 20,
     "metadata": {},
     "output_type": "execute_result"
    }
   ],
   "source": [
    "# Checking uniqueness in all categorical variables\n",
    "lead['Do Not Email'].value_counts(normalize=True)"
   ]
  },
  {
   "cell_type": "code",
   "execution_count": 21,
   "metadata": {
    "colab": {
     "base_uri": "https://localhost:8080/",
     "height": 66
    },
    "colab_type": "code",
    "id": "QRkD_6vN9Flq",
    "outputId": "4b9571e2-2076-41c2-82c5-2f31a8597b83"
   },
   "outputs": [
    {
     "data": {
      "text/plain": [
       "No     0.999784\n",
       "Yes    0.000216\n",
       "Name: Do Not Call, dtype: float64"
      ]
     },
     "execution_count": 21,
     "metadata": {},
     "output_type": "execute_result"
    }
   ],
   "source": [
    "# Checking uniqueness in all categorical variables\n",
    "lead['Do Not Call'].value_counts(normalize=True)"
   ]
  },
  {
   "cell_type": "code",
   "execution_count": 22,
   "metadata": {
    "colab": {
     "base_uri": "https://localhost:8080/",
     "height": 310
    },
    "colab_type": "code",
    "id": "17aBnT8Z9Its",
    "outputId": "bbb8b3df-2c33-40e8-864f-af142684f637"
   },
   "outputs": [
    {
     "data": {
      "text/plain": [
       "Email Opened                    0.376163\n",
       "SMS Sent                        0.300427\n",
       "Olark Chat Conversation         0.106490\n",
       "Page Visited on Website         0.070045\n",
       "Converted to Lead               0.046843\n",
       "Email Bounced                   0.035679\n",
       "Email Link Clicked              0.029222\n",
       "Form Submitted on Website       0.012696\n",
       "Unreachable                     0.010178\n",
       "Unsubscribed                    0.006676\n",
       "Had a Phone Conversation        0.003283\n",
       "Approached upfront              0.000985\n",
       "View in browser link Clicked    0.000657\n",
       "Email Marked Spam               0.000219\n",
       "Email Received                  0.000219\n",
       "Resubscribed to emails          0.000109\n",
       "Visited Booth in Tradeshow      0.000109\n",
       "Name: Last Activity, dtype: float64"
      ]
     },
     "execution_count": 22,
     "metadata": {},
     "output_type": "execute_result"
    }
   ],
   "source": [
    "# Checking uniqueness in all categorical variables\n",
    "lead['Last Activity'].value_counts(normalize=True)"
   ]
  },
  {
   "cell_type": "code",
   "execution_count": 23,
   "metadata": {
    "colab": {
     "base_uri": "https://localhost:8080/",
     "height": 651
    },
    "colab_type": "code",
    "id": "Zeou222n9OMy",
    "outputId": "f4f9b440-9ce0-4839-a4c8-506c962d14fc"
   },
   "outputs": [
    {
     "data": {
      "text/plain": [
       "India                   0.957663\n",
       "United States           0.010178\n",
       "United Arab Emirates    0.007818\n",
       "Singapore               0.003540\n",
       "Saudi Arabia            0.003098\n",
       "United Kingdom          0.002213\n",
       "Australia               0.001918\n",
       "Qatar                   0.001475\n",
       "Hong Kong               0.001033\n",
       "Bahrain                 0.001033\n",
       "France                  0.000885\n",
       "Oman                    0.000885\n",
       "unknown                 0.000738\n",
       "Canada                  0.000590\n",
       "Nigeria                 0.000590\n",
       "Kuwait                  0.000590\n",
       "South Africa            0.000590\n",
       "Germany                 0.000590\n",
       "Sweden                  0.000443\n",
       "Italy                   0.000295\n",
       "Ghana                   0.000295\n",
       "China                   0.000295\n",
       "Uganda                  0.000295\n",
       "Netherlands             0.000295\n",
       "Philippines             0.000295\n",
       "Belgium                 0.000295\n",
       "Asia/Pacific Region     0.000295\n",
       "Bangladesh              0.000295\n",
       "Sri Lanka               0.000148\n",
       "Liberia                 0.000148\n",
       "Russia                  0.000148\n",
       "Denmark                 0.000148\n",
       "Indonesia               0.000148\n",
       "Switzerland             0.000148\n",
       "Kenya                   0.000148\n",
       "Vietnam                 0.000148\n",
       "Tanzania                0.000148\n",
       "Malaysia                0.000148\n",
       "Name: Country, dtype: float64"
      ]
     },
     "execution_count": 23,
     "metadata": {},
     "output_type": "execute_result"
    }
   ],
   "source": [
    "# Checking uniqueness in all categorical variables\n",
    "lead['Country'].value_counts(normalize=True)"
   ]
  },
  {
   "cell_type": "code",
   "execution_count": 24,
   "metadata": {
    "colab": {
     "base_uri": "https://localhost:8080/",
     "height": 326
    },
    "colab_type": "code",
    "id": "dvp0HV2U9TMm",
    "outputId": "986294e3-72cc-4fba-9cde-9e6ae6e4b1a4"
   },
   "outputs": [
    {
     "data": {
      "text/plain": [
       "Finance Management                   0.166553\n",
       "Human Resource Management            0.144710\n",
       "Marketing Management                 0.143003\n",
       "Operations Management                0.085836\n",
       "Business Administration              0.068771\n",
       "IT Projects Management               0.062457\n",
       "Supply Chain Management              0.059556\n",
       "Banking, Investment And Insurance    0.057679\n",
       "Travel and Tourism                   0.034642\n",
       "Media and Advertising                0.034642\n",
       "International Business               0.030375\n",
       "Healthcare Management                0.027133\n",
       "Hospitality Management               0.019454\n",
       "E-COMMERCE                           0.019113\n",
       "Retail Management                    0.017065\n",
       "Rural and Agribusiness               0.012457\n",
       "E-Business                           0.009727\n",
       "Services Excellence                  0.006826\n",
       "Name: Specialization, dtype: float64"
      ]
     },
     "execution_count": 24,
     "metadata": {},
     "output_type": "execute_result"
    }
   ],
   "source": [
    "# Checking uniqueness in all categorical variables\n",
    "lead['Specialization'].value_counts(normalize=True)"
   ]
  },
  {
   "cell_type": "code",
   "execution_count": 25,
   "metadata": {
    "colab": {
     "base_uri": "https://localhost:8080/",
     "height": 131
    },
    "colab_type": "code",
    "id": "fKYiRNDu9WND",
    "outputId": "733ecd9b-cb12-4655-88a2-21bdc9c03a9a"
   },
   "outputs": [
    {
     "data": {
      "text/plain": [
       "Unemployed              0.854962\n",
       "Working Professional    0.107786\n",
       "Student                 0.032061\n",
       "Other                   0.002443\n",
       "Housewife               0.001527\n",
       "Businessman             0.001221\n",
       "Name: What is your current occupation, dtype: float64"
      ]
     },
     "execution_count": 25,
     "metadata": {},
     "output_type": "execute_result"
    }
   ],
   "source": [
    "# Checking uniqueness in all categorical variables\n",
    "lead['What is your current occupation'].value_counts(normalize=True)"
   ]
  },
  {
   "cell_type": "code",
   "execution_count": 26,
   "metadata": {
    "colab": {
     "base_uri": "https://localhost:8080/",
     "height": 82
    },
    "colab_type": "code",
    "id": "cyvD1XWh9d0I",
    "outputId": "c786fbc1-3aee-4096-ae76-6bc877a6b8f6"
   },
   "outputs": [
    {
     "data": {
      "text/plain": [
       "Better Career Prospects      0.999541\n",
       "Flexibility & Convenience    0.000306\n",
       "Other                        0.000153\n",
       "Name: What matters most to you in choosing a course, dtype: float64"
      ]
     },
     "execution_count": 26,
     "metadata": {},
     "output_type": "execute_result"
    }
   ],
   "source": [
    "# Checking uniqueness in all categorical variables\n",
    "lead['What matters most to you in choosing a course'].value_counts(normalize=True) "
   ]
  },
  {
   "cell_type": "code",
   "execution_count": 27,
   "metadata": {
    "colab": {
     "base_uri": "https://localhost:8080/",
     "height": 66
    },
    "colab_type": "code",
    "id": "tlfSopeD9hH9",
    "outputId": "299c3095-e459-4ffd-a6db-7c52711e8835"
   },
   "outputs": [
    {
     "data": {
      "text/plain": [
       "No     0.998485\n",
       "Yes    0.001515\n",
       "Name: Search, dtype: float64"
      ]
     },
     "execution_count": 27,
     "metadata": {},
     "output_type": "execute_result"
    }
   ],
   "source": [
    "# Checking uniqueness in all categorical variables\n",
    "lead['Search'].value_counts(normalize=True) "
   ]
  },
  {
   "cell_type": "code",
   "execution_count": 28,
   "metadata": {
    "colab": {
     "base_uri": "https://localhost:8080/",
     "height": 50
    },
    "colab_type": "code",
    "id": "RM_R3i_c9kSp",
    "outputId": "868a3cac-58c5-4648-fce6-5fbb884e06b8"
   },
   "outputs": [
    {
     "data": {
      "text/plain": [
       "No    1.0\n",
       "Name: Magazine, dtype: float64"
      ]
     },
     "execution_count": 28,
     "metadata": {},
     "output_type": "execute_result"
    }
   ],
   "source": [
    "# Checking uniqueness in all categorical variables\n",
    "lead['Magazine'].value_counts(normalize=True) "
   ]
  },
  {
   "cell_type": "code",
   "execution_count": 29,
   "metadata": {
    "colab": {
     "base_uri": "https://localhost:8080/",
     "height": 66
    },
    "colab_type": "code",
    "id": "qqebuDhZ9uFy",
    "outputId": "451cd5b4-a73f-4c46-a6e5-db5054a32a87"
   },
   "outputs": [
    {
     "data": {
      "text/plain": [
       "No     0.999784\n",
       "Yes    0.000216\n",
       "Name: Newspaper Article, dtype: float64"
      ]
     },
     "execution_count": 29,
     "metadata": {},
     "output_type": "execute_result"
    }
   ],
   "source": [
    "# Checking uniqueness in all categorical variables\n",
    "lead['Newspaper Article'].value_counts(normalize=True) "
   ]
  },
  {
   "cell_type": "code",
   "execution_count": 30,
   "metadata": {
    "colab": {
     "base_uri": "https://localhost:8080/",
     "height": 66
    },
    "colab_type": "code",
    "id": "NSqITleT9yT3",
    "outputId": "66b61321-6579-402c-dae1-bf26281c47a5"
   },
   "outputs": [
    {
     "data": {
      "text/plain": [
       "No     0.999892\n",
       "Yes    0.000108\n",
       "Name: X Education Forums, dtype: float64"
      ]
     },
     "execution_count": 30,
     "metadata": {},
     "output_type": "execute_result"
    }
   ],
   "source": [
    "# Checking uniqueness in all categorical variables\n",
    "lead['X Education Forums'].value_counts(normalize=True) "
   ]
  },
  {
   "cell_type": "code",
   "execution_count": 31,
   "metadata": {
    "colab": {
     "base_uri": "https://localhost:8080/",
     "height": 66
    },
    "colab_type": "code",
    "id": "8KtyT-I-92Cj",
    "outputId": "c8ee3b01-c1b5-4cdd-aa3a-abba8e7069fc"
   },
   "outputs": [
    {
     "data": {
      "text/plain": [
       "No     0.999567\n",
       "Yes    0.000433\n",
       "Name: Digital Advertisement, dtype: float64"
      ]
     },
     "execution_count": 31,
     "metadata": {},
     "output_type": "execute_result"
    }
   ],
   "source": [
    "# Checking uniqueness in all categorical variables\n",
    "lead['Digital Advertisement'].value_counts(normalize=True) "
   ]
  },
  {
   "cell_type": "code",
   "execution_count": 32,
   "metadata": {
    "colab": {
     "base_uri": "https://localhost:8080/",
     "height": 66
    },
    "colab_type": "code",
    "id": "M6F8QRSj95nm",
    "outputId": "898873f1-9629-471e-f3a6-a525a3417514"
   },
   "outputs": [
    {
     "data": {
      "text/plain": [
       "No     0.999242\n",
       "Yes    0.000758\n",
       "Name: Through Recommendations, dtype: float64"
      ]
     },
     "execution_count": 32,
     "metadata": {},
     "output_type": "execute_result"
    }
   ],
   "source": [
    "# Checking uniqueness in all categorical variables\n",
    "lead['Through Recommendations'].value_counts(normalize=True) "
   ]
  },
  {
   "cell_type": "code",
   "execution_count": 33,
   "metadata": {
    "colab": {
     "base_uri": "https://localhost:8080/",
     "height": 50
    },
    "colab_type": "code",
    "id": "3BfkF9Fo9-Y0",
    "outputId": "37f05ebf-a796-4964-b640-05154211138e"
   },
   "outputs": [
    {
     "data": {
      "text/plain": [
       "No    1.0\n",
       "Name: Receive More Updates About Our Courses, dtype: float64"
      ]
     },
     "execution_count": 33,
     "metadata": {},
     "output_type": "execute_result"
    }
   ],
   "source": [
    "# Checking uniqueness in all categorical variables\n",
    "lead['Receive More Updates About Our Courses'].value_counts(normalize=True) "
   ]
  },
  {
   "cell_type": "code",
   "execution_count": 34,
   "metadata": {
    "colab": {
     "base_uri": "https://localhost:8080/",
     "height": 50
    },
    "colab_type": "code",
    "id": "o-3qTr1t-A-q",
    "outputId": "0caf8a84-b0b0-4e40-9378-ffb4ebe86c63"
   },
   "outputs": [
    {
     "data": {
      "text/plain": [
       "No    1.0\n",
       "Name: Get updates on DM Content, dtype: float64"
      ]
     },
     "execution_count": 34,
     "metadata": {},
     "output_type": "execute_result"
    }
   ],
   "source": [
    "# Checking uniqueness in all categorical variables\n",
    "lead['Get updates on DM Content'].value_counts(normalize=True) "
   ]
  },
  {
   "cell_type": "code",
   "execution_count": 35,
   "metadata": {
    "colab": {
     "base_uri": "https://localhost:8080/",
     "height": 50
    },
    "colab_type": "code",
    "id": "coXFmCVO-EWA",
    "outputId": "5a2298d8-d1dd-4446-aafe-8c54db6e0199"
   },
   "outputs": [
    {
     "data": {
      "text/plain": [
       "No    1.0\n",
       "Name: Update me on Supply Chain Content, dtype: float64"
      ]
     },
     "execution_count": 35,
     "metadata": {},
     "output_type": "execute_result"
    }
   ],
   "source": [
    "# Checking uniqueness in all categorical variable\n",
    "lead['Update me on Supply Chain Content'].value_counts(normalize=True) "
   ]
  },
  {
   "cell_type": "code",
   "execution_count": 36,
   "metadata": {
    "colab": {
     "base_uri": "https://localhost:8080/",
     "height": 50
    },
    "colab_type": "code",
    "id": "GMDiRCQ8-Vb-",
    "outputId": "81c374dd-1833-4031-f6b8-74ac8ac23dcb"
   },
   "outputs": [
    {
     "data": {
      "text/plain": [
       "No    1.0\n",
       "Name: I agree to pay the amount through cheque, dtype: float64"
      ]
     },
     "execution_count": 36,
     "metadata": {},
     "output_type": "execute_result"
    }
   ],
   "source": [
    "# Checking uniqueness in all categorical variable\n",
    "lead['I agree to pay the amount through cheque'].value_counts(normalize=True) "
   ]
  },
  {
   "cell_type": "code",
   "execution_count": 37,
   "metadata": {
    "colab": {
     "base_uri": "https://localhost:8080/",
     "height": 66
    },
    "colab_type": "code",
    "id": "geOR2wXX-Xec",
    "outputId": "74b0ef5d-e91e-47f2-d319-84757397d27f"
   },
   "outputs": [
    {
     "data": {
      "text/plain": [
       "No     0.687446\n",
       "Yes    0.312554\n",
       "Name: A free copy of Mastering The Interview, dtype: float64"
      ]
     },
     "execution_count": 37,
     "metadata": {},
     "output_type": "execute_result"
    }
   ],
   "source": [
    "# Checking uniqueness in all categorical variable\n",
    "lead['A free copy of Mastering The Interview'].value_counts(normalize=True) "
   ]
  },
  {
   "cell_type": "markdown",
   "metadata": {
    "colab_type": "text",
    "id": "p287E9mL_Weg"
   },
   "source": [
    "Columns to drop\n",
    "\n",
    "- Do Not Email\n",
    "- Do Not Call\n",
    "- Country \n",
    "- What matters most to you in choosing a course \n",
    "- Search\n",
    "- Magazine\n",
    "- Newspaper Article  \n",
    "- X Education Forums\n",
    "- Newspaper\n",
    "- Digital Advertisement \n",
    "- Through Recommendations\n",
    "- Receive More Updates About Our Courses \n",
    "- Update me on Supply Chain Content\n",
    "- Get updates on DM Content \n",
    "- I agree to pay the amount through cheque"
   ]
  },
  {
   "cell_type": "markdown",
   "metadata": {
    "colab_type": "text",
    "id": "IWZDEj7P_gW9"
   },
   "source": [
    "### ***Data Cleaning - Dropping Highly Skewed Columns***"
   ]
  },
  {
   "cell_type": "markdown",
   "metadata": {
    "colab_type": "text",
    "id": "V5WOXDSs_q-G"
   },
   "source": [
    "**Dropping highky skewed columns is important because:** there is a high data imbalance amongst the columns and it does not add more value to model building."
   ]
  },
  {
   "cell_type": "code",
   "execution_count": 38,
   "metadata": {
    "colab": {},
    "colab_type": "code",
    "id": "PdSXK80v_Z5z"
   },
   "outputs": [],
   "source": [
    "#Using drop to remove columns with high data imbalance \n",
    "lead.drop(['Do Not Email','Do Not Call','Country','What matters most to you in choosing a course', \n",
    "'Search','Magazine','Newspaper Article', 'X Education Forums','Newspaper','Digital Advertisement','Through Recommendations',\n",
    "'Receive More Updates About Our Courses', 'Update me on Supply Chain Content','Get updates on DM Content', \n",
    "'I agree to pay the amount through cheque'],axis=1,inplace=True)"
   ]
  },
  {
   "cell_type": "code",
   "execution_count": 39,
   "metadata": {
    "colab": {
     "base_uri": "https://localhost:8080/",
     "height": 98
    },
    "colab_type": "code",
    "id": "gQDavzVx_9lM",
    "outputId": "3dcf160e-8539-4e3f-f5be-0e09a5830299"
   },
   "outputs": [
    {
     "data": {
      "text/plain": [
       "Index(['Prospect ID', 'Lead Number', 'Lead Origin', 'Lead Source', 'Converted',\n",
       "       'TotalVisits', 'Total Time Spent on Website', 'Page Views Per Visit',\n",
       "       'Last Activity', 'Specialization', 'What is your current occupation',\n",
       "       'A free copy of Mastering The Interview'],\n",
       "      dtype='object')"
      ]
     },
     "execution_count": 39,
     "metadata": {},
     "output_type": "execute_result"
    }
   ],
   "source": [
    "#Inspecting to check if the columns have been deleted carefully.\n",
    "lead.columns"
   ]
  },
  {
   "cell_type": "code",
   "execution_count": 40,
   "metadata": {
    "colab": {
     "base_uri": "https://localhost:8080/",
     "height": 228
    },
    "colab_type": "code",
    "id": "4Lk2Ae05ALg7",
    "outputId": "e0c302ad-9381-4101-c2e9-d12088c8acb5"
   },
   "outputs": [
    {
     "name": "stdout",
     "output_type": "stream",
     "text": [
      "Prospect ID                                0.00\n",
      "Lead Number                                0.00\n",
      "Lead Origin                                0.00\n",
      "Lead Source                                0.39\n",
      "Converted                                  0.00\n",
      "TotalVisits                                1.48\n",
      "Total Time Spent on Website                0.00\n",
      "Page Views Per Visit                       1.48\n",
      "Last Activity                              1.11\n",
      "Specialization                            36.58\n",
      "What is your current occupation           29.11\n",
      "A free copy of Mastering The Interview     0.00\n",
      "dtype: float64\n"
     ]
    }
   ],
   "source": [
    "#Percentage of missing values in each column.\n",
    "nullseries = round(lead.isnull().sum() * 100 / len(lead),2)\n",
    "print(nullseries)"
   ]
  },
  {
   "cell_type": "code",
   "execution_count": 41,
   "metadata": {
    "colab": {
     "base_uri": "https://localhost:8080/",
     "height": 33
    },
    "colab_type": "code",
    "id": "bB9PvvywEOse",
    "outputId": "a7e8087b-a85d-45e0-f9dc-7474a96936d0"
   },
   "outputs": [
    {
     "name": "stdout",
     "output_type": "stream",
     "text": [
      "Total number of columns : 12\n"
     ]
    }
   ],
   "source": [
    "print(\"Total number of columns :\", len(lead.columns))"
   ]
  },
  {
   "cell_type": "markdown",
   "metadata": {
    "colab_type": "text",
    "id": "jZz4n-FLAbCE"
   },
   "source": [
    "### ***Data Cleaning - Combining columns having low percentages into one single column.***"
   ]
  },
  {
   "cell_type": "markdown",
   "metadata": {
    "colab_type": "text",
    "id": "cbldn0GvAlHG"
   },
   "source": [
    "Columns in which categories are to be combined and form \"Others\" category \n",
    "\n",
    "- Lead Origin\n",
    "- Lead Source\n",
    "- Last Activity\n",
    "- Specialization\n",
    "- What is your current occupation \n",
    "\n"
   ]
  },
  {
   "cell_type": "markdown",
   "metadata": {
    "colab_type": "text",
    "id": "bfplZ-6vBikl"
   },
   "source": [
    "#### **Lead Origin**"
   ]
  },
  {
   "cell_type": "code",
   "execution_count": 42,
   "metadata": {
    "colab": {
     "base_uri": "https://localhost:8080/",
     "height": 115
    },
    "colab_type": "code",
    "id": "gxDY1HdnAkzR",
    "outputId": "0d1ea2f8-0e0d-44c5-f733-893cfca67402"
   },
   "outputs": [
    {
     "data": {
      "text/plain": [
       "Landing Page Submission    0.528788\n",
       "API                        0.387446\n",
       "Lead Add Form              0.077706\n",
       "Lead Import                0.005952\n",
       "Quick Add Form             0.000108\n",
       "Name: Lead Origin, dtype: float64"
      ]
     },
     "execution_count": 42,
     "metadata": {},
     "output_type": "execute_result"
    }
   ],
   "source": [
    "#Inspecting the column again\n",
    "lead['Lead Origin'].value_counts(normalize=True)"
   ]
  },
  {
   "cell_type": "code",
   "execution_count": 43,
   "metadata": {
    "colab": {},
    "colab_type": "code",
    "id": "-9BLNicTAQb4"
   },
   "outputs": [],
   "source": [
    "# Combining categories with very low row percentages as it does not make sense to create dummies for such rows.\n",
    "lead['Lead Origin'] = lead['Lead Origin'].replace(['Lead Import','Quick Add Form'] ,'Others')"
   ]
  },
  {
   "cell_type": "code",
   "execution_count": 44,
   "metadata": {
    "colab": {
     "base_uri": "https://localhost:8080/",
     "height": 98
    },
    "colab_type": "code",
    "id": "8XgtmSutAZz2",
    "outputId": "32e16e56-4212-46c3-bd4b-c0dbb1059037"
   },
   "outputs": [
    {
     "data": {
      "text/plain": [
       "Landing Page Submission    0.528788\n",
       "API                        0.387446\n",
       "Lead Add Form              0.077706\n",
       "Others                     0.006061\n",
       "Name: Lead Origin, dtype: float64"
      ]
     },
     "execution_count": 44,
     "metadata": {},
     "output_type": "execute_result"
    }
   ],
   "source": [
    "# Checking if the category has been correctly replaced. \n",
    "lead['Lead Origin'].value_counts(normalize=True) "
   ]
  },
  {
   "cell_type": "markdown",
   "metadata": {
    "colab_type": "text",
    "id": "jJKKdlUECK8h"
   },
   "source": [
    "\n",
    "------------------------------Performing the same for other columns------------------------------------------------\n"
   ]
  },
  {
   "cell_type": "markdown",
   "metadata": {
    "colab_type": "text",
    "id": "vfz5zvLUCaXk"
   },
   "source": [
    "#### **Lead Source**"
   ]
  },
  {
   "cell_type": "code",
   "execution_count": 45,
   "metadata": {
    "colab": {
     "base_uri": "https://localhost:8080/",
     "height": 375
    },
    "colab_type": "code",
    "id": "IPn8-G_6CVai",
    "outputId": "04ec3e91-e3d4-4a3b-887d-ab0fd8db5e8f"
   },
   "outputs": [
    {
     "data": {
      "text/plain": [
       "Google               0.311604\n",
       "Direct Traffic       0.276293\n",
       "Olark Chat           0.190678\n",
       "Organic Search       0.125380\n",
       "Reference            0.058018\n",
       "Welingak Website     0.015428\n",
       "Referral Sites       0.013581\n",
       "Facebook             0.005976\n",
       "bing                 0.000652\n",
       "google               0.000543\n",
       "Click2call           0.000435\n",
       "Social Media         0.000217\n",
       "Live Chat            0.000217\n",
       "Press_Release        0.000217\n",
       "testone              0.000109\n",
       "Pay per Click Ads    0.000109\n",
       "NC_EDM               0.000109\n",
       "WeLearn              0.000109\n",
       "blog                 0.000109\n",
       "youtubechannel       0.000109\n",
       "welearnblog_Home     0.000109\n",
       "Name: Lead Source, dtype: float64"
      ]
     },
     "execution_count": 45,
     "metadata": {},
     "output_type": "execute_result"
    }
   ],
   "source": [
    "# Inspecting Lead Source column.\n",
    "lead['Lead Source'].value_counts(normalize=True) "
   ]
  },
  {
   "cell_type": "code",
   "execution_count": 46,
   "metadata": {
    "colab": {},
    "colab_type": "code",
    "id": "TptvTrhUCnmA"
   },
   "outputs": [],
   "source": [
    "# Combining categories\n",
    "lead['Lead Source'] = lead['Lead Source'].replace(['Welingak Website','Referral Sites','Facebook','bing','google','Click2call', \n",
    "                                                   'Press_Release','Social Media','Live Chat','Pay per Click Ads','blog','WeLearn',\n",
    "                                                   'youtubechannel','testone','NC_EDM' ,'welearnblog_Home'] ,'Others')"
   ]
  },
  {
   "cell_type": "code",
   "execution_count": 47,
   "metadata": {
    "colab": {
     "base_uri": "https://localhost:8080/",
     "height": 131
    },
    "colab_type": "code",
    "id": "oAO7s5tNC1Nn",
    "outputId": "ba1558f6-e10b-4acc-f662-e23af9ff99f9"
   },
   "outputs": [
    {
     "data": {
      "text/plain": [
       "Google            0.311604\n",
       "Direct Traffic    0.276293\n",
       "Olark Chat        0.190678\n",
       "Organic Search    0.125380\n",
       "Reference         0.058018\n",
       "Others            0.038027\n",
       "Name: Lead Source, dtype: float64"
      ]
     },
     "execution_count": 47,
     "metadata": {},
     "output_type": "execute_result"
    }
   ],
   "source": [
    "# Inspecting Lead Source column.\n",
    "lead['Lead Source'].value_counts(normalize=True) "
   ]
  },
  {
   "cell_type": "markdown",
   "metadata": {
    "colab_type": "text",
    "id": "s9W50bCEDAZx"
   },
   "source": [
    "#### **Last Activity**"
   ]
  },
  {
   "cell_type": "code",
   "execution_count": 48,
   "metadata": {
    "colab": {
     "base_uri": "https://localhost:8080/",
     "height": 310
    },
    "colab_type": "code",
    "id": "4HGlgkX4C3-G",
    "outputId": "55ce8b1c-6288-4708-e666-b35cade4ac20"
   },
   "outputs": [
    {
     "data": {
      "text/plain": [
       "Email Opened                    0.376163\n",
       "SMS Sent                        0.300427\n",
       "Olark Chat Conversation         0.106490\n",
       "Page Visited on Website         0.070045\n",
       "Converted to Lead               0.046843\n",
       "Email Bounced                   0.035679\n",
       "Email Link Clicked              0.029222\n",
       "Form Submitted on Website       0.012696\n",
       "Unreachable                     0.010178\n",
       "Unsubscribed                    0.006676\n",
       "Had a Phone Conversation        0.003283\n",
       "Approached upfront              0.000985\n",
       "View in browser link Clicked    0.000657\n",
       "Email Marked Spam               0.000219\n",
       "Email Received                  0.000219\n",
       "Resubscribed to emails          0.000109\n",
       "Visited Booth in Tradeshow      0.000109\n",
       "Name: Last Activity, dtype: float64"
      ]
     },
     "execution_count": 48,
     "metadata": {},
     "output_type": "execute_result"
    }
   ],
   "source": [
    "#Inspecting 'Last Activity' column\n",
    "lead['Last Activity'].value_counts(normalize=True) "
   ]
  },
  {
   "cell_type": "code",
   "execution_count": 49,
   "metadata": {
    "colab": {},
    "colab_type": "code",
    "id": "hJheK8WQDRXp"
   },
   "outputs": [],
   "source": [
    "#Combining together to form 'Others' Categories. \n",
    "lead['Last Activity']=lead['Last Activity'].replace(['Form Submitted on Website'      ,\n",
    "'Unreachable'                    ,\n",
    "'Unsubscribed'                   ,\n",
    "'Had a Phone Conversation'       ,\n",
    "'Approached upfront'             ,\n",
    "'View in browser link Clicked'   ,\n",
    "'Email Received'                 ,\n",
    "'Email Marked Spam'              ,\n",
    "'Visited Booth in Tradeshow'     ,\n",
    "'Resubscribed to emails'],'Others') "
   ]
  },
  {
   "cell_type": "code",
   "execution_count": 50,
   "metadata": {
    "colab": {
     "base_uri": "https://localhost:8080/",
     "height": 163
    },
    "colab_type": "code",
    "id": "BgLCSdGQDehw",
    "outputId": "9bf1d050-987b-4983-cf5c-f8b76d81c759"
   },
   "outputs": [
    {
     "data": {
      "text/plain": [
       "Email Opened               0.376163\n",
       "SMS Sent                   0.300427\n",
       "Olark Chat Conversation    0.106490\n",
       "Page Visited on Website    0.070045\n",
       "Converted to Lead          0.046843\n",
       "Email Bounced              0.035679\n",
       "Others                     0.035132\n",
       "Email Link Clicked         0.029222\n",
       "Name: Last Activity, dtype: float64"
      ]
     },
     "execution_count": 50,
     "metadata": {},
     "output_type": "execute_result"
    }
   ],
   "source": [
    "#Inspecting 'Last Activity' column\n",
    "lead['Last Activity'].value_counts(normalize=True) "
   ]
  },
  {
   "cell_type": "markdown",
   "metadata": {
    "colab_type": "text",
    "id": "5IJV7gYVDmM1"
   },
   "source": [
    "#### **Specialization**"
   ]
  },
  {
   "cell_type": "code",
   "execution_count": 51,
   "metadata": {
    "colab": {
     "base_uri": "https://localhost:8080/",
     "height": 326
    },
    "colab_type": "code",
    "id": "cFm6S2mEDhMT",
    "outputId": "e1b1c7ff-3e3d-4075-aac9-8e09c6ec5124"
   },
   "outputs": [
    {
     "data": {
      "text/plain": [
       "Finance Management                   0.166553\n",
       "Human Resource Management            0.144710\n",
       "Marketing Management                 0.143003\n",
       "Operations Management                0.085836\n",
       "Business Administration              0.068771\n",
       "IT Projects Management               0.062457\n",
       "Supply Chain Management              0.059556\n",
       "Banking, Investment And Insurance    0.057679\n",
       "Travel and Tourism                   0.034642\n",
       "Media and Advertising                0.034642\n",
       "International Business               0.030375\n",
       "Healthcare Management                0.027133\n",
       "Hospitality Management               0.019454\n",
       "E-COMMERCE                           0.019113\n",
       "Retail Management                    0.017065\n",
       "Rural and Agribusiness               0.012457\n",
       "E-Business                           0.009727\n",
       "Services Excellence                  0.006826\n",
       "Name: Specialization, dtype: float64"
      ]
     },
     "execution_count": 51,
     "metadata": {},
     "output_type": "execute_result"
    }
   ],
   "source": [
    "#Inspecting the specialization column\n",
    "lead['Specialization'].value_counts(normalize=True)"
   ]
  },
  {
   "cell_type": "code",
   "execution_count": 52,
   "metadata": {
    "colab": {},
    "colab_type": "code",
    "id": "A1PEHl4FDtUT"
   },
   "outputs": [],
   "source": [
    "#Combining categories < 2%  into 'Others'\n",
    "lead['Specialization']=lead['Specialization'].replace(['Rural and Agribusiness','E-Business','Services Excellence','Hospitality Management','E-COMMERCE','Retail Management'],'Others')      "
   ]
  },
  {
   "cell_type": "code",
   "execution_count": 53,
   "metadata": {
    "colab": {
     "base_uri": "https://localhost:8080/",
     "height": 245
    },
    "colab_type": "code",
    "id": "Sq4VxnJpDvdA",
    "outputId": "d3b927c1-55e2-496f-f605-3b587eaf3017"
   },
   "outputs": [
    {
     "data": {
      "text/plain": [
       "Finance Management                   0.166553\n",
       "Human Resource Management            0.144710\n",
       "Marketing Management                 0.143003\n",
       "Operations Management                0.085836\n",
       "Others                               0.084642\n",
       "Business Administration              0.068771\n",
       "IT Projects Management               0.062457\n",
       "Supply Chain Management              0.059556\n",
       "Banking, Investment And Insurance    0.057679\n",
       "Media and Advertising                0.034642\n",
       "Travel and Tourism                   0.034642\n",
       "International Business               0.030375\n",
       "Healthcare Management                0.027133\n",
       "Name: Specialization, dtype: float64"
      ]
     },
     "execution_count": 53,
     "metadata": {},
     "output_type": "execute_result"
    }
   ],
   "source": [
    "#Inspecting the column again to recheck the same.\n",
    "lead['Specialization'].value_counts(normalize=True)"
   ]
  },
  {
   "cell_type": "code",
   "execution_count": 54,
   "metadata": {
    "colab": {},
    "colab_type": "code",
    "id": "L-ds4EGsFPbB"
   },
   "outputs": [],
   "source": [
    "#We also handle the missing values for this Specialisation column, we add another column known as \"Not Specified\" for all missing values.\n",
    "lead.Specialization.fillna('Not Specified', inplace=True)"
   ]
  },
  {
   "cell_type": "code",
   "execution_count": 55,
   "metadata": {
    "colab": {
     "base_uri": "https://localhost:8080/",
     "height": 261
    },
    "colab_type": "code",
    "id": "SWdGrSd1Fk0O",
    "outputId": "2964b8c2-bbad-4880-df5d-3cba123ab829"
   },
   "outputs": [
    {
     "data": {
      "text/plain": [
       "Not Specified                        0.365801\n",
       "Finance Management                   0.105628\n",
       "Human Resource Management            0.091775\n",
       "Marketing Management                 0.090693\n",
       "Operations Management                0.054437\n",
       "Others                               0.053680\n",
       "Business Administration              0.043615\n",
       "IT Projects Management               0.039610\n",
       "Supply Chain Management              0.037771\n",
       "Banking, Investment And Insurance    0.036580\n",
       "Media and Advertising                0.021970\n",
       "Travel and Tourism                   0.021970\n",
       "International Business               0.019264\n",
       "Healthcare Management                0.017208\n",
       "Name: Specialization, dtype: float64"
      ]
     },
     "execution_count": 55,
     "metadata": {},
     "output_type": "execute_result"
    }
   ],
   "source": [
    "#Inspecting the column again to recheck the same.\n",
    "lead['Specialization'].value_counts(normalize=True)"
   ]
  },
  {
   "cell_type": "markdown",
   "metadata": {
    "colab_type": "text",
    "id": "s0cRFyriEj68"
   },
   "source": [
    "#### **Current Occupation**"
   ]
  },
  {
   "cell_type": "code",
   "execution_count": 56,
   "metadata": {
    "colab": {
     "base_uri": "https://localhost:8080/",
     "height": 131
    },
    "colab_type": "code",
    "id": "Kf3WC7oCEopC",
    "outputId": "3908deb5-2fe3-4685-948c-4b189c324bae"
   },
   "outputs": [
    {
     "data": {
      "text/plain": [
       "Unemployed              0.854962\n",
       "Working Professional    0.107786\n",
       "Student                 0.032061\n",
       "Other                   0.002443\n",
       "Housewife               0.001527\n",
       "Businessman             0.001221\n",
       "Name: What is your current occupation, dtype: float64"
      ]
     },
     "execution_count": 56,
     "metadata": {},
     "output_type": "execute_result"
    }
   ],
   "source": [
    "#Inspecting value counts for Current Occupation\n",
    "lead['What is your current occupation'].value_counts(normalize=True)"
   ]
  },
  {
   "cell_type": "code",
   "execution_count": 57,
   "metadata": {
    "colab": {},
    "colab_type": "code",
    "id": "FWD0VR2SEyFb"
   },
   "outputs": [],
   "source": [
    "#Combining categories \n",
    "lead['What is your current occupation']=lead['What is your current occupation'].replace(['Other','Housewife','Businessman'],'Others')"
   ]
  },
  {
   "cell_type": "code",
   "execution_count": 58,
   "metadata": {
    "colab": {
     "base_uri": "https://localhost:8080/",
     "height": 98
    },
    "colab_type": "code",
    "id": "WBJPitj1E2Qg",
    "outputId": "1c11d3f0-5ea2-44ae-d2e2-15225bbb82ef"
   },
   "outputs": [
    {
     "data": {
      "text/plain": [
       "Unemployed              0.854962\n",
       "Working Professional    0.107786\n",
       "Student                 0.032061\n",
       "Others                  0.005191\n",
       "Name: What is your current occupation, dtype: float64"
      ]
     },
     "execution_count": 58,
     "metadata": {},
     "output_type": "execute_result"
    }
   ],
   "source": [
    "#Rechecking to find if the categories are correctly combined.\n",
    "lead['What is your current occupation'].value_counts(normalize=True)"
   ]
  },
  {
   "cell_type": "markdown",
   "metadata": {
    "colab_type": "text",
    "id": "KMfwpPXFF0wF"
   },
   "source": [
    "### ***Imputing columns with low null value percentages***"
   ]
  },
  {
   "cell_type": "markdown",
   "metadata": {
    "colab_type": "text",
    "id": "QmW5QqVaGK0y"
   },
   "source": [
    "- Generally categorical columns are imputed with **'mode'**\n",
    "- Numerical columns are imputed with **mean or median**."
   ]
  },
  {
   "cell_type": "code",
   "execution_count": 59,
   "metadata": {
    "colab": {
     "base_uri": "https://localhost:8080/",
     "height": 228
    },
    "colab_type": "code",
    "id": "DZmJLnj3F0Jn",
    "outputId": "fc5521ee-dd22-4ac3-fc56-ca3e71f734b8"
   },
   "outputs": [
    {
     "name": "stdout",
     "output_type": "stream",
     "text": [
      "Prospect ID                                0.00\n",
      "Lead Number                                0.00\n",
      "Lead Origin                                0.00\n",
      "Lead Source                                0.39\n",
      "Converted                                  0.00\n",
      "TotalVisits                                1.48\n",
      "Total Time Spent on Website                0.00\n",
      "Page Views Per Visit                       1.48\n",
      "Last Activity                              1.11\n",
      "Specialization                             0.00\n",
      "What is your current occupation           29.11\n",
      "A free copy of Mastering The Interview     0.00\n",
      "dtype: float64\n"
     ]
    }
   ],
   "source": [
    "#Percentage of missing values in each column.\n",
    "nullseries = round(lead.isnull().sum() * 100 / len(lead),2)\n",
    "print(nullseries)"
   ]
  },
  {
   "cell_type": "markdown",
   "metadata": {
    "colab_type": "text",
    "id": "dr0PIKP_Hmo3"
   },
   "source": [
    "#### **Imputing categorical columns**"
   ]
  },
  {
   "cell_type": "code",
   "execution_count": 60,
   "metadata": {
    "colab": {
     "base_uri": "https://localhost:8080/",
     "height": 131
    },
    "colab_type": "code",
    "id": "n1iTMtBSH9ky",
    "outputId": "129cb2ac-3399-4909-9d94-f49a27b6e0c2"
   },
   "outputs": [
    {
     "data": {
      "text/plain": [
       "Google            0.311604\n",
       "Direct Traffic    0.276293\n",
       "Olark Chat        0.190678\n",
       "Organic Search    0.125380\n",
       "Reference         0.058018\n",
       "Others            0.038027\n",
       "Name: Lead Source, dtype: float64"
      ]
     },
     "execution_count": 60,
     "metadata": {},
     "output_type": "execute_result"
    }
   ],
   "source": [
    "# Imputing categorical columns with Mode\n",
    "lead['Lead Source'].value_counts(normalize=True) "
   ]
  },
  {
   "cell_type": "code",
   "execution_count": 61,
   "metadata": {
    "colab": {},
    "colab_type": "code",
    "id": "-N2mtYpgGMuc"
   },
   "outputs": [],
   "source": [
    "# Imputing missing values in 'Lead Source' with mode. \n",
    "lead['Lead Source'].fillna('Google',inplace=True)"
   ]
  },
  {
   "cell_type": "code",
   "execution_count": 62,
   "metadata": {
    "colab": {
     "base_uri": "https://localhost:8080/",
     "height": 163
    },
    "colab_type": "code",
    "id": "-bspJRLrHhTX",
    "outputId": "201a697c-1f58-47d2-f37d-9c5ea6f09020"
   },
   "outputs": [
    {
     "data": {
      "text/plain": [
       "Email Opened               0.376163\n",
       "SMS Sent                   0.300427\n",
       "Olark Chat Conversation    0.106490\n",
       "Page Visited on Website    0.070045\n",
       "Converted to Lead          0.046843\n",
       "Email Bounced              0.035679\n",
       "Others                     0.035132\n",
       "Email Link Clicked         0.029222\n",
       "Name: Last Activity, dtype: float64"
      ]
     },
     "execution_count": 62,
     "metadata": {},
     "output_type": "execute_result"
    }
   ],
   "source": [
    "# Imputing categorical columns with Mode\n",
    "lead['Last Activity'].value_counts(normalize=True) "
   ]
  },
  {
   "cell_type": "code",
   "execution_count": 63,
   "metadata": {
    "colab": {},
    "colab_type": "code",
    "id": "oQUHjomiH4p2"
   },
   "outputs": [],
   "source": [
    "# Imputing missing values in 'Last Activity' with mode. \n",
    "lead['Last Activity'].fillna('Email Opened',inplace=True)"
   ]
  },
  {
   "cell_type": "code",
   "execution_count": 64,
   "metadata": {
    "colab": {
     "base_uri": "https://localhost:8080/",
     "height": 98
    },
    "colab_type": "code",
    "id": "dOQOtrQLH6nJ",
    "outputId": "f7440b9e-d626-4968-feb6-c097070db675"
   },
   "outputs": [
    {
     "data": {
      "text/plain": [
       "Unemployed              0.854962\n",
       "Working Professional    0.107786\n",
       "Student                 0.032061\n",
       "Others                  0.005191\n",
       "Name: What is your current occupation, dtype: float64"
      ]
     },
     "execution_count": 64,
     "metadata": {},
     "output_type": "execute_result"
    }
   ],
   "source": [
    "# Imputing categorical columns with Mode\n",
    "lead['What is your current occupation'].value_counts(normalize=True) "
   ]
  },
  {
   "cell_type": "code",
   "execution_count": 65,
   "metadata": {
    "colab": {},
    "colab_type": "code",
    "id": "2BFm9ZhFIFsp"
   },
   "outputs": [],
   "source": [
    "# Replacing categorical columns with Unemployed in Current Occupation \n",
    "lead['What is your current occupation'].fillna('Unemployed', inplace = True)"
   ]
  },
  {
   "cell_type": "markdown",
   "metadata": {
    "colab_type": "text",
    "id": "3ahyyDBOHvIv"
   },
   "source": [
    "#### **Imputing numerical columns**"
   ]
  },
  {
   "cell_type": "code",
   "execution_count": 66,
   "metadata": {
    "colab": {
     "base_uri": "https://localhost:8080/",
     "height": 163
    },
    "colab_type": "code",
    "id": "faIvHuYpGQ4h",
    "outputId": "c35b9714-14ef-4654-c100-e9806cee9368"
   },
   "outputs": [
    {
     "data": {
      "text/plain": [
       "count    9103.000000\n",
       "mean        3.445238\n",
       "std         4.854853\n",
       "min         0.000000\n",
       "25%         1.000000\n",
       "50%         3.000000\n",
       "75%         5.000000\n",
       "max       251.000000\n",
       "Name: TotalVisits, dtype: float64"
      ]
     },
     "execution_count": 66,
     "metadata": {},
     "output_type": "execute_result"
    }
   ],
   "source": [
    "#Since TotalVisits is a numerical column, we first inspect the data.\n",
    "lead['TotalVisits'].describe()"
   ]
  },
  {
   "cell_type": "markdown",
   "metadata": {
    "colab_type": "text",
    "id": "hSRXA7BpGd6D"
   },
   "source": [
    "We can see that both mean and median = 3 and we can impute it with either, but we choose to impute it with median ."
   ]
  },
  {
   "cell_type": "code",
   "execution_count": 67,
   "metadata": {
    "colab": {},
    "colab_type": "code",
    "id": "gsUL46CRGlH0"
   },
   "outputs": [],
   "source": [
    "# Imputing missing values in 'TotalVisits' with mean/median which is 3. \n",
    "lead['TotalVisits'].fillna(lead['TotalVisits'].median(),inplace=True)"
   ]
  },
  {
   "cell_type": "code",
   "execution_count": 68,
   "metadata": {
    "colab": {
     "base_uri": "https://localhost:8080/",
     "height": 163
    },
    "colab_type": "code",
    "id": "RSNtxNYaG4TG",
    "outputId": "5c5439be-39bb-4881-decc-e317a7b00749"
   },
   "outputs": [
    {
     "data": {
      "text/plain": [
       "count    9240.000000\n",
       "mean        3.438636\n",
       "std         4.819024\n",
       "min         0.000000\n",
       "25%         1.000000\n",
       "50%         3.000000\n",
       "75%         5.000000\n",
       "max       251.000000\n",
       "Name: TotalVisits, dtype: float64"
      ]
     },
     "execution_count": 68,
     "metadata": {},
     "output_type": "execute_result"
    }
   ],
   "source": [
    "#Checking for distribution\n",
    "lead['TotalVisits'].describe()"
   ]
  },
  {
   "cell_type": "code",
   "execution_count": 69,
   "metadata": {
    "colab": {
     "base_uri": "https://localhost:8080/",
     "height": 163
    },
    "colab_type": "code",
    "id": "VSkS0kqCHBvD",
    "outputId": "c28dc18f-5383-4893-9839-a033b51e7e37"
   },
   "outputs": [
    {
     "data": {
      "text/plain": [
       "count    9103.000000\n",
       "mean        2.362820\n",
       "std         2.161418\n",
       "min         0.000000\n",
       "25%         1.000000\n",
       "50%         2.000000\n",
       "75%         3.000000\n",
       "max        55.000000\n",
       "Name: Page Views Per Visit, dtype: float64"
      ]
     },
     "execution_count": 69,
     "metadata": {},
     "output_type": "execute_result"
    }
   ],
   "source": [
    "#Page Per Views is also a numerical column, hence we check the distribution first.\n",
    "lead['Page Views Per Visit'].describe()"
   ]
  },
  {
   "cell_type": "markdown",
   "metadata": {
    "colab_type": "text",
    "id": "RHq8PFQVHS9m"
   },
   "source": [
    "We can see that both mean and median ~ 2 and we can impute it with either, but we choose to impute it with median ."
   ]
  },
  {
   "cell_type": "code",
   "execution_count": 70,
   "metadata": {
    "colab": {},
    "colab_type": "code",
    "id": "EG_VoDaxHOCR"
   },
   "outputs": [],
   "source": [
    "# Imputing missing values with mean/median which is 2. \n",
    "lead['Page Views Per Visit'].fillna(lead['Page Views Per Visit'].median(),inplace=True)"
   ]
  },
  {
   "cell_type": "code",
   "execution_count": 71,
   "metadata": {
    "colab": {
     "base_uri": "https://localhost:8080/",
     "height": 163
    },
    "colab_type": "code",
    "id": "aZmxkzdBHbhG",
    "outputId": "b3aaea24-267a-4b87-a41b-354ccd640836"
   },
   "outputs": [
    {
     "data": {
      "text/plain": [
       "count    9240.000000\n",
       "mean        2.357440\n",
       "std         2.145781\n",
       "min         0.000000\n",
       "25%         1.000000\n",
       "50%         2.000000\n",
       "75%         3.000000\n",
       "max        55.000000\n",
       "Name: Page Views Per Visit, dtype: float64"
      ]
     },
     "execution_count": 71,
     "metadata": {},
     "output_type": "execute_result"
    }
   ],
   "source": [
    "#Page Per Views is also a numerical column, hence we check the distribution first.\n",
    "lead['Page Views Per Visit'].describe()"
   ]
  },
  {
   "cell_type": "markdown",
   "metadata": {
    "colab_type": "text",
    "id": "IQbW5vZQIsCb"
   },
   "source": [
    "#### **Checking for missing values again.**"
   ]
  },
  {
   "cell_type": "code",
   "execution_count": 72,
   "metadata": {
    "colab": {
     "base_uri": "https://localhost:8080/",
     "height": 228
    },
    "colab_type": "code",
    "id": "iDtXzNNfHerD",
    "outputId": "1c43c9ea-a0e7-476e-df98-674c289503d6"
   },
   "outputs": [
    {
     "name": "stdout",
     "output_type": "stream",
     "text": [
      "Prospect ID                               0.0\n",
      "Lead Number                               0.0\n",
      "Lead Origin                               0.0\n",
      "Lead Source                               0.0\n",
      "Converted                                 0.0\n",
      "TotalVisits                               0.0\n",
      "Total Time Spent on Website               0.0\n",
      "Page Views Per Visit                      0.0\n",
      "Last Activity                             0.0\n",
      "Specialization                            0.0\n",
      "What is your current occupation           0.0\n",
      "A free copy of Mastering The Interview    0.0\n",
      "dtype: float64\n"
     ]
    }
   ],
   "source": [
    "#Percentage of missing values in each column.\n",
    "nullseries = round(lead.isnull().sum() * 100 / len(lead),2)\n",
    "print(nullseries)"
   ]
  },
  {
   "cell_type": "markdown",
   "metadata": {
    "colab_type": "text",
    "id": "ffZfCZ8HIzKC"
   },
   "source": [
    "**Since there are no more missing values, we have cleaned the data thoroughly.**"
   ]
  },
  {
   "cell_type": "code",
   "execution_count": 73,
   "metadata": {
    "colab": {
     "base_uri": "https://localhost:8080/",
     "height": 212
    },
    "colab_type": "code",
    "id": "BVWqDIyyI6v4",
    "outputId": "b3386386-9156-4219-eb5a-3e294b807927"
   },
   "outputs": [
    {
     "name": "stdout",
     "output_type": "stream",
     "text": [
      "0       0\n",
      "1       0\n",
      "2       0\n",
      "3       0\n",
      "4       0\n",
      "       ..\n",
      "9235    0\n",
      "9236    0\n",
      "9237    0\n",
      "9238    0\n",
      "9239    0\n",
      "Length: 9240, dtype: int64\n"
     ]
    }
   ],
   "source": [
    "# Write your code for row-wise null count here\n",
    "print(lead.isnull().sum(axis=1))"
   ]
  },
  {
   "cell_type": "code",
   "execution_count": 74,
   "metadata": {
    "colab": {
     "base_uri": "https://localhost:8080/",
     "height": 47
    },
    "colab_type": "code",
    "id": "7TdBlArKJCeK",
    "outputId": "060ebc85-e039-4559-a079-6b0d21a03154"
   },
   "outputs": [
    {
     "data": {
      "text/html": [
       "<div>\n",
       "<style scoped>\n",
       "    .dataframe tbody tr th:only-of-type {\n",
       "        vertical-align: middle;\n",
       "    }\n",
       "\n",
       "    .dataframe tbody tr th {\n",
       "        vertical-align: top;\n",
       "    }\n",
       "\n",
       "    .dataframe thead th {\n",
       "        text-align: right;\n",
       "    }\n",
       "</style>\n",
       "<table border=\"1\" class=\"dataframe\">\n",
       "  <thead>\n",
       "    <tr style=\"text-align: right;\">\n",
       "      <th></th>\n",
       "      <th>Prospect ID</th>\n",
       "      <th>Lead Number</th>\n",
       "      <th>Lead Origin</th>\n",
       "      <th>Lead Source</th>\n",
       "      <th>Converted</th>\n",
       "      <th>TotalVisits</th>\n",
       "      <th>Total Time Spent on Website</th>\n",
       "      <th>Page Views Per Visit</th>\n",
       "      <th>Last Activity</th>\n",
       "      <th>Specialization</th>\n",
       "      <th>What is your current occupation</th>\n",
       "      <th>A free copy of Mastering The Interview</th>\n",
       "    </tr>\n",
       "  </thead>\n",
       "  <tbody>\n",
       "  </tbody>\n",
       "</table>\n",
       "</div>"
      ],
      "text/plain": [
       "Empty DataFrame\n",
       "Columns: [Prospect ID, Lead Number, Lead Origin, Lead Source, Converted, TotalVisits, Total Time Spent on Website, Page Views Per Visit, Last Activity, Specialization, What is your current occupation, A free copy of Mastering The Interview]\n",
       "Index: []"
      ]
     },
     "execution_count": 74,
     "metadata": {},
     "output_type": "execute_result"
    }
   ],
   "source": [
    "# Duplicates check - Checking for any duplicates in the data.\n",
    "lead.loc[lead.duplicated()]"
   ]
  },
  {
   "cell_type": "markdown",
   "metadata": {
    "colab_type": "text",
    "id": "lbRGAbiZwhTb"
   },
   "source": [
    "**There are no duplicate rows in the dataset.**"
   ]
  },
  {
   "cell_type": "markdown",
   "metadata": {
    "colab_type": "text",
    "id": "KoHy3tjOKE8t"
   },
   "source": [
    "## **EDA** "
   ]
  },
  {
   "cell_type": "code",
   "execution_count": 75,
   "metadata": {
    "colab": {
     "base_uri": "https://localhost:8080/",
     "height": 228
    },
    "colab_type": "code",
    "id": "gHTslbI4ZfHI",
    "outputId": "9e889383-32ff-4f11-861a-668a99e1136a"
   },
   "outputs": [
    {
     "data": {
      "text/plain": [
       "Prospect ID                                object\n",
       "Lead Number                                 int64\n",
       "Lead Origin                                object\n",
       "Lead Source                                object\n",
       "Converted                                   int64\n",
       "TotalVisits                               float64\n",
       "Total Time Spent on Website                 int64\n",
       "Page Views Per Visit                      float64\n",
       "Last Activity                              object\n",
       "Specialization                             object\n",
       "What is your current occupation            object\n",
       "A free copy of Mastering The Interview     object\n",
       "dtype: object"
      ]
     },
     "execution_count": 75,
     "metadata": {},
     "output_type": "execute_result"
    }
   ],
   "source": [
    "#Displaying the data types on different columns\n",
    "lead.dtypes"
   ]
  },
  {
   "cell_type": "markdown",
   "metadata": {
    "colab_type": "text",
    "id": "gNODVS5HdkZD"
   },
   "source": [
    "### **EDA - Numerical Values**"
   ]
  },
  {
   "cell_type": "code",
   "execution_count": 76,
   "metadata": {
    "colab": {
     "base_uri": "https://localhost:8080/",
     "height": 567
    },
    "colab_type": "code",
    "id": "dMma9vn-ZcbQ",
    "outputId": "ca7d17f1-1958-48ad-ecb1-292a90758877"
   },
   "outputs": [
    {
     "data": {
      "image/png": "[encoded data removed]",
      "text/plain": [
       "<Figure size 1080x1080 with 3 Axes>"
      ]
     },
     "metadata": {
      "needs_background": "light"
     },
     "output_type": "display_data"
    }
   ],
   "source": [
    "Required_columns= ['TotalVisits','Total Time Spent on Website','Page Views Per Visit']\n",
    "sns.set_palette(\"bright\")\n",
    "plt.figure(figsize = (15, 15))\n",
    "\n",
    "for col in enumerate(Required_columns):\n",
    "    plt.subplot(4, 2, col[0]+1)\n",
    "    plt.title(col[1])\n",
    "    sns.distplot(lead[col[1]], hist =False)\n",
    "    plt.tight_layout()\n",
    "    plt.xticks(rotation = 90)"
   ]
  },
  {
   "cell_type": "markdown",
   "metadata": {
    "colab_type": "text",
    "id": "TF1mpHwLaZOh"
   },
   "source": [
    "**Uni-variate Analysis - Numerical values:**\n",
    "\n",
    "- The max probability for TotalVisits is found to be around 15-20. It increases initially but decreases further.\n",
    "- The max probability for PageViewsPerVisit is found to be around to be 3-5\n",
    "- The proability of time spent is found to be high for time between 0-300 seconds and decreases further."
   ]
  },
  {
   "cell_type": "code",
   "execution_count": 77,
   "metadata": {
    "colab": {
     "base_uri": "https://localhost:8080/",
     "height": 567
    },
    "colab_type": "code",
    "id": "GLOkg80dbv9W",
    "outputId": "33f96063-8769-400c-d3ef-1a9bee431715"
   },
   "outputs": [
    {
     "data": {
      "image/png": "[encoded data removed]",
      "text/plain": [
       "<Figure size 1080x1080 with 3 Axes>"
      ]
     },
     "metadata": {
      "needs_background": "light"
     },
     "output_type": "display_data"
    }
   ],
   "source": [
    "Required_columns= ['TotalVisits','Total Time Spent on Website','Page Views Per Visit']\n",
    "sns.set_palette(\"bright\")\n",
    "plt.figure(figsize = (15, 15))\n",
    "\n",
    "for col in enumerate(Required_columns):\n",
    "    plt.subplot(4, 2, col[0]+1)\n",
    "    plt.title(col[1])\n",
    "    ax = sns.boxplot(x='Converted', y=col[1], data = lead)\n",
    "    ax.set_yscale('log')\n",
    "    plt.tight_layout()\n",
    "    plt.xticks(rotation = 90)"
   ]
  },
  {
   "cell_type": "markdown",
   "metadata": {
    "colab_type": "text",
    "id": "31Ab4nAtcdE2"
   },
   "source": [
    "**Bi-variate Analysis - Numerical values:**\n",
    "\n",
    "- The mean is found to be higher in case of Converted people rather than non-converted people. \n",
    "\n",
    "- The average page views for both converted and non converted is found to be the same. \n",
    "\n",
    "- The average total visits for both converted and non converted people is found to be the same."
   ]
  },
  {
   "cell_type": "markdown",
   "metadata": {
    "colab_type": "text",
    "id": "G_LFFJcWdqjt"
   },
   "source": [
    "### **EDA - Categorical values**"
   ]
  },
  {
   "cell_type": "code",
   "execution_count": 78,
   "metadata": {
    "colab": {},
    "colab_type": "code",
    "id": "TVlySQbldp8s"
   },
   "outputs": [],
   "source": [
    "#Copying from the lead dataframe for easier eda\n",
    "leadCopy = lead.copy()"
   ]
  },
  {
   "cell_type": "code",
   "execution_count": 79,
   "metadata": {
    "colab": {
     "base_uri": "https://localhost:8080/",
     "height": 306
    },
    "colab_type": "code",
    "id": "uINeFF1Td8Hh",
    "outputId": "dbd18a66-a426-401e-859f-77159b03fc38"
   },
   "outputs": [
    {
     "data": {
      "text/html": [
       "<div>\n",
       "<style scoped>\n",
       "    .dataframe tbody tr th:only-of-type {\n",
       "        vertical-align: middle;\n",
       "    }\n",
       "\n",
       "    .dataframe tbody tr th {\n",
       "        vertical-align: top;\n",
       "    }\n",
       "\n",
       "    .dataframe thead th {\n",
       "        text-align: right;\n",
       "    }\n",
       "</style>\n",
       "<table border=\"1\" class=\"dataframe\">\n",
       "  <thead>\n",
       "    <tr style=\"text-align: right;\">\n",
       "      <th></th>\n",
       "      <th>Prospect ID</th>\n",
       "      <th>Lead Number</th>\n",
       "      <th>Lead Origin</th>\n",
       "      <th>Lead Source</th>\n",
       "      <th>Converted</th>\n",
       "      <th>TotalVisits</th>\n",
       "      <th>Total Time Spent on Website</th>\n",
       "      <th>Page Views Per Visit</th>\n",
       "      <th>Last Activity</th>\n",
       "      <th>Specialization</th>\n",
       "      <th>What is your current occupation</th>\n",
       "      <th>A free copy of Mastering The Interview</th>\n",
       "    </tr>\n",
       "  </thead>\n",
       "  <tbody>\n",
       "    <tr>\n",
       "      <td>0</td>\n",
       "      <td>7927b2df-8bba-4d29-b9a2-b6e0beafe620</td>\n",
       "      <td>660737</td>\n",
       "      <td>API</td>\n",
       "      <td>Olark Chat</td>\n",
       "      <td>0</td>\n",
       "      <td>0.0</td>\n",
       "      <td>0</td>\n",
       "      <td>0.0</td>\n",
       "      <td>Page Visited on Website</td>\n",
       "      <td>Not Specified</td>\n",
       "      <td>Unemployed</td>\n",
       "      <td>No</td>\n",
       "    </tr>\n",
       "    <tr>\n",
       "      <td>1</td>\n",
       "      <td>2a272436-5132-4136-86fa-dcc88c88f482</td>\n",
       "      <td>660728</td>\n",
       "      <td>API</td>\n",
       "      <td>Organic Search</td>\n",
       "      <td>0</td>\n",
       "      <td>5.0</td>\n",
       "      <td>674</td>\n",
       "      <td>2.5</td>\n",
       "      <td>Email Opened</td>\n",
       "      <td>Not Specified</td>\n",
       "      <td>Unemployed</td>\n",
       "      <td>No</td>\n",
       "    </tr>\n",
       "    <tr>\n",
       "      <td>2</td>\n",
       "      <td>8cc8c611-a219-4f35-ad23-fdfd2656bd8a</td>\n",
       "      <td>660727</td>\n",
       "      <td>Landing Page Submission</td>\n",
       "      <td>Direct Traffic</td>\n",
       "      <td>1</td>\n",
       "      <td>2.0</td>\n",
       "      <td>1532</td>\n",
       "      <td>2.0</td>\n",
       "      <td>Email Opened</td>\n",
       "      <td>Business Administration</td>\n",
       "      <td>Student</td>\n",
       "      <td>Yes</td>\n",
       "    </tr>\n",
       "    <tr>\n",
       "      <td>3</td>\n",
       "      <td>0cc2df48-7cf4-4e39-9de9-19797f9b38cc</td>\n",
       "      <td>660719</td>\n",
       "      <td>Landing Page Submission</td>\n",
       "      <td>Direct Traffic</td>\n",
       "      <td>0</td>\n",
       "      <td>1.0</td>\n",
       "      <td>305</td>\n",
       "      <td>1.0</td>\n",
       "      <td>Others</td>\n",
       "      <td>Media and Advertising</td>\n",
       "      <td>Unemployed</td>\n",
       "      <td>No</td>\n",
       "    </tr>\n",
       "    <tr>\n",
       "      <td>4</td>\n",
       "      <td>3256f628-e534-4826-9d63-4a8b88782852</td>\n",
       "      <td>660681</td>\n",
       "      <td>Landing Page Submission</td>\n",
       "      <td>Google</td>\n",
       "      <td>1</td>\n",
       "      <td>2.0</td>\n",
       "      <td>1428</td>\n",
       "      <td>1.0</td>\n",
       "      <td>Converted to Lead</td>\n",
       "      <td>Not Specified</td>\n",
       "      <td>Unemployed</td>\n",
       "      <td>No</td>\n",
       "    </tr>\n",
       "  </tbody>\n",
       "</table>\n",
       "</div>"
      ],
      "text/plain": [
       "                            Prospect ID  Lead Number              Lead Origin  \\\n",
       "0  7927b2df-8bba-4d29-b9a2-b6e0beafe620       660737                      API   \n",
       "1  2a272436-5132-4136-86fa-dcc88c88f482       660728                      API   \n",
       "2  8cc8c611-a219-4f35-ad23-fdfd2656bd8a       660727  Landing Page Submission   \n",
       "3  0cc2df48-7cf4-4e39-9de9-19797f9b38cc       660719  Landing Page Submission   \n",
       "4  3256f628-e534-4826-9d63-4a8b88782852       660681  Landing Page Submission   \n",
       "\n",
       "      Lead Source  Converted  TotalVisits  Total Time Spent on Website  \\\n",
       "0      Olark Chat          0          0.0                            0   \n",
       "1  Organic Search          0          5.0                          674   \n",
       "2  Direct Traffic          1          2.0                         1532   \n",
       "3  Direct Traffic          0          1.0                          305   \n",
       "4          Google          1          2.0                         1428   \n",
       "\n",
       "   Page Views Per Visit            Last Activity           Specialization  \\\n",
       "0                   0.0  Page Visited on Website            Not Specified   \n",
       "1                   2.5             Email Opened            Not Specified   \n",
       "2                   2.0             Email Opened  Business Administration   \n",
       "3                   1.0                   Others    Media and Advertising   \n",
       "4                   1.0        Converted to Lead            Not Specified   \n",
       "\n",
       "  What is your current occupation A free copy of Mastering The Interview  \n",
       "0                      Unemployed                                     No  \n",
       "1                      Unemployed                                     No  \n",
       "2                         Student                                    Yes  \n",
       "3                      Unemployed                                     No  \n",
       "4                      Unemployed                                     No  "
      ]
     },
     "execution_count": 79,
     "metadata": {},
     "output_type": "execute_result"
    }
   ],
   "source": [
    "#Displaying the dataframe\n",
    "leadCopy.head()"
   ]
  },
  {
   "cell_type": "code",
   "execution_count": 80,
   "metadata": {
    "colab": {},
    "colab_type": "code",
    "id": "wdj8RXbkd4Qn"
   },
   "outputs": [],
   "source": [
    "leadCopy['Category'] = leadCopy.Converted.astype('category')"
   ]
  },
  {
   "cell_type": "code",
   "execution_count": 81,
   "metadata": {
    "colab": {
     "base_uri": "https://localhost:8080/",
     "height": 1000
    },
    "colab_type": "code",
    "id": "Qtq574mkefFX",
    "outputId": "42cb542f-26d1-4522-93e1-14ecaa279b30"
   },
   "outputs": [
    {
     "data": {
      "image/png": "[encoded data removed]",
      "text/plain": [
       "<Figure size 1080x1080 with 6 Axes>"
      ]
     },
     "metadata": {
      "needs_background": "light"
     },
     "output_type": "display_data"
    }
   ],
   "source": [
    "Required_columns= ['Lead Origin','Lead Source', 'Last Activity', 'Specialization', 'What is your current occupation', 'A free copy of Mastering The Interview']\n",
    "sns.set_palette(\"bright\")\n",
    "\n",
    "plt.figure(figsize = (15, 15))\n",
    "\n",
    "for col in enumerate(Required_columns):\n",
    "    plt.subplot(3, 2, col[0]+1)\n",
    "    plt.title(col[1])\n",
    "    ax = sns.countplot(data = leadCopy, x=col[1], hue='Converted') \n",
    "    plt.xticks(rotation = 90)\n",
    "    plt.tight_layout()"
   ]
  },
  {
   "cell_type": "markdown",
   "metadata": {
    "colab_type": "text",
    "id": "BGXmuEcCfvF3"
   },
   "source": [
    "**Univariate analysis for Categorical data**\n",
    "\n",
    "- The percentage of Converted people is found to be greater for Landing Page Submission. We can also see that if Lead source is Add Form, the ratio of lead conversion is very high(almost not converted is very less).\n",
    "\n",
    "- Google is found to be the important source for Lead Conversion \n",
    "\n",
    "- We need to target people via Emails and SMS as it is found that the probability of response in case Converted leads is found to be higher. \n",
    "\n",
    "- We cannot infer much about conversion rate from specialisation as people who do not select any specialisation can also be converted to a lead.But the ratio of non converted leads is higher than converted ones if they didn't choose specialisation.\n",
    "\n",
    "- It is clearly visible from the graph that we need to target the Unemployed and Working Professional to get a higher conversion rate. The ratio of conversion rate is higher than not converted people for working professionals. \n",
    "\n",
    "- People usually do not subscribe for a free copy of mastering the interview."
   ]
  },
  {
   "cell_type": "markdown",
   "metadata": {
    "colab_type": "text",
    "id": "uVP5oOEcJ5bw"
   },
   "source": [
    "## **OUTLIER TREATMENT** "
   ]
  },
  {
   "cell_type": "code",
   "execution_count": 82,
   "metadata": {
    "colab": {
     "base_uri": "https://localhost:8080/",
     "height": 238
    },
    "colab_type": "code",
    "id": "eaZPNKSjKDCJ",
    "outputId": "411afdc2-5692-42b1-8cd6-c121c3b7b7d7"
   },
   "outputs": [
    {
     "data": {
      "text/plain": [
       "Prospect ID                                object\n",
       "Lead Number                                 int64\n",
       "Lead Origin                                object\n",
       "Lead Source                                object\n",
       "Converted                                   int64\n",
       "TotalVisits                               float64\n",
       "Total Time Spent on Website                 int64\n",
       "Page Views Per Visit                      float64\n",
       "Last Activity                              object\n",
       "Specialization                             object\n",
       "What is your current occupation            object\n",
       "A free copy of Mastering The Interview     object\n",
       "dtype: object"
      ]
     },
     "execution_count": 82,
     "metadata": {},
     "output_type": "execute_result"
    }
   ],
   "source": [
    "#Inspectig the data types of all columns\n",
    "lead.dtypes"
   ]
  },
  {
   "cell_type": "code",
   "execution_count": 83,
   "metadata": {
    "colab": {
     "base_uri": "https://localhost:8080/",
     "height": 728
    },
    "colab_type": "code",
    "id": "sMVATmnlKQ9L",
    "outputId": "63ebf48e-0c0e-4133-da93-4e4728467be8"
   },
   "outputs": [
    {
     "data": {
      "image/png": "[encoded data removed]",
      "text/plain": [
       "<Figure size 720x720 with 4 Axes>"
      ]
     },
     "metadata": {
      "needs_background": "light"
     },
     "output_type": "display_data"
    }
   ],
   "source": [
    "#From the above code snippet we can see that, there are 4 numerical columns - Converted , TotalVisits, Total Time Spent on Website, 'Page Views Per Visit\n",
    "#Plotting them to check for outliers.\n",
    "\n",
    "numerical_columns=['Converted','TotalVisits','Total Time Spent on Website','Page Views Per Visit']\n",
    "\n",
    "plt.figure(figsize = (10, 10))\n",
    "sns.set_palette('bright')\n",
    "for col in enumerate(numerical_columns):\n",
    "    plt.subplot(2,2, col[0]+1)\n",
    "    sns.boxplot(x = col[1], data = lead)\n",
    "    plt.xticks(rotation = 90)\n",
    "    plt.tight_layout()"
   ]
  },
  {
   "cell_type": "code",
   "execution_count": 84,
   "metadata": {
    "colab": {
     "base_uri": "https://localhost:8080/",
     "height": 163
    },
    "colab_type": "code",
    "id": "Lx_xoTE4Kw9h",
    "outputId": "bb776307-f3a5-4203-d469-8f4553c65702"
   },
   "outputs": [
    {
     "data": {
      "text/plain": [
       "count    9240.000000\n",
       "mean        3.438636\n",
       "std         4.819024\n",
       "min         0.000000\n",
       "25%         1.000000\n",
       "50%         3.000000\n",
       "75%         5.000000\n",
       "max       251.000000\n",
       "Name: TotalVisits, dtype: float64"
      ]
     },
     "execution_count": 84,
     "metadata": {},
     "output_type": "execute_result"
    }
   ],
   "source": [
    "# TotalVisits and Page Views Per Visit have outliers\n",
    "lead['TotalVisits'].describe()"
   ]
  },
  {
   "cell_type": "code",
   "execution_count": 85,
   "metadata": {
    "colab": {
     "base_uri": "https://localhost:8080/",
     "height": 33
    },
    "colab_type": "code",
    "id": "3dFN7kdFKy17",
    "outputId": "b0e8323e-4ad9-46b3-87bf-0bf7f1d20141"
   },
   "outputs": [
    {
     "data": {
      "text/plain": [
       "234.0"
      ]
     },
     "execution_count": 85,
     "metadata": {},
     "output_type": "execute_result"
    }
   ],
   "source": [
    "#diff1 will provide the difference between outliers and 99th percentile. If the value is too big, we can conclude that there are outliers.\n",
    "diff1 = lead.TotalVisits.max() - lead.TotalVisits.quantile(0.99)\n",
    "diff1"
   ]
  },
  {
   "cell_type": "code",
   "execution_count": 86,
   "metadata": {
    "colab": {
     "base_uri": "https://localhost:8080/",
     "height": 163
    },
    "colab_type": "code",
    "id": "C0u_XmkTK1Ll",
    "outputId": "deac3b9f-0c43-4be7-a015-ed4e042ad466"
   },
   "outputs": [
    {
     "data": {
      "text/plain": [
       "count    9240.000000\n",
       "mean        2.357440\n",
       "std         2.145781\n",
       "min         0.000000\n",
       "25%         1.000000\n",
       "50%         2.000000\n",
       "75%         3.000000\n",
       "max        55.000000\n",
       "Name: Page Views Per Visit, dtype: float64"
      ]
     },
     "execution_count": 86,
     "metadata": {},
     "output_type": "execute_result"
    }
   ],
   "source": [
    "lead['Page Views Per Visit'].describe()"
   ]
  },
  {
   "cell_type": "code",
   "execution_count": 87,
   "metadata": {
    "colab": {
     "base_uri": "https://localhost:8080/",
     "height": 33
    },
    "colab_type": "code",
    "id": "k63hz7TAK2qC",
    "outputId": "a9c3af55-7434-43d3-dc66-eee8dde58f1c"
   },
   "outputs": [
    {
     "data": {
      "text/plain": [
       "46.0"
      ]
     },
     "execution_count": 87,
     "metadata": {},
     "output_type": "execute_result"
    }
   ],
   "source": [
    "#diff2 will provide the difference between outliers and 99th percentile. If the value is too big, we can conclude that there are outliers.\n",
    "diff2 = lead['Page Views Per Visit'].max() - lead['Page Views Per Visit'].quantile(0.99)\n",
    "diff2"
   ]
  },
  {
   "cell_type": "markdown",
   "metadata": {
    "colab_type": "text",
    "id": "nNYY1fNxK9W8"
   },
   "source": [
    "### **Capping Outliers**"
   ]
  },
  {
   "cell_type": "markdown",
   "metadata": {
    "colab_type": "text",
    "id": "8LlcryGQLGBn"
   },
   "source": [
    "- We Perform Soft Capping \n",
    "- We check only for outliers in the upper range that are > 99th percentile\n",
    "\n"
   ]
  },
  {
   "cell_type": "code",
   "execution_count": 88,
   "metadata": {
    "colab": {},
    "colab_type": "code",
    "id": "mZQf0ox3K9AZ"
   },
   "outputs": [],
   "source": [
    "req_cols=['TotalVisits','Page Views Per Visit'] \n",
    "for col in req_cols:\n",
    "    percentiles = lead[col].quantile(0.99)  ## capping higher range outliers\n",
    "    lead[col][lead[col] >= percentiles] = percentiles"
   ]
  },
  {
   "cell_type": "code",
   "execution_count": 89,
   "metadata": {
    "colab": {
     "base_uri": "https://localhost:8080/",
     "height": 728
    },
    "colab_type": "code",
    "id": "ykugXeaQLUne",
    "outputId": "11c7063b-d121-4055-dd2a-914bc24cd2a3"
   },
   "outputs": [
    {
     "data": {
      "image/png": "[encoded data removed]",
      "text/plain": [
       "<Figure size 720x720 with 4 Axes>"
      ]
     },
     "metadata": {
      "needs_background": "light"
     },
     "output_type": "display_data"
    }
   ],
   "source": [
    "#Plotting the columns again to visualize after capping\n",
    "numerical_columns=['Converted','TotalVisits','Total Time Spent on Website','Page Views Per Visit']\n",
    "\n",
    "plt.figure(figsize = (10, 10))\n",
    "sns.set_palette('bright')\n",
    "for col in enumerate(numerical_columns):\n",
    "    plt.subplot(2,2, col[0]+1)\n",
    "    sns.boxplot(x = col[1], data = lead)\n",
    "    plt.xticks(rotation = 90)\n",
    "    plt.tight_layout()"
   ]
  },
  {
   "cell_type": "markdown",
   "metadata": {
    "colab_type": "text",
    "id": "2Q2f-TOKLltX"
   },
   "source": [
    "## ***DATA PREPARATION BEFORE MODELLING*** "
   ]
  },
  {
   "cell_type": "markdown",
   "metadata": {
    "colab_type": "text",
    "id": "joFCR7_QL525"
   },
   "source": [
    "The following steps will be done as part of data preparation.\n",
    "\n",
    "1. Converting binary variable (Yes/No) \"A free copy of Mastering The Interview\" to 1/0\n",
    "2. Create dummies for categorical columns\n",
    "3. Perform train-test split\n",
    "4. Perform Scaling"
   ]
  },
  {
   "cell_type": "markdown",
   "metadata": {
    "colab_type": "text",
    "id": "4FrjyG6wMUJX"
   },
   "source": [
    "### **Converting Binary Variables**"
   ]
  },
  {
   "cell_type": "code",
   "execution_count": 90,
   "metadata": {
    "colab": {},
    "colab_type": "code",
    "id": "WbitHCDxLbRS"
   },
   "outputs": [],
   "source": [
    "#Any kind of Data Preparation while performing Model Building involves converting Yes/No columns to binary values.\n",
    "varlist =['A free copy of Mastering The Interview']\n",
    "def binary_map(x):\n",
    "  return x.map({'Yes' : 1, \"No\": 0})\n",
    "\n",
    "lead[varlist] = lead[varlist].apply(binary_map)"
   ]
  },
  {
   "cell_type": "code",
   "execution_count": 91,
   "metadata": {
    "colab": {
     "base_uri": "https://localhost:8080/",
     "height": 0
    },
    "colab_type": "code",
    "id": "IQLcsh9_Mci7",
    "outputId": "a3ae31a9-02a7-462b-9248-1a4b690115c3"
   },
   "outputs": [
    {
     "data": {
      "text/html": [
       "<div>\n",
       "<style scoped>\n",
       "    .dataframe tbody tr th:only-of-type {\n",
       "        vertical-align: middle;\n",
       "    }\n",
       "\n",
       "    .dataframe tbody tr th {\n",
       "        vertical-align: top;\n",
       "    }\n",
       "\n",
       "    .dataframe thead th {\n",
       "        text-align: right;\n",
       "    }\n",
       "</style>\n",
       "<table border=\"1\" class=\"dataframe\">\n",
       "  <thead>\n",
       "    <tr style=\"text-align: right;\">\n",
       "      <th></th>\n",
       "      <th>Prospect ID</th>\n",
       "      <th>Lead Number</th>\n",
       "      <th>Lead Origin</th>\n",
       "      <th>Lead Source</th>\n",
       "      <th>Converted</th>\n",
       "      <th>TotalVisits</th>\n",
       "      <th>Total Time Spent on Website</th>\n",
       "      <th>Page Views Per Visit</th>\n",
       "      <th>Last Activity</th>\n",
       "      <th>Specialization</th>\n",
       "      <th>What is your current occupation</th>\n",
       "      <th>A free copy of Mastering The Interview</th>\n",
       "    </tr>\n",
       "  </thead>\n",
       "  <tbody>\n",
       "    <tr>\n",
       "      <td>0</td>\n",
       "      <td>7927b2df-8bba-4d29-b9a2-b6e0beafe620</td>\n",
       "      <td>660737</td>\n",
       "      <td>API</td>\n",
       "      <td>Olark Chat</td>\n",
       "      <td>0</td>\n",
       "      <td>0.0</td>\n",
       "      <td>0</td>\n",
       "      <td>0.0</td>\n",
       "      <td>Page Visited on Website</td>\n",
       "      <td>Not Specified</td>\n",
       "      <td>Unemployed</td>\n",
       "      <td>0</td>\n",
       "    </tr>\n",
       "    <tr>\n",
       "      <td>1</td>\n",
       "      <td>2a272436-5132-4136-86fa-dcc88c88f482</td>\n",
       "      <td>660728</td>\n",
       "      <td>API</td>\n",
       "      <td>Organic Search</td>\n",
       "      <td>0</td>\n",
       "      <td>5.0</td>\n",
       "      <td>674</td>\n",
       "      <td>2.5</td>\n",
       "      <td>Email Opened</td>\n",
       "      <td>Not Specified</td>\n",
       "      <td>Unemployed</td>\n",
       "      <td>0</td>\n",
       "    </tr>\n",
       "    <tr>\n",
       "      <td>2</td>\n",
       "      <td>8cc8c611-a219-4f35-ad23-fdfd2656bd8a</td>\n",
       "      <td>660727</td>\n",
       "      <td>Landing Page Submission</td>\n",
       "      <td>Direct Traffic</td>\n",
       "      <td>1</td>\n",
       "      <td>2.0</td>\n",
       "      <td>1532</td>\n",
       "      <td>2.0</td>\n",
       "      <td>Email Opened</td>\n",
       "      <td>Business Administration</td>\n",
       "      <td>Student</td>\n",
       "      <td>1</td>\n",
       "    </tr>\n",
       "    <tr>\n",
       "      <td>3</td>\n",
       "      <td>0cc2df48-7cf4-4e39-9de9-19797f9b38cc</td>\n",
       "      <td>660719</td>\n",
       "      <td>Landing Page Submission</td>\n",
       "      <td>Direct Traffic</td>\n",
       "      <td>0</td>\n",
       "      <td>1.0</td>\n",
       "      <td>305</td>\n",
       "      <td>1.0</td>\n",
       "      <td>Others</td>\n",
       "      <td>Media and Advertising</td>\n",
       "      <td>Unemployed</td>\n",
       "      <td>0</td>\n",
       "    </tr>\n",
       "    <tr>\n",
       "      <td>4</td>\n",
       "      <td>3256f628-e534-4826-9d63-4a8b88782852</td>\n",
       "      <td>660681</td>\n",
       "      <td>Landing Page Submission</td>\n",
       "      <td>Google</td>\n",
       "      <td>1</td>\n",
       "      <td>2.0</td>\n",
       "      <td>1428</td>\n",
       "      <td>1.0</td>\n",
       "      <td>Converted to Lead</td>\n",
       "      <td>Not Specified</td>\n",
       "      <td>Unemployed</td>\n",
       "      <td>0</td>\n",
       "    </tr>\n",
       "  </tbody>\n",
       "</table>\n",
       "</div>"
      ],
      "text/plain": [
       "                            Prospect ID  Lead Number              Lead Origin  \\\n",
       "0  7927b2df-8bba-4d29-b9a2-b6e0beafe620       660737                      API   \n",
       "1  2a272436-5132-4136-86fa-dcc88c88f482       660728                      API   \n",
       "2  8cc8c611-a219-4f35-ad23-fdfd2656bd8a       660727  Landing Page Submission   \n",
       "3  0cc2df48-7cf4-4e39-9de9-19797f9b38cc       660719  Landing Page Submission   \n",
       "4  3256f628-e534-4826-9d63-4a8b88782852       660681  Landing Page Submission   \n",
       "\n",
       "      Lead Source  Converted  TotalVisits  Total Time Spent on Website  \\\n",
       "0      Olark Chat          0          0.0                            0   \n",
       "1  Organic Search          0          5.0                          674   \n",
       "2  Direct Traffic          1          2.0                         1532   \n",
       "3  Direct Traffic          0          1.0                          305   \n",
       "4          Google          1          2.0                         1428   \n",
       "\n",
       "   Page Views Per Visit            Last Activity           Specialization  \\\n",
       "0                   0.0  Page Visited on Website            Not Specified   \n",
       "1                   2.5             Email Opened            Not Specified   \n",
       "2                   2.0             Email Opened  Business Administration   \n",
       "3                   1.0                   Others    Media and Advertising   \n",
       "4                   1.0        Converted to Lead            Not Specified   \n",
       "\n",
       "  What is your current occupation  A free copy of Mastering The Interview  \n",
       "0                      Unemployed                                       0  \n",
       "1                      Unemployed                                       0  \n",
       "2                         Student                                       1  \n",
       "3                      Unemployed                                       0  \n",
       "4                      Unemployed                                       0  "
      ]
     },
     "execution_count": 91,
     "metadata": {},
     "output_type": "execute_result"
    }
   ],
   "source": [
    "#Inspecting the data for the same. \n",
    "lead.head()"
   ]
  },
  {
   "cell_type": "markdown",
   "metadata": {
    "colab_type": "text",
    "id": "qpITdkosMu3h"
   },
   "source": [
    "### **Preliminary step before creating dummies.**"
   ]
  },
  {
   "cell_type": "markdown",
   "metadata": {
    "colab_type": "text",
    "id": "OL9M_Um3M1gP"
   },
   "source": [
    "- There are some columns with long names and this might be difficult for our analysis, hence we rename these columns"
   ]
  },
  {
   "cell_type": "code",
   "execution_count": 92,
   "metadata": {
    "colab": {
     "base_uri": "https://localhost:8080/",
     "height": 0
    },
    "colab_type": "code",
    "id": "_OlcmPtzMuPm",
    "outputId": "fa68115e-edd0-4333-892d-f53601213c6e"
   },
   "outputs": [
    {
     "data": {
      "text/plain": [
       "Index(['Prospect ID', 'Lead Number', 'Lead Origin', 'Lead Source', 'Converted',\n",
       "       'TotalVisits', 'Total Time Spent on Website', 'Page Views Per Visit',\n",
       "       'Last Activity', 'Specialization', 'What is your current occupation',\n",
       "       'A free copy of Mastering The Interview'],\n",
       "      dtype='object')"
      ]
     },
     "execution_count": 92,
     "metadata": {},
     "output_type": "execute_result"
    }
   ],
   "source": [
    "#Checking for all columns\n",
    "lead.columns"
   ]
  },
  {
   "cell_type": "code",
   "execution_count": 93,
   "metadata": {
    "colab": {},
    "colab_type": "code",
    "id": "Ovpi0sweNEKp"
   },
   "outputs": [],
   "source": [
    "#Rename the columns\n",
    "lead.rename(columns={'Total Time Spent on Website' : 'Time Spent', 'What is your current occupation':'Current Occupation', 'A free copy of Mastering The Interview':'Free Copy'}, inplace=True )"
   ]
  },
  {
   "cell_type": "code",
   "execution_count": 94,
   "metadata": {
    "colab": {
     "base_uri": "https://localhost:8080/",
     "height": 0
    },
    "colab_type": "code",
    "id": "AH6_YVYIOCfd",
    "outputId": "39fe57e4-3b67-426f-b4c7-2d29036e8a0c"
   },
   "outputs": [
    {
     "data": {
      "text/plain": [
       "Index(['Prospect ID', 'Lead Number', 'Lead Origin', 'Lead Source', 'Converted',\n",
       "       'TotalVisits', 'Time Spent', 'Page Views Per Visit', 'Last Activity',\n",
       "       'Specialization', 'Current Occupation', 'Free Copy'],\n",
       "      dtype='object')"
      ]
     },
     "execution_count": 94,
     "metadata": {},
     "output_type": "execute_result"
    }
   ],
   "source": [
    "#Check if it has correctly been renamed \n",
    "lead.columns"
   ]
  },
  {
   "cell_type": "markdown",
   "metadata": {
    "colab_type": "text",
    "id": "5jlkikIyMkr9"
   },
   "source": [
    "### **Create Dummies for Categorical columns**"
   ]
  },
  {
   "cell_type": "code",
   "execution_count": 95,
   "metadata": {
    "colab": {
     "base_uri": "https://localhost:8080/",
     "height": 0
    },
    "colab_type": "code",
    "id": "fNNDCQeXOSw2",
    "outputId": "c5f70601-995a-467d-8a5b-663d38d0a473"
   },
   "outputs": [
    {
     "data": {
      "text/plain": [
       "Prospect ID              object\n",
       "Lead Number               int64\n",
       "Lead Origin              object\n",
       "Lead Source              object\n",
       "Converted                 int64\n",
       "TotalVisits             float64\n",
       "Time Spent                int64\n",
       "Page Views Per Visit    float64\n",
       "Last Activity            object\n",
       "Specialization           object\n",
       "Current Occupation       object\n",
       "Free Copy                 int64\n",
       "dtype: object"
      ]
     },
     "execution_count": 95,
     "metadata": {},
     "output_type": "execute_result"
    }
   ],
   "source": [
    "#Checking for categorical columns in the dataframe.\n",
    "lead.dtypes"
   ]
  },
  {
   "cell_type": "code",
   "execution_count": 96,
   "metadata": {
    "colab": {},
    "colab_type": "code",
    "id": "1Zi_U16pMowt"
   },
   "outputs": [],
   "source": [
    "# Creating a dummy variable for some of the categorical variables and dropping the first one.\n",
    "dummy1 = pd.get_dummies(lead[['Lead Origin','Lead Source','Last Activity','Specialization','Current Occupation']], drop_first=True)\n",
    "\n",
    "# Adding the results to the master dataframe\n",
    "lead = pd.concat([lead, dummy1], axis=1)"
   ]
  },
  {
   "cell_type": "code",
   "execution_count": 97,
   "metadata": {
    "colab": {
     "base_uri": "https://localhost:8080/",
     "height": 0
    },
    "colab_type": "code",
    "id": "kLkYu0sdOsr9",
    "outputId": "cd456986-ea55-44ef-c389-88bd9ced35f2"
   },
   "outputs": [
    {
     "data": {
      "text/html": [
       "<div>\n",
       "<style scoped>\n",
       "    .dataframe tbody tr th:only-of-type {\n",
       "        vertical-align: middle;\n",
       "    }\n",
       "\n",
       "    .dataframe tbody tr th {\n",
       "        vertical-align: top;\n",
       "    }\n",
       "\n",
       "    .dataframe thead th {\n",
       "        text-align: right;\n",
       "    }\n",
       "</style>\n",
       "<table border=\"1\" class=\"dataframe\">\n",
       "  <thead>\n",
       "    <tr style=\"text-align: right;\">\n",
       "      <th></th>\n",
       "      <th>Prospect ID</th>\n",
       "      <th>Lead Number</th>\n",
       "      <th>Lead Origin</th>\n",
       "      <th>Lead Source</th>\n",
       "      <th>Converted</th>\n",
       "      <th>TotalVisits</th>\n",
       "      <th>Time Spent</th>\n",
       "      <th>Page Views Per Visit</th>\n",
       "      <th>Last Activity</th>\n",
       "      <th>Specialization</th>\n",
       "      <th>...</th>\n",
       "      <th>Specialization_Marketing Management</th>\n",
       "      <th>Specialization_Media and Advertising</th>\n",
       "      <th>Specialization_Not Specified</th>\n",
       "      <th>Specialization_Operations Management</th>\n",
       "      <th>Specialization_Others</th>\n",
       "      <th>Specialization_Supply Chain Management</th>\n",
       "      <th>Specialization_Travel and Tourism</th>\n",
       "      <th>Current Occupation_Student</th>\n",
       "      <th>Current Occupation_Unemployed</th>\n",
       "      <th>Current Occupation_Working Professional</th>\n",
       "    </tr>\n",
       "  </thead>\n",
       "  <tbody>\n",
       "    <tr>\n",
       "      <td>0</td>\n",
       "      <td>7927b2df-8bba-4d29-b9a2-b6e0beafe620</td>\n",
       "      <td>660737</td>\n",
       "      <td>API</td>\n",
       "      <td>Olark Chat</td>\n",
       "      <td>0</td>\n",
       "      <td>0.0</td>\n",
       "      <td>0</td>\n",
       "      <td>0.0</td>\n",
       "      <td>Page Visited on Website</td>\n",
       "      <td>Not Specified</td>\n",
       "      <td>...</td>\n",
       "      <td>0</td>\n",
       "      <td>0</td>\n",
       "      <td>1</td>\n",
       "      <td>0</td>\n",
       "      <td>0</td>\n",
       "      <td>0</td>\n",
       "      <td>0</td>\n",
       "      <td>0</td>\n",
       "      <td>1</td>\n",
       "      <td>0</td>\n",
       "    </tr>\n",
       "    <tr>\n",
       "      <td>1</td>\n",
       "      <td>2a272436-5132-4136-86fa-dcc88c88f482</td>\n",
       "      <td>660728</td>\n",
       "      <td>API</td>\n",
       "      <td>Organic Search</td>\n",
       "      <td>0</td>\n",
       "      <td>5.0</td>\n",
       "      <td>674</td>\n",
       "      <td>2.5</td>\n",
       "      <td>Email Opened</td>\n",
       "      <td>Not Specified</td>\n",
       "      <td>...</td>\n",
       "      <td>0</td>\n",
       "      <td>0</td>\n",
       "      <td>1</td>\n",
       "      <td>0</td>\n",
       "      <td>0</td>\n",
       "      <td>0</td>\n",
       "      <td>0</td>\n",
       "      <td>0</td>\n",
       "      <td>1</td>\n",
       "      <td>0</td>\n",
       "    </tr>\n",
       "    <tr>\n",
       "      <td>2</td>\n",
       "      <td>8cc8c611-a219-4f35-ad23-fdfd2656bd8a</td>\n",
       "      <td>660727</td>\n",
       "      <td>Landing Page Submission</td>\n",
       "      <td>Direct Traffic</td>\n",
       "      <td>1</td>\n",
       "      <td>2.0</td>\n",
       "      <td>1532</td>\n",
       "      <td>2.0</td>\n",
       "      <td>Email Opened</td>\n",
       "      <td>Business Administration</td>\n",
       "      <td>...</td>\n",
       "      <td>0</td>\n",
       "      <td>0</td>\n",
       "      <td>0</td>\n",
       "      <td>0</td>\n",
       "      <td>0</td>\n",
       "      <td>0</td>\n",
       "      <td>0</td>\n",
       "      <td>1</td>\n",
       "      <td>0</td>\n",
       "      <td>0</td>\n",
       "    </tr>\n",
       "    <tr>\n",
       "      <td>3</td>\n",
       "      <td>0cc2df48-7cf4-4e39-9de9-19797f9b38cc</td>\n",
       "      <td>660719</td>\n",
       "      <td>Landing Page Submission</td>\n",
       "      <td>Direct Traffic</td>\n",
       "      <td>0</td>\n",
       "      <td>1.0</td>\n",
       "      <td>305</td>\n",
       "      <td>1.0</td>\n",
       "      <td>Others</td>\n",
       "      <td>Media and Advertising</td>\n",
       "      <td>...</td>\n",
       "      <td>0</td>\n",
       "      <td>1</td>\n",
       "      <td>0</td>\n",
       "      <td>0</td>\n",
       "      <td>0</td>\n",
       "      <td>0</td>\n",
       "      <td>0</td>\n",
       "      <td>0</td>\n",
       "      <td>1</td>\n",
       "      <td>0</td>\n",
       "    </tr>\n",
       "    <tr>\n",
       "      <td>4</td>\n",
       "      <td>3256f628-e534-4826-9d63-4a8b88782852</td>\n",
       "      <td>660681</td>\n",
       "      <td>Landing Page Submission</td>\n",
       "      <td>Google</td>\n",
       "      <td>1</td>\n",
       "      <td>2.0</td>\n",
       "      <td>1428</td>\n",
       "      <td>1.0</td>\n",
       "      <td>Converted to Lead</td>\n",
       "      <td>Not Specified</td>\n",
       "      <td>...</td>\n",
       "      <td>0</td>\n",
       "      <td>0</td>\n",
       "      <td>1</td>\n",
       "      <td>0</td>\n",
       "      <td>0</td>\n",
       "      <td>0</td>\n",
       "      <td>0</td>\n",
       "      <td>0</td>\n",
       "      <td>1</td>\n",
       "      <td>0</td>\n",
       "    </tr>\n",
       "  </tbody>\n",
       "</table>\n",
       "<p>5 rows × 43 columns</p>\n",
       "</div>"
      ],
      "text/plain": [
       "                            Prospect ID  Lead Number              Lead Origin  \\\n",
       "0  7927b2df-8bba-4d29-b9a2-b6e0beafe620       660737                      API   \n",
       "1  2a272436-5132-4136-86fa-dcc88c88f482       660728                      API   \n",
       "2  8cc8c611-a219-4f35-ad23-fdfd2656bd8a       660727  Landing Page Submission   \n",
       "3  0cc2df48-7cf4-4e39-9de9-19797f9b38cc       660719  Landing Page Submission   \n",
       "4  3256f628-e534-4826-9d63-4a8b88782852       660681  Landing Page Submission   \n",
       "\n",
       "      Lead Source  Converted  TotalVisits  Time Spent  Page Views Per Visit  \\\n",
       "0      Olark Chat          0          0.0           0                   0.0   \n",
       "1  Organic Search          0          5.0         674                   2.5   \n",
       "2  Direct Traffic          1          2.0        1532                   2.0   \n",
       "3  Direct Traffic          0          1.0         305                   1.0   \n",
       "4          Google          1          2.0        1428                   1.0   \n",
       "\n",
       "             Last Activity           Specialization  ...  \\\n",
       "0  Page Visited on Website            Not Specified  ...   \n",
       "1             Email Opened            Not Specified  ...   \n",
       "2             Email Opened  Business Administration  ...   \n",
       "3                   Others    Media and Advertising  ...   \n",
       "4        Converted to Lead            Not Specified  ...   \n",
       "\n",
       "  Specialization_Marketing Management  Specialization_Media and Advertising  \\\n",
       "0                                   0                                     0   \n",
       "1                                   0                                     0   \n",
       "2                                   0                                     0   \n",
       "3                                   0                                     1   \n",
       "4                                   0                                     0   \n",
       "\n",
       "   Specialization_Not Specified  Specialization_Operations Management  \\\n",
       "0                             1                                     0   \n",
       "1                             1                                     0   \n",
       "2                             0                                     0   \n",
       "3                             0                                     0   \n",
       "4                             1                                     0   \n",
       "\n",
       "   Specialization_Others  Specialization_Supply Chain Management  \\\n",
       "0                      0                                       0   \n",
       "1                      0                                       0   \n",
       "2                      0                                       0   \n",
       "3                      0                                       0   \n",
       "4                      0                                       0   \n",
       "\n",
       "   Specialization_Travel and Tourism  Current Occupation_Student  \\\n",
       "0                                  0                           0   \n",
       "1                                  0                           0   \n",
       "2                                  0                           1   \n",
       "3                                  0                           0   \n",
       "4                                  0                           0   \n",
       "\n",
       "   Current Occupation_Unemployed  Current Occupation_Working Professional  \n",
       "0                              1                                        0  \n",
       "1                              1                                        0  \n",
       "2                              0                                        0  \n",
       "3                              1                                        0  \n",
       "4                              1                                        0  \n",
       "\n",
       "[5 rows x 43 columns]"
      ]
     },
     "execution_count": 97,
     "metadata": {},
     "output_type": "execute_result"
    }
   ],
   "source": [
    "#Checking if the dummy-variables are added into the dataframe correctly.\n",
    "lead.head()"
   ]
  },
  {
   "cell_type": "code",
   "execution_count": 98,
   "metadata": {
    "colab": {},
    "colab_type": "code",
    "id": "2r1nafyiO_tH"
   },
   "outputs": [],
   "source": [
    "#Dropping the original columns\n",
    "lead.drop(['Lead Origin','Lead Source','Last Activity','Specialization','Current Occupation'],axis=1,inplace=True)"
   ]
  },
  {
   "cell_type": "code",
   "execution_count": 99,
   "metadata": {
    "colab": {
     "base_uri": "https://localhost:8080/",
     "height": 0
    },
    "colab_type": "code",
    "id": "ZlO7Bd0yPJ83",
    "outputId": "e2d4e75a-ffbb-4007-ea79-09cd76f0b3b1"
   },
   "outputs": [
    {
     "data": {
      "text/html": [
       "<div>\n",
       "<style scoped>\n",
       "    .dataframe tbody tr th:only-of-type {\n",
       "        vertical-align: middle;\n",
       "    }\n",
       "\n",
       "    .dataframe tbody tr th {\n",
       "        vertical-align: top;\n",
       "    }\n",
       "\n",
       "    .dataframe thead th {\n",
       "        text-align: right;\n",
       "    }\n",
       "</style>\n",
       "<table border=\"1\" class=\"dataframe\">\n",
       "  <thead>\n",
       "    <tr style=\"text-align: right;\">\n",
       "      <th></th>\n",
       "      <th>Prospect ID</th>\n",
       "      <th>Lead Number</th>\n",
       "      <th>Converted</th>\n",
       "      <th>TotalVisits</th>\n",
       "      <th>Time Spent</th>\n",
       "      <th>Page Views Per Visit</th>\n",
       "      <th>Free Copy</th>\n",
       "      <th>Lead Origin_Landing Page Submission</th>\n",
       "      <th>Lead Origin_Lead Add Form</th>\n",
       "      <th>Lead Origin_Others</th>\n",
       "      <th>...</th>\n",
       "      <th>Specialization_Marketing Management</th>\n",
       "      <th>Specialization_Media and Advertising</th>\n",
       "      <th>Specialization_Not Specified</th>\n",
       "      <th>Specialization_Operations Management</th>\n",
       "      <th>Specialization_Others</th>\n",
       "      <th>Specialization_Supply Chain Management</th>\n",
       "      <th>Specialization_Travel and Tourism</th>\n",
       "      <th>Current Occupation_Student</th>\n",
       "      <th>Current Occupation_Unemployed</th>\n",
       "      <th>Current Occupation_Working Professional</th>\n",
       "    </tr>\n",
       "  </thead>\n",
       "  <tbody>\n",
       "    <tr>\n",
       "      <td>0</td>\n",
       "      <td>7927b2df-8bba-4d29-b9a2-b6e0beafe620</td>\n",
       "      <td>660737</td>\n",
       "      <td>0</td>\n",
       "      <td>0.0</td>\n",
       "      <td>0</td>\n",
       "      <td>0.0</td>\n",
       "      <td>0</td>\n",
       "      <td>0</td>\n",
       "      <td>0</td>\n",
       "      <td>0</td>\n",
       "      <td>...</td>\n",
       "      <td>0</td>\n",
       "      <td>0</td>\n",
       "      <td>1</td>\n",
       "      <td>0</td>\n",
       "      <td>0</td>\n",
       "      <td>0</td>\n",
       "      <td>0</td>\n",
       "      <td>0</td>\n",
       "      <td>1</td>\n",
       "      <td>0</td>\n",
       "    </tr>\n",
       "    <tr>\n",
       "      <td>1</td>\n",
       "      <td>2a272436-5132-4136-86fa-dcc88c88f482</td>\n",
       "      <td>660728</td>\n",
       "      <td>0</td>\n",
       "      <td>5.0</td>\n",
       "      <td>674</td>\n",
       "      <td>2.5</td>\n",
       "      <td>0</td>\n",
       "      <td>0</td>\n",
       "      <td>0</td>\n",
       "      <td>0</td>\n",
       "      <td>...</td>\n",
       "      <td>0</td>\n",
       "      <td>0</td>\n",
       "      <td>1</td>\n",
       "      <td>0</td>\n",
       "      <td>0</td>\n",
       "      <td>0</td>\n",
       "      <td>0</td>\n",
       "      <td>0</td>\n",
       "      <td>1</td>\n",
       "      <td>0</td>\n",
       "    </tr>\n",
       "    <tr>\n",
       "      <td>2</td>\n",
       "      <td>8cc8c611-a219-4f35-ad23-fdfd2656bd8a</td>\n",
       "      <td>660727</td>\n",
       "      <td>1</td>\n",
       "      <td>2.0</td>\n",
       "      <td>1532</td>\n",
       "      <td>2.0</td>\n",
       "      <td>1</td>\n",
       "      <td>1</td>\n",
       "      <td>0</td>\n",
       "      <td>0</td>\n",
       "      <td>...</td>\n",
       "      <td>0</td>\n",
       "      <td>0</td>\n",
       "      <td>0</td>\n",
       "      <td>0</td>\n",
       "      <td>0</td>\n",
       "      <td>0</td>\n",
       "      <td>0</td>\n",
       "      <td>1</td>\n",
       "      <td>0</td>\n",
       "      <td>0</td>\n",
       "    </tr>\n",
       "    <tr>\n",
       "      <td>3</td>\n",
       "      <td>0cc2df48-7cf4-4e39-9de9-19797f9b38cc</td>\n",
       "      <td>660719</td>\n",
       "      <td>0</td>\n",
       "      <td>1.0</td>\n",
       "      <td>305</td>\n",
       "      <td>1.0</td>\n",
       "      <td>0</td>\n",
       "      <td>1</td>\n",
       "      <td>0</td>\n",
       "      <td>0</td>\n",
       "      <td>...</td>\n",
       "      <td>0</td>\n",
       "      <td>1</td>\n",
       "      <td>0</td>\n",
       "      <td>0</td>\n",
       "      <td>0</td>\n",
       "      <td>0</td>\n",
       "      <td>0</td>\n",
       "      <td>0</td>\n",
       "      <td>1</td>\n",
       "      <td>0</td>\n",
       "    </tr>\n",
       "    <tr>\n",
       "      <td>4</td>\n",
       "      <td>3256f628-e534-4826-9d63-4a8b88782852</td>\n",
       "      <td>660681</td>\n",
       "      <td>1</td>\n",
       "      <td>2.0</td>\n",
       "      <td>1428</td>\n",
       "      <td>1.0</td>\n",
       "      <td>0</td>\n",
       "      <td>1</td>\n",
       "      <td>0</td>\n",
       "      <td>0</td>\n",
       "      <td>...</td>\n",
       "      <td>0</td>\n",
       "      <td>0</td>\n",
       "      <td>1</td>\n",
       "      <td>0</td>\n",
       "      <td>0</td>\n",
       "      <td>0</td>\n",
       "      <td>0</td>\n",
       "      <td>0</td>\n",
       "      <td>1</td>\n",
       "      <td>0</td>\n",
       "    </tr>\n",
       "  </tbody>\n",
       "</table>\n",
       "<p>5 rows × 38 columns</p>\n",
       "</div>"
      ],
      "text/plain": [
       "                            Prospect ID  Lead Number  Converted  TotalVisits  \\\n",
       "0  7927b2df-8bba-4d29-b9a2-b6e0beafe620       660737          0          0.0   \n",
       "1  2a272436-5132-4136-86fa-dcc88c88f482       660728          0          5.0   \n",
       "2  8cc8c611-a219-4f35-ad23-fdfd2656bd8a       660727          1          2.0   \n",
       "3  0cc2df48-7cf4-4e39-9de9-19797f9b38cc       660719          0          1.0   \n",
       "4  3256f628-e534-4826-9d63-4a8b88782852       660681          1          2.0   \n",
       "\n",
       "   Time Spent  Page Views Per Visit  Free Copy  \\\n",
       "0           0                   0.0          0   \n",
       "1         674                   2.5          0   \n",
       "2        1532                   2.0          1   \n",
       "3         305                   1.0          0   \n",
       "4        1428                   1.0          0   \n",
       "\n",
       "   Lead Origin_Landing Page Submission  Lead Origin_Lead Add Form  \\\n",
       "0                                    0                          0   \n",
       "1                                    0                          0   \n",
       "2                                    1                          0   \n",
       "3                                    1                          0   \n",
       "4                                    1                          0   \n",
       "\n",
       "   Lead Origin_Others  ...  Specialization_Marketing Management  \\\n",
       "0                   0  ...                                    0   \n",
       "1                   0  ...                                    0   \n",
       "2                   0  ...                                    0   \n",
       "3                   0  ...                                    0   \n",
       "4                   0  ...                                    0   \n",
       "\n",
       "   Specialization_Media and Advertising  Specialization_Not Specified  \\\n",
       "0                                     0                             1   \n",
       "1                                     0                             1   \n",
       "2                                     0                             0   \n",
       "3                                     1                             0   \n",
       "4                                     0                             1   \n",
       "\n",
       "   Specialization_Operations Management  Specialization_Others  \\\n",
       "0                                     0                      0   \n",
       "1                                     0                      0   \n",
       "2                                     0                      0   \n",
       "3                                     0                      0   \n",
       "4                                     0                      0   \n",
       "\n",
       "   Specialization_Supply Chain Management  Specialization_Travel and Tourism  \\\n",
       "0                                       0                                  0   \n",
       "1                                       0                                  0   \n",
       "2                                       0                                  0   \n",
       "3                                       0                                  0   \n",
       "4                                       0                                  0   \n",
       "\n",
       "   Current Occupation_Student  Current Occupation_Unemployed  \\\n",
       "0                           0                              1   \n",
       "1                           0                              1   \n",
       "2                           1                              0   \n",
       "3                           0                              1   \n",
       "4                           0                              1   \n",
       "\n",
       "   Current Occupation_Working Professional  \n",
       "0                                        0  \n",
       "1                                        0  \n",
       "2                                        0  \n",
       "3                                        0  \n",
       "4                                        0  \n",
       "\n",
       "[5 rows x 38 columns]"
      ]
     },
     "execution_count": 99,
     "metadata": {},
     "output_type": "execute_result"
    }
   ],
   "source": [
    "#Inspecting the dataframe again \n",
    "lead.head()"
   ]
  },
  {
   "cell_type": "markdown",
   "metadata": {
    "colab_type": "text",
    "id": "UhlEW8H6TGWr"
   },
   "source": [
    "### **Checking the datatypes of all columns**"
   ]
  },
  {
   "cell_type": "code",
   "execution_count": 100,
   "metadata": {
    "colab": {
     "base_uri": "https://localhost:8080/",
     "height": 0
    },
    "colab_type": "code",
    "id": "Ps3CwYNCTF0i",
    "outputId": "40fd3989-4f89-4991-c949-8a0311394c42"
   },
   "outputs": [
    {
     "data": {
      "text/plain": [
       "Prospect ID                                  object\n",
       "Lead Number                                   int64\n",
       "Converted                                     int64\n",
       "TotalVisits                                 float64\n",
       "Time Spent                                    int64\n",
       "Page Views Per Visit                        float64\n",
       "Free Copy                                     int64\n",
       "Lead Origin_Landing Page Submission           uint8\n",
       "Lead Origin_Lead Add Form                     uint8\n",
       "Lead Origin_Others                            uint8\n",
       "Lead Source_Google                            uint8\n",
       "Lead Source_Olark Chat                        uint8\n",
       "Lead Source_Organic Search                    uint8\n",
       "Lead Source_Others                            uint8\n",
       "Lead Source_Reference                         uint8\n",
       "Last Activity_Email Bounced                   uint8\n",
       "Last Activity_Email Link Clicked              uint8\n",
       "Last Activity_Email Opened                    uint8\n",
       "Last Activity_Olark Chat Conversation         uint8\n",
       "Last Activity_Others                          uint8\n",
       "Last Activity_Page Visited on Website         uint8\n",
       "Last Activity_SMS Sent                        uint8\n",
       "Specialization_Business Administration        uint8\n",
       "Specialization_Finance Management             uint8\n",
       "Specialization_Healthcare Management          uint8\n",
       "Specialization_Human Resource Management      uint8\n",
       "Specialization_IT Projects Management         uint8\n",
       "Specialization_International Business         uint8\n",
       "Specialization_Marketing Management           uint8\n",
       "Specialization_Media and Advertising          uint8\n",
       "Specialization_Not Specified                  uint8\n",
       "Specialization_Operations Management          uint8\n",
       "Specialization_Others                         uint8\n",
       "Specialization_Supply Chain Management        uint8\n",
       "Specialization_Travel and Tourism             uint8\n",
       "Current Occupation_Student                    uint8\n",
       "Current Occupation_Unemployed                 uint8\n",
       "Current Occupation_Working Professional       uint8\n",
       "dtype: object"
      ]
     },
     "execution_count": 100,
     "metadata": {},
     "output_type": "execute_result"
    }
   ],
   "source": [
    "#Datatypes\n",
    "lead.dtypes"
   ]
  },
  {
   "cell_type": "markdown",
   "metadata": {
    "colab_type": "text",
    "id": "_2Axm168TYw_"
   },
   "source": [
    "**We can see that mostly all columns are already converted into Integer/Numerical datatype, and hence we can continue with our evaluation**"
   ]
  },
  {
   "cell_type": "markdown",
   "metadata": {
    "colab_type": "text",
    "id": "gwRI1SspTrfq"
   },
   "source": [
    "### **Test-Train Data Split**"
   ]
  },
  {
   "cell_type": "code",
   "execution_count": 101,
   "metadata": {
    "colab": {},
    "colab_type": "code",
    "id": "YcubW0Q8TVWQ"
   },
   "outputs": [],
   "source": [
    "#Importing the required libraries to divide the data into test data and training data.\n",
    "from sklearn.model_selection import train_test_split"
   ]
  },
  {
   "cell_type": "code",
   "execution_count": 102,
   "metadata": {
    "colab": {},
    "colab_type": "code",
    "id": "3Z7TVM8LT7td"
   },
   "outputs": [],
   "source": [
    "#Adding all feature columns to X Variable\n",
    "X = lead.drop(['Converted','Prospect ID','Lead Number'], axis=1)"
   ]
  },
  {
   "cell_type": "code",
   "execution_count": 103,
   "metadata": {
    "colab": {
     "base_uri": "https://localhost:8080/",
     "height": 0
    },
    "colab_type": "code",
    "id": "jnMkP1GaUiiM",
    "outputId": "87ec40d1-5265-42ce-fe20-f2e4d3519cc1"
   },
   "outputs": [
    {
     "data": {
      "text/html": [
       "<div>\n",
       "<style scoped>\n",
       "    .dataframe tbody tr th:only-of-type {\n",
       "        vertical-align: middle;\n",
       "    }\n",
       "\n",
       "    .dataframe tbody tr th {\n",
       "        vertical-align: top;\n",
       "    }\n",
       "\n",
       "    .dataframe thead th {\n",
       "        text-align: right;\n",
       "    }\n",
       "</style>\n",
       "<table border=\"1\" class=\"dataframe\">\n",
       "  <thead>\n",
       "    <tr style=\"text-align: right;\">\n",
       "      <th></th>\n",
       "      <th>TotalVisits</th>\n",
       "      <th>Time Spent</th>\n",
       "      <th>Page Views Per Visit</th>\n",
       "      <th>Free Copy</th>\n",
       "      <th>Lead Origin_Landing Page Submission</th>\n",
       "      <th>Lead Origin_Lead Add Form</th>\n",
       "      <th>Lead Origin_Others</th>\n",
       "      <th>Lead Source_Google</th>\n",
       "      <th>Lead Source_Olark Chat</th>\n",
       "      <th>Lead Source_Organic Search</th>\n",
       "      <th>...</th>\n",
       "      <th>Specialization_Marketing Management</th>\n",
       "      <th>Specialization_Media and Advertising</th>\n",
       "      <th>Specialization_Not Specified</th>\n",
       "      <th>Specialization_Operations Management</th>\n",
       "      <th>Specialization_Others</th>\n",
       "      <th>Specialization_Supply Chain Management</th>\n",
       "      <th>Specialization_Travel and Tourism</th>\n",
       "      <th>Current Occupation_Student</th>\n",
       "      <th>Current Occupation_Unemployed</th>\n",
       "      <th>Current Occupation_Working Professional</th>\n",
       "    </tr>\n",
       "  </thead>\n",
       "  <tbody>\n",
       "    <tr>\n",
       "      <td>0</td>\n",
       "      <td>0.0</td>\n",
       "      <td>0</td>\n",
       "      <td>0.0</td>\n",
       "      <td>0</td>\n",
       "      <td>0</td>\n",
       "      <td>0</td>\n",
       "      <td>0</td>\n",
       "      <td>0</td>\n",
       "      <td>1</td>\n",
       "      <td>0</td>\n",
       "      <td>...</td>\n",
       "      <td>0</td>\n",
       "      <td>0</td>\n",
       "      <td>1</td>\n",
       "      <td>0</td>\n",
       "      <td>0</td>\n",
       "      <td>0</td>\n",
       "      <td>0</td>\n",
       "      <td>0</td>\n",
       "      <td>1</td>\n",
       "      <td>0</td>\n",
       "    </tr>\n",
       "    <tr>\n",
       "      <td>1</td>\n",
       "      <td>5.0</td>\n",
       "      <td>674</td>\n",
       "      <td>2.5</td>\n",
       "      <td>0</td>\n",
       "      <td>0</td>\n",
       "      <td>0</td>\n",
       "      <td>0</td>\n",
       "      <td>0</td>\n",
       "      <td>0</td>\n",
       "      <td>1</td>\n",
       "      <td>...</td>\n",
       "      <td>0</td>\n",
       "      <td>0</td>\n",
       "      <td>1</td>\n",
       "      <td>0</td>\n",
       "      <td>0</td>\n",
       "      <td>0</td>\n",
       "      <td>0</td>\n",
       "      <td>0</td>\n",
       "      <td>1</td>\n",
       "      <td>0</td>\n",
       "    </tr>\n",
       "    <tr>\n",
       "      <td>2</td>\n",
       "      <td>2.0</td>\n",
       "      <td>1532</td>\n",
       "      <td>2.0</td>\n",
       "      <td>1</td>\n",
       "      <td>1</td>\n",
       "      <td>0</td>\n",
       "      <td>0</td>\n",
       "      <td>0</td>\n",
       "      <td>0</td>\n",
       "      <td>0</td>\n",
       "      <td>...</td>\n",
       "      <td>0</td>\n",
       "      <td>0</td>\n",
       "      <td>0</td>\n",
       "      <td>0</td>\n",
       "      <td>0</td>\n",
       "      <td>0</td>\n",
       "      <td>0</td>\n",
       "      <td>1</td>\n",
       "      <td>0</td>\n",
       "      <td>0</td>\n",
       "    </tr>\n",
       "    <tr>\n",
       "      <td>3</td>\n",
       "      <td>1.0</td>\n",
       "      <td>305</td>\n",
       "      <td>1.0</td>\n",
       "      <td>0</td>\n",
       "      <td>1</td>\n",
       "      <td>0</td>\n",
       "      <td>0</td>\n",
       "      <td>0</td>\n",
       "      <td>0</td>\n",
       "      <td>0</td>\n",
       "      <td>...</td>\n",
       "      <td>0</td>\n",
       "      <td>1</td>\n",
       "      <td>0</td>\n",
       "      <td>0</td>\n",
       "      <td>0</td>\n",
       "      <td>0</td>\n",
       "      <td>0</td>\n",
       "      <td>0</td>\n",
       "      <td>1</td>\n",
       "      <td>0</td>\n",
       "    </tr>\n",
       "    <tr>\n",
       "      <td>4</td>\n",
       "      <td>2.0</td>\n",
       "      <td>1428</td>\n",
       "      <td>1.0</td>\n",
       "      <td>0</td>\n",
       "      <td>1</td>\n",
       "      <td>0</td>\n",
       "      <td>0</td>\n",
       "      <td>1</td>\n",
       "      <td>0</td>\n",
       "      <td>0</td>\n",
       "      <td>...</td>\n",
       "      <td>0</td>\n",
       "      <td>0</td>\n",
       "      <td>1</td>\n",
       "      <td>0</td>\n",
       "      <td>0</td>\n",
       "      <td>0</td>\n",
       "      <td>0</td>\n",
       "      <td>0</td>\n",
       "      <td>1</td>\n",
       "      <td>0</td>\n",
       "    </tr>\n",
       "  </tbody>\n",
       "</table>\n",
       "<p>5 rows × 35 columns</p>\n",
       "</div>"
      ],
      "text/plain": [
       "   TotalVisits  Time Spent  Page Views Per Visit  Free Copy  \\\n",
       "0          0.0           0                   0.0          0   \n",
       "1          5.0         674                   2.5          0   \n",
       "2          2.0        1532                   2.0          1   \n",
       "3          1.0         305                   1.0          0   \n",
       "4          2.0        1428                   1.0          0   \n",
       "\n",
       "   Lead Origin_Landing Page Submission  Lead Origin_Lead Add Form  \\\n",
       "0                                    0                          0   \n",
       "1                                    0                          0   \n",
       "2                                    1                          0   \n",
       "3                                    1                          0   \n",
       "4                                    1                          0   \n",
       "\n",
       "   Lead Origin_Others  Lead Source_Google  Lead Source_Olark Chat  \\\n",
       "0                   0                   0                       1   \n",
       "1                   0                   0                       0   \n",
       "2                   0                   0                       0   \n",
       "3                   0                   0                       0   \n",
       "4                   0                   1                       0   \n",
       "\n",
       "   Lead Source_Organic Search  ...  Specialization_Marketing Management  \\\n",
       "0                           0  ...                                    0   \n",
       "1                           1  ...                                    0   \n",
       "2                           0  ...                                    0   \n",
       "3                           0  ...                                    0   \n",
       "4                           0  ...                                    0   \n",
       "\n",
       "   Specialization_Media and Advertising  Specialization_Not Specified  \\\n",
       "0                                     0                             1   \n",
       "1                                     0                             1   \n",
       "2                                     0                             0   \n",
       "3                                     1                             0   \n",
       "4                                     0                             1   \n",
       "\n",
       "   Specialization_Operations Management  Specialization_Others  \\\n",
       "0                                     0                      0   \n",
       "1                                     0                      0   \n",
       "2                                     0                      0   \n",
       "3                                     0                      0   \n",
       "4                                     0                      0   \n",
       "\n",
       "   Specialization_Supply Chain Management  Specialization_Travel and Tourism  \\\n",
       "0                                       0                                  0   \n",
       "1                                       0                                  0   \n",
       "2                                       0                                  0   \n",
       "3                                       0                                  0   \n",
       "4                                       0                                  0   \n",
       "\n",
       "   Current Occupation_Student  Current Occupation_Unemployed  \\\n",
       "0                           0                              1   \n",
       "1                           0                              1   \n",
       "2                           1                              0   \n",
       "3                           0                              1   \n",
       "4                           0                              1   \n",
       "\n",
       "   Current Occupation_Working Professional  \n",
       "0                                        0  \n",
       "1                                        0  \n",
       "2                                        0  \n",
       "3                                        0  \n",
       "4                                        0  \n",
       "\n",
       "[5 rows x 35 columns]"
      ]
     },
     "execution_count": 103,
     "metadata": {},
     "output_type": "execute_result"
    }
   ],
   "source": [
    "X.head()"
   ]
  },
  {
   "cell_type": "code",
   "execution_count": 104,
   "metadata": {
    "colab": {},
    "colab_type": "code",
    "id": "FNrUqkEeULMU"
   },
   "outputs": [],
   "source": [
    "#Adding our target column to Y Variable\n",
    "y = lead['Converted']"
   ]
  },
  {
   "cell_type": "code",
   "execution_count": 105,
   "metadata": {
    "colab": {
     "base_uri": "https://localhost:8080/",
     "height": 0
    },
    "colab_type": "code",
    "id": "i2hwV6K8UniE",
    "outputId": "8535382e-a3e0-4b8c-9030-510c3a13043e"
   },
   "outputs": [
    {
     "data": {
      "text/plain": [
       "0    0\n",
       "1    0\n",
       "2    1\n",
       "3    0\n",
       "4    1\n",
       "Name: Converted, dtype: int64"
      ]
     },
     "execution_count": 105,
     "metadata": {},
     "output_type": "execute_result"
    }
   ],
   "source": [
    "y.head()"
   ]
  },
  {
   "cell_type": "code",
   "execution_count": 106,
   "metadata": {
    "colab": {},
    "colab_type": "code",
    "id": "F91U1GmIUStv"
   },
   "outputs": [],
   "source": [
    "# Splitting the data into train and test (70%-30%)\n",
    "X_train, X_test, y_train, y_test = train_test_split(X, y, train_size=0.7, test_size=0.3, random_state=100)"
   ]
  },
  {
   "cell_type": "markdown",
   "metadata": {
    "colab_type": "text",
    "id": "n8GdBYLtUrbn"
   },
   "source": [
    "### **Scaling all the required variables**"
   ]
  },
  {
   "cell_type": "code",
   "execution_count": 107,
   "metadata": {
    "colab": {
     "base_uri": "https://localhost:8080/",
     "height": 0
    },
    "colab_type": "code",
    "id": "-3XYL7xrVA67",
    "outputId": "1effaed7-3d8c-4368-8d49-64df2b07271a"
   },
   "outputs": [
    {
     "data": {
      "text/html": [
       "<div>\n",
       "<style scoped>\n",
       "    .dataframe tbody tr th:only-of-type {\n",
       "        vertical-align: middle;\n",
       "    }\n",
       "\n",
       "    .dataframe tbody tr th {\n",
       "        vertical-align: top;\n",
       "    }\n",
       "\n",
       "    .dataframe thead th {\n",
       "        text-align: right;\n",
       "    }\n",
       "</style>\n",
       "<table border=\"1\" class=\"dataframe\">\n",
       "  <thead>\n",
       "    <tr style=\"text-align: right;\">\n",
       "      <th></th>\n",
       "      <th>TotalVisits</th>\n",
       "      <th>Time Spent</th>\n",
       "      <th>Page Views Per Visit</th>\n",
       "      <th>Free Copy</th>\n",
       "      <th>Lead Origin_Landing Page Submission</th>\n",
       "      <th>Lead Origin_Lead Add Form</th>\n",
       "      <th>Lead Origin_Others</th>\n",
       "      <th>Lead Source_Google</th>\n",
       "      <th>Lead Source_Olark Chat</th>\n",
       "      <th>Lead Source_Organic Search</th>\n",
       "      <th>...</th>\n",
       "      <th>Specialization_Marketing Management</th>\n",
       "      <th>Specialization_Media and Advertising</th>\n",
       "      <th>Specialization_Not Specified</th>\n",
       "      <th>Specialization_Operations Management</th>\n",
       "      <th>Specialization_Others</th>\n",
       "      <th>Specialization_Supply Chain Management</th>\n",
       "      <th>Specialization_Travel and Tourism</th>\n",
       "      <th>Current Occupation_Student</th>\n",
       "      <th>Current Occupation_Unemployed</th>\n",
       "      <th>Current Occupation_Working Professional</th>\n",
       "    </tr>\n",
       "  </thead>\n",
       "  <tbody>\n",
       "    <tr>\n",
       "      <td>0</td>\n",
       "      <td>0.0</td>\n",
       "      <td>0</td>\n",
       "      <td>0.0</td>\n",
       "      <td>0</td>\n",
       "      <td>0</td>\n",
       "      <td>0</td>\n",
       "      <td>0</td>\n",
       "      <td>0</td>\n",
       "      <td>1</td>\n",
       "      <td>0</td>\n",
       "      <td>...</td>\n",
       "      <td>0</td>\n",
       "      <td>0</td>\n",
       "      <td>1</td>\n",
       "      <td>0</td>\n",
       "      <td>0</td>\n",
       "      <td>0</td>\n",
       "      <td>0</td>\n",
       "      <td>0</td>\n",
       "      <td>1</td>\n",
       "      <td>0</td>\n",
       "    </tr>\n",
       "    <tr>\n",
       "      <td>1</td>\n",
       "      <td>5.0</td>\n",
       "      <td>674</td>\n",
       "      <td>2.5</td>\n",
       "      <td>0</td>\n",
       "      <td>0</td>\n",
       "      <td>0</td>\n",
       "      <td>0</td>\n",
       "      <td>0</td>\n",
       "      <td>0</td>\n",
       "      <td>1</td>\n",
       "      <td>...</td>\n",
       "      <td>0</td>\n",
       "      <td>0</td>\n",
       "      <td>1</td>\n",
       "      <td>0</td>\n",
       "      <td>0</td>\n",
       "      <td>0</td>\n",
       "      <td>0</td>\n",
       "      <td>0</td>\n",
       "      <td>1</td>\n",
       "      <td>0</td>\n",
       "    </tr>\n",
       "    <tr>\n",
       "      <td>2</td>\n",
       "      <td>2.0</td>\n",
       "      <td>1532</td>\n",
       "      <td>2.0</td>\n",
       "      <td>1</td>\n",
       "      <td>1</td>\n",
       "      <td>0</td>\n",
       "      <td>0</td>\n",
       "      <td>0</td>\n",
       "      <td>0</td>\n",
       "      <td>0</td>\n",
       "      <td>...</td>\n",
       "      <td>0</td>\n",
       "      <td>0</td>\n",
       "      <td>0</td>\n",
       "      <td>0</td>\n",
       "      <td>0</td>\n",
       "      <td>0</td>\n",
       "      <td>0</td>\n",
       "      <td>1</td>\n",
       "      <td>0</td>\n",
       "      <td>0</td>\n",
       "    </tr>\n",
       "    <tr>\n",
       "      <td>3</td>\n",
       "      <td>1.0</td>\n",
       "      <td>305</td>\n",
       "      <td>1.0</td>\n",
       "      <td>0</td>\n",
       "      <td>1</td>\n",
       "      <td>0</td>\n",
       "      <td>0</td>\n",
       "      <td>0</td>\n",
       "      <td>0</td>\n",
       "      <td>0</td>\n",
       "      <td>...</td>\n",
       "      <td>0</td>\n",
       "      <td>1</td>\n",
       "      <td>0</td>\n",
       "      <td>0</td>\n",
       "      <td>0</td>\n",
       "      <td>0</td>\n",
       "      <td>0</td>\n",
       "      <td>0</td>\n",
       "      <td>1</td>\n",
       "      <td>0</td>\n",
       "    </tr>\n",
       "    <tr>\n",
       "      <td>4</td>\n",
       "      <td>2.0</td>\n",
       "      <td>1428</td>\n",
       "      <td>1.0</td>\n",
       "      <td>0</td>\n",
       "      <td>1</td>\n",
       "      <td>0</td>\n",
       "      <td>0</td>\n",
       "      <td>1</td>\n",
       "      <td>0</td>\n",
       "      <td>0</td>\n",
       "      <td>...</td>\n",
       "      <td>0</td>\n",
       "      <td>0</td>\n",
       "      <td>1</td>\n",
       "      <td>0</td>\n",
       "      <td>0</td>\n",
       "      <td>0</td>\n",
       "      <td>0</td>\n",
       "      <td>0</td>\n",
       "      <td>1</td>\n",
       "      <td>0</td>\n",
       "    </tr>\n",
       "  </tbody>\n",
       "</table>\n",
       "<p>5 rows × 35 columns</p>\n",
       "</div>"
      ],
      "text/plain": [
       "   TotalVisits  Time Spent  Page Views Per Visit  Free Copy  \\\n",
       "0          0.0           0                   0.0          0   \n",
       "1          5.0         674                   2.5          0   \n",
       "2          2.0        1532                   2.0          1   \n",
       "3          1.0         305                   1.0          0   \n",
       "4          2.0        1428                   1.0          0   \n",
       "\n",
       "   Lead Origin_Landing Page Submission  Lead Origin_Lead Add Form  \\\n",
       "0                                    0                          0   \n",
       "1                                    0                          0   \n",
       "2                                    1                          0   \n",
       "3                                    1                          0   \n",
       "4                                    1                          0   \n",
       "\n",
       "   Lead Origin_Others  Lead Source_Google  Lead Source_Olark Chat  \\\n",
       "0                   0                   0                       1   \n",
       "1                   0                   0                       0   \n",
       "2                   0                   0                       0   \n",
       "3                   0                   0                       0   \n",
       "4                   0                   1                       0   \n",
       "\n",
       "   Lead Source_Organic Search  ...  Specialization_Marketing Management  \\\n",
       "0                           0  ...                                    0   \n",
       "1                           1  ...                                    0   \n",
       "2                           0  ...                                    0   \n",
       "3                           0  ...                                    0   \n",
       "4                           0  ...                                    0   \n",
       "\n",
       "   Specialization_Media and Advertising  Specialization_Not Specified  \\\n",
       "0                                     0                             1   \n",
       "1                                     0                             1   \n",
       "2                                     0                             0   \n",
       "3                                     1                             0   \n",
       "4                                     0                             1   \n",
       "\n",
       "   Specialization_Operations Management  Specialization_Others  \\\n",
       "0                                     0                      0   \n",
       "1                                     0                      0   \n",
       "2                                     0                      0   \n",
       "3                                     0                      0   \n",
       "4                                     0                      0   \n",
       "\n",
       "   Specialization_Supply Chain Management  Specialization_Travel and Tourism  \\\n",
       "0                                       0                                  0   \n",
       "1                                       0                                  0   \n",
       "2                                       0                                  0   \n",
       "3                                       0                                  0   \n",
       "4                                       0                                  0   \n",
       "\n",
       "   Current Occupation_Student  Current Occupation_Unemployed  \\\n",
       "0                           0                              1   \n",
       "1                           0                              1   \n",
       "2                           1                              0   \n",
       "3                           0                              1   \n",
       "4                           0                              1   \n",
       "\n",
       "   Current Occupation_Working Professional  \n",
       "0                                        0  \n",
       "1                                        0  \n",
       "2                                        0  \n",
       "3                                        0  \n",
       "4                                        0  \n",
       "\n",
       "[5 rows x 35 columns]"
      ]
     },
     "execution_count": 107,
     "metadata": {},
     "output_type": "execute_result"
    }
   ],
   "source": [
    "#Checking the dataframe again\n",
    "X.head()"
   ]
  },
  {
   "cell_type": "code",
   "execution_count": 108,
   "metadata": {
    "colab": {
     "base_uri": "https://localhost:8080/",
     "height": 0
    },
    "colab_type": "code",
    "id": "DHjpPSmqUrOc",
    "outputId": "a1461e75-687c-4c33-f7c0-14388e4da6a2"
   },
   "outputs": [
    {
     "data": {
      "text/html": [
       "<div>\n",
       "<style scoped>\n",
       "    .dataframe tbody tr th:only-of-type {\n",
       "        vertical-align: middle;\n",
       "    }\n",
       "\n",
       "    .dataframe tbody tr th {\n",
       "        vertical-align: top;\n",
       "    }\n",
       "\n",
       "    .dataframe thead th {\n",
       "        text-align: right;\n",
       "    }\n",
       "</style>\n",
       "<table border=\"1\" class=\"dataframe\">\n",
       "  <thead>\n",
       "    <tr style=\"text-align: right;\">\n",
       "      <th></th>\n",
       "      <th>TotalVisits</th>\n",
       "      <th>Time Spent</th>\n",
       "      <th>Page Views Per Visit</th>\n",
       "      <th>Free Copy</th>\n",
       "      <th>Lead Origin_Landing Page Submission</th>\n",
       "      <th>Lead Origin_Lead Add Form</th>\n",
       "      <th>Lead Origin_Others</th>\n",
       "      <th>Lead Source_Google</th>\n",
       "      <th>Lead Source_Olark Chat</th>\n",
       "      <th>Lead Source_Organic Search</th>\n",
       "      <th>...</th>\n",
       "      <th>Specialization_Marketing Management</th>\n",
       "      <th>Specialization_Media and Advertising</th>\n",
       "      <th>Specialization_Not Specified</th>\n",
       "      <th>Specialization_Operations Management</th>\n",
       "      <th>Specialization_Others</th>\n",
       "      <th>Specialization_Supply Chain Management</th>\n",
       "      <th>Specialization_Travel and Tourism</th>\n",
       "      <th>Current Occupation_Student</th>\n",
       "      <th>Current Occupation_Unemployed</th>\n",
       "      <th>Current Occupation_Working Professional</th>\n",
       "    </tr>\n",
       "  </thead>\n",
       "  <tbody>\n",
       "    <tr>\n",
       "      <td>1871</td>\n",
       "      <td>-1.022595</td>\n",
       "      <td>-0.885371</td>\n",
       "      <td>-1.180474</td>\n",
       "      <td>0</td>\n",
       "      <td>0</td>\n",
       "      <td>0</td>\n",
       "      <td>0</td>\n",
       "      <td>0</td>\n",
       "      <td>1</td>\n",
       "      <td>0</td>\n",
       "      <td>...</td>\n",
       "      <td>1</td>\n",
       "      <td>0</td>\n",
       "      <td>0</td>\n",
       "      <td>0</td>\n",
       "      <td>0</td>\n",
       "      <td>0</td>\n",
       "      <td>0</td>\n",
       "      <td>0</td>\n",
       "      <td>1</td>\n",
       "      <td>0</td>\n",
       "    </tr>\n",
       "    <tr>\n",
       "      <td>6795</td>\n",
       "      <td>0.205373</td>\n",
       "      <td>0.005716</td>\n",
       "      <td>-0.503379</td>\n",
       "      <td>1</td>\n",
       "      <td>1</td>\n",
       "      <td>0</td>\n",
       "      <td>0</td>\n",
       "      <td>0</td>\n",
       "      <td>0</td>\n",
       "      <td>0</td>\n",
       "      <td>...</td>\n",
       "      <td>0</td>\n",
       "      <td>0</td>\n",
       "      <td>1</td>\n",
       "      <td>0</td>\n",
       "      <td>0</td>\n",
       "      <td>0</td>\n",
       "      <td>0</td>\n",
       "      <td>0</td>\n",
       "      <td>1</td>\n",
       "      <td>0</td>\n",
       "    </tr>\n",
       "    <tr>\n",
       "      <td>3516</td>\n",
       "      <td>0.512365</td>\n",
       "      <td>-0.691418</td>\n",
       "      <td>0.092260</td>\n",
       "      <td>0</td>\n",
       "      <td>0</td>\n",
       "      <td>0</td>\n",
       "      <td>0</td>\n",
       "      <td>0</td>\n",
       "      <td>1</td>\n",
       "      <td>0</td>\n",
       "      <td>...</td>\n",
       "      <td>0</td>\n",
       "      <td>0</td>\n",
       "      <td>1</td>\n",
       "      <td>0</td>\n",
       "      <td>0</td>\n",
       "      <td>0</td>\n",
       "      <td>0</td>\n",
       "      <td>0</td>\n",
       "      <td>1</td>\n",
       "      <td>0</td>\n",
       "    </tr>\n",
       "    <tr>\n",
       "      <td>8105</td>\n",
       "      <td>0.512365</td>\n",
       "      <td>1.365219</td>\n",
       "      <td>1.364995</td>\n",
       "      <td>0</td>\n",
       "      <td>1</td>\n",
       "      <td>0</td>\n",
       "      <td>0</td>\n",
       "      <td>1</td>\n",
       "      <td>0</td>\n",
       "      <td>0</td>\n",
       "      <td>...</td>\n",
       "      <td>0</td>\n",
       "      <td>0</td>\n",
       "      <td>0</td>\n",
       "      <td>0</td>\n",
       "      <td>1</td>\n",
       "      <td>0</td>\n",
       "      <td>0</td>\n",
       "      <td>0</td>\n",
       "      <td>1</td>\n",
       "      <td>0</td>\n",
       "    </tr>\n",
       "    <tr>\n",
       "      <td>3934</td>\n",
       "      <td>-1.022595</td>\n",
       "      <td>-0.885371</td>\n",
       "      <td>-1.180474</td>\n",
       "      <td>0</td>\n",
       "      <td>0</td>\n",
       "      <td>0</td>\n",
       "      <td>0</td>\n",
       "      <td>0</td>\n",
       "      <td>1</td>\n",
       "      <td>0</td>\n",
       "      <td>...</td>\n",
       "      <td>0</td>\n",
       "      <td>0</td>\n",
       "      <td>1</td>\n",
       "      <td>0</td>\n",
       "      <td>0</td>\n",
       "      <td>0</td>\n",
       "      <td>0</td>\n",
       "      <td>0</td>\n",
       "      <td>1</td>\n",
       "      <td>0</td>\n",
       "    </tr>\n",
       "  </tbody>\n",
       "</table>\n",
       "<p>5 rows × 35 columns</p>\n",
       "</div>"
      ],
      "text/plain": [
       "      TotalVisits  Time Spent  Page Views Per Visit  Free Copy  \\\n",
       "1871    -1.022595   -0.885371             -1.180474          0   \n",
       "6795     0.205373    0.005716             -0.503379          1   \n",
       "3516     0.512365   -0.691418              0.092260          0   \n",
       "8105     0.512365    1.365219              1.364995          0   \n",
       "3934    -1.022595   -0.885371             -1.180474          0   \n",
       "\n",
       "      Lead Origin_Landing Page Submission  Lead Origin_Lead Add Form  \\\n",
       "1871                                    0                          0   \n",
       "6795                                    1                          0   \n",
       "3516                                    0                          0   \n",
       "8105                                    1                          0   \n",
       "3934                                    0                          0   \n",
       "\n",
       "      Lead Origin_Others  Lead Source_Google  Lead Source_Olark Chat  \\\n",
       "1871                   0                   0                       1   \n",
       "6795                   0                   0                       0   \n",
       "3516                   0                   0                       1   \n",
       "8105                   0                   1                       0   \n",
       "3934                   0                   0                       1   \n",
       "\n",
       "      Lead Source_Organic Search  ...  Specialization_Marketing Management  \\\n",
       "1871                           0  ...                                    1   \n",
       "6795                           0  ...                                    0   \n",
       "3516                           0  ...                                    0   \n",
       "8105                           0  ...                                    0   \n",
       "3934                           0  ...                                    0   \n",
       "\n",
       "      Specialization_Media and Advertising  Specialization_Not Specified  \\\n",
       "1871                                     0                             0   \n",
       "6795                                     0                             1   \n",
       "3516                                     0                             1   \n",
       "8105                                     0                             0   \n",
       "3934                                     0                             1   \n",
       "\n",
       "      Specialization_Operations Management  Specialization_Others  \\\n",
       "1871                                     0                      0   \n",
       "6795                                     0                      0   \n",
       "3516                                     0                      0   \n",
       "8105                                     0                      1   \n",
       "3934                                     0                      0   \n",
       "\n",
       "      Specialization_Supply Chain Management  \\\n",
       "1871                                       0   \n",
       "6795                                       0   \n",
       "3516                                       0   \n",
       "8105                                       0   \n",
       "3934                                       0   \n",
       "\n",
       "      Specialization_Travel and Tourism  Current Occupation_Student  \\\n",
       "1871                                  0                           0   \n",
       "6795                                  0                           0   \n",
       "3516                                  0                           0   \n",
       "8105                                  0                           0   \n",
       "3934                                  0                           0   \n",
       "\n",
       "      Current Occupation_Unemployed  Current Occupation_Working Professional  \n",
       "1871                              1                                        0  \n",
       "6795                              1                                        0  \n",
       "3516                              1                                        0  \n",
       "8105                              1                                        0  \n",
       "3934                              1                                        0  \n",
       "\n",
       "[5 rows x 35 columns]"
      ]
     },
     "execution_count": 108,
     "metadata": {},
     "output_type": "execute_result"
    }
   ],
   "source": [
    "#We can see that columns except TotalVisits, Time Spent and Page Views Per Visit all the other columns are present in the range of 0 - 1, so we need to scale these variables as well.\n",
    "scaler = StandardScaler()\n",
    "X_train[['TotalVisits','Time Spent','Page Views Per Visit']] = scaler.fit_transform(X_train[['TotalVisits','Time Spent','Page Views Per Visit']])\n",
    "X_train.head()"
   ]
  },
  {
   "cell_type": "code",
   "execution_count": 109,
   "metadata": {
    "colab": {
     "base_uri": "https://localhost:8080/",
     "height": 0
    },
    "colab_type": "code",
    "id": "RtxUV-JYVfvD",
    "outputId": "32a80790-e89a-4fa2-a216-dcf1186d0fb8"
   },
   "outputs": [
    {
     "data": {
      "text/html": [
       "<div>\n",
       "<style scoped>\n",
       "    .dataframe tbody tr th:only-of-type {\n",
       "        vertical-align: middle;\n",
       "    }\n",
       "\n",
       "    .dataframe tbody tr th {\n",
       "        vertical-align: top;\n",
       "    }\n",
       "\n",
       "    .dataframe thead th {\n",
       "        text-align: right;\n",
       "    }\n",
       "</style>\n",
       "<table border=\"1\" class=\"dataframe\">\n",
       "  <thead>\n",
       "    <tr style=\"text-align: right;\">\n",
       "      <th></th>\n",
       "      <th>TotalVisits</th>\n",
       "      <th>Time Spent</th>\n",
       "      <th>Page Views Per Visit</th>\n",
       "      <th>Free Copy</th>\n",
       "      <th>Lead Origin_Landing Page Submission</th>\n",
       "      <th>Lead Origin_Lead Add Form</th>\n",
       "      <th>Lead Origin_Others</th>\n",
       "      <th>Lead Source_Google</th>\n",
       "      <th>Lead Source_Olark Chat</th>\n",
       "      <th>Lead Source_Organic Search</th>\n",
       "      <th>...</th>\n",
       "      <th>Specialization_Marketing Management</th>\n",
       "      <th>Specialization_Media and Advertising</th>\n",
       "      <th>Specialization_Not Specified</th>\n",
       "      <th>Specialization_Operations Management</th>\n",
       "      <th>Specialization_Others</th>\n",
       "      <th>Specialization_Supply Chain Management</th>\n",
       "      <th>Specialization_Travel and Tourism</th>\n",
       "      <th>Current Occupation_Student</th>\n",
       "      <th>Current Occupation_Unemployed</th>\n",
       "      <th>Current Occupation_Working Professional</th>\n",
       "    </tr>\n",
       "  </thead>\n",
       "  <tbody>\n",
       "    <tr>\n",
       "      <td>count</td>\n",
       "      <td>6.468000e+03</td>\n",
       "      <td>6.468000e+03</td>\n",
       "      <td>6.468000e+03</td>\n",
       "      <td>6468.000000</td>\n",
       "      <td>6468.000000</td>\n",
       "      <td>6468.000000</td>\n",
       "      <td>6468.000000</td>\n",
       "      <td>6468.000000</td>\n",
       "      <td>6468.000000</td>\n",
       "      <td>6468.000000</td>\n",
       "      <td>...</td>\n",
       "      <td>6468.000000</td>\n",
       "      <td>6468.000000</td>\n",
       "      <td>6468.000000</td>\n",
       "      <td>6468.000000</td>\n",
       "      <td>6468.000000</td>\n",
       "      <td>6468.000000</td>\n",
       "      <td>6468.000000</td>\n",
       "      <td>6468.000000</td>\n",
       "      <td>6468.000000</td>\n",
       "      <td>6468.000000</td>\n",
       "    </tr>\n",
       "    <tr>\n",
       "      <td>mean</td>\n",
       "      <td>-1.346411e-16</td>\n",
       "      <td>-1.609377e-16</td>\n",
       "      <td>-4.136731e-17</td>\n",
       "      <td>0.311843</td>\n",
       "      <td>0.528139</td>\n",
       "      <td>0.079468</td>\n",
       "      <td>0.005257</td>\n",
       "      <td>0.320037</td>\n",
       "      <td>0.190167</td>\n",
       "      <td>0.121058</td>\n",
       "      <td>...</td>\n",
       "      <td>0.093383</td>\n",
       "      <td>0.020563</td>\n",
       "      <td>0.367502</td>\n",
       "      <td>0.057205</td>\n",
       "      <td>0.055040</td>\n",
       "      <td>0.037570</td>\n",
       "      <td>0.021336</td>\n",
       "      <td>0.021027</td>\n",
       "      <td>0.897805</td>\n",
       "      <td>0.077613</td>\n",
       "    </tr>\n",
       "    <tr>\n",
       "      <td>std</td>\n",
       "      <td>1.000077e+00</td>\n",
       "      <td>1.000077e+00</td>\n",
       "      <td>1.000077e+00</td>\n",
       "      <td>0.463282</td>\n",
       "      <td>0.499246</td>\n",
       "      <td>0.270489</td>\n",
       "      <td>0.072318</td>\n",
       "      <td>0.466527</td>\n",
       "      <td>0.392463</td>\n",
       "      <td>0.326219</td>\n",
       "      <td>...</td>\n",
       "      <td>0.290991</td>\n",
       "      <td>0.141926</td>\n",
       "      <td>0.482162</td>\n",
       "      <td>0.232251</td>\n",
       "      <td>0.228076</td>\n",
       "      <td>0.190168</td>\n",
       "      <td>0.144512</td>\n",
       "      <td>0.143484</td>\n",
       "      <td>0.302929</td>\n",
       "      <td>0.267582</td>\n",
       "    </tr>\n",
       "    <tr>\n",
       "      <td>min</td>\n",
       "      <td>-1.022595e+00</td>\n",
       "      <td>-8.853708e-01</td>\n",
       "      <td>-1.180474e+00</td>\n",
       "      <td>0.000000</td>\n",
       "      <td>0.000000</td>\n",
       "      <td>0.000000</td>\n",
       "      <td>0.000000</td>\n",
       "      <td>0.000000</td>\n",
       "      <td>0.000000</td>\n",
       "      <td>0.000000</td>\n",
       "      <td>...</td>\n",
       "      <td>0.000000</td>\n",
       "      <td>0.000000</td>\n",
       "      <td>0.000000</td>\n",
       "      <td>0.000000</td>\n",
       "      <td>0.000000</td>\n",
       "      <td>0.000000</td>\n",
       "      <td>0.000000</td>\n",
       "      <td>0.000000</td>\n",
       "      <td>0.000000</td>\n",
       "      <td>0.000000</td>\n",
       "    </tr>\n",
       "    <tr>\n",
       "      <td>25%</td>\n",
       "      <td>-7.156027e-01</td>\n",
       "      <td>-8.634138e-01</td>\n",
       "      <td>-6.713803e-01</td>\n",
       "      <td>0.000000</td>\n",
       "      <td>0.000000</td>\n",
       "      <td>0.000000</td>\n",
       "      <td>0.000000</td>\n",
       "      <td>0.000000</td>\n",
       "      <td>0.000000</td>\n",
       "      <td>0.000000</td>\n",
       "      <td>...</td>\n",
       "      <td>0.000000</td>\n",
       "      <td>0.000000</td>\n",
       "      <td>0.000000</td>\n",
       "      <td>0.000000</td>\n",
       "      <td>0.000000</td>\n",
       "      <td>0.000000</td>\n",
       "      <td>0.000000</td>\n",
       "      <td>0.000000</td>\n",
       "      <td>1.000000</td>\n",
       "      <td>0.000000</td>\n",
       "    </tr>\n",
       "    <tr>\n",
       "      <td>50%</td>\n",
       "      <td>-1.016187e-01</td>\n",
       "      <td>-4.352528e-01</td>\n",
       "      <td>-1.622866e-01</td>\n",
       "      <td>0.000000</td>\n",
       "      <td>1.000000</td>\n",
       "      <td>0.000000</td>\n",
       "      <td>0.000000</td>\n",
       "      <td>0.000000</td>\n",
       "      <td>0.000000</td>\n",
       "      <td>0.000000</td>\n",
       "      <td>...</td>\n",
       "      <td>0.000000</td>\n",
       "      <td>0.000000</td>\n",
       "      <td>0.000000</td>\n",
       "      <td>0.000000</td>\n",
       "      <td>0.000000</td>\n",
       "      <td>0.000000</td>\n",
       "      <td>0.000000</td>\n",
       "      <td>0.000000</td>\n",
       "      <td>1.000000</td>\n",
       "      <td>0.000000</td>\n",
       "    </tr>\n",
       "    <tr>\n",
       "      <td>75%</td>\n",
       "      <td>5.123653e-01</td>\n",
       "      <td>8.098906e-01</td>\n",
       "      <td>3.468071e-01</td>\n",
       "      <td>1.000000</td>\n",
       "      <td>1.000000</td>\n",
       "      <td>0.000000</td>\n",
       "      <td>0.000000</td>\n",
       "      <td>1.000000</td>\n",
       "      <td>0.000000</td>\n",
       "      <td>0.000000</td>\n",
       "      <td>...</td>\n",
       "      <td>0.000000</td>\n",
       "      <td>0.000000</td>\n",
       "      <td>1.000000</td>\n",
       "      <td>0.000000</td>\n",
       "      <td>0.000000</td>\n",
       "      <td>0.000000</td>\n",
       "      <td>0.000000</td>\n",
       "      <td>0.000000</td>\n",
       "      <td>1.000000</td>\n",
       "      <td>0.000000</td>\n",
       "    </tr>\n",
       "    <tr>\n",
       "      <td>max</td>\n",
       "      <td>4.196269e+00</td>\n",
       "      <td>3.271816e+00</td>\n",
       "      <td>3.401369e+00</td>\n",
       "      <td>1.000000</td>\n",
       "      <td>1.000000</td>\n",
       "      <td>1.000000</td>\n",
       "      <td>1.000000</td>\n",
       "      <td>1.000000</td>\n",
       "      <td>1.000000</td>\n",
       "      <td>1.000000</td>\n",
       "      <td>...</td>\n",
       "      <td>1.000000</td>\n",
       "      <td>1.000000</td>\n",
       "      <td>1.000000</td>\n",
       "      <td>1.000000</td>\n",
       "      <td>1.000000</td>\n",
       "      <td>1.000000</td>\n",
       "      <td>1.000000</td>\n",
       "      <td>1.000000</td>\n",
       "      <td>1.000000</td>\n",
       "      <td>1.000000</td>\n",
       "    </tr>\n",
       "  </tbody>\n",
       "</table>\n",
       "<p>8 rows × 35 columns</p>\n",
       "</div>"
      ],
      "text/plain": [
       "        TotalVisits    Time Spent  Page Views Per Visit    Free Copy  \\\n",
       "count  6.468000e+03  6.468000e+03          6.468000e+03  6468.000000   \n",
       "mean  -1.346411e-16 -1.609377e-16         -4.136731e-17     0.311843   \n",
       "std    1.000077e+00  1.000077e+00          1.000077e+00     0.463282   \n",
       "min   -1.022595e+00 -8.853708e-01         -1.180474e+00     0.000000   \n",
       "25%   -7.156027e-01 -8.634138e-01         -6.713803e-01     0.000000   \n",
       "50%   -1.016187e-01 -4.352528e-01         -1.622866e-01     0.000000   \n",
       "75%    5.123653e-01  8.098906e-01          3.468071e-01     1.000000   \n",
       "max    4.196269e+00  3.271816e+00          3.401369e+00     1.000000   \n",
       "\n",
       "       Lead Origin_Landing Page Submission  Lead Origin_Lead Add Form  \\\n",
       "count                          6468.000000                6468.000000   \n",
       "mean                              0.528139                   0.079468   \n",
       "std                               0.499246                   0.270489   \n",
       "min                               0.000000                   0.000000   \n",
       "25%                               0.000000                   0.000000   \n",
       "50%                               1.000000                   0.000000   \n",
       "75%                               1.000000                   0.000000   \n",
       "max                               1.000000                   1.000000   \n",
       "\n",
       "       Lead Origin_Others  Lead Source_Google  Lead Source_Olark Chat  \\\n",
       "count         6468.000000         6468.000000             6468.000000   \n",
       "mean             0.005257            0.320037                0.190167   \n",
       "std              0.072318            0.466527                0.392463   \n",
       "min              0.000000            0.000000                0.000000   \n",
       "25%              0.000000            0.000000                0.000000   \n",
       "50%              0.000000            0.000000                0.000000   \n",
       "75%              0.000000            1.000000                0.000000   \n",
       "max              1.000000            1.000000                1.000000   \n",
       "\n",
       "       Lead Source_Organic Search  ...  Specialization_Marketing Management  \\\n",
       "count                 6468.000000  ...                          6468.000000   \n",
       "mean                     0.121058  ...                             0.093383   \n",
       "std                      0.326219  ...                             0.290991   \n",
       "min                      0.000000  ...                             0.000000   \n",
       "25%                      0.000000  ...                             0.000000   \n",
       "50%                      0.000000  ...                             0.000000   \n",
       "75%                      0.000000  ...                             0.000000   \n",
       "max                      1.000000  ...                             1.000000   \n",
       "\n",
       "       Specialization_Media and Advertising  Specialization_Not Specified  \\\n",
       "count                           6468.000000                   6468.000000   \n",
       "mean                               0.020563                      0.367502   \n",
       "std                                0.141926                      0.482162   \n",
       "min                                0.000000                      0.000000   \n",
       "25%                                0.000000                      0.000000   \n",
       "50%                                0.000000                      0.000000   \n",
       "75%                                0.000000                      1.000000   \n",
       "max                                1.000000                      1.000000   \n",
       "\n",
       "       Specialization_Operations Management  Specialization_Others  \\\n",
       "count                           6468.000000            6468.000000   \n",
       "mean                               0.057205               0.055040   \n",
       "std                                0.232251               0.228076   \n",
       "min                                0.000000               0.000000   \n",
       "25%                                0.000000               0.000000   \n",
       "50%                                0.000000               0.000000   \n",
       "75%                                0.000000               0.000000   \n",
       "max                                1.000000               1.000000   \n",
       "\n",
       "       Specialization_Supply Chain Management  \\\n",
       "count                             6468.000000   \n",
       "mean                                 0.037570   \n",
       "std                                  0.190168   \n",
       "min                                  0.000000   \n",
       "25%                                  0.000000   \n",
       "50%                                  0.000000   \n",
       "75%                                  0.000000   \n",
       "max                                  1.000000   \n",
       "\n",
       "       Specialization_Travel and Tourism  Current Occupation_Student  \\\n",
       "count                        6468.000000                 6468.000000   \n",
       "mean                            0.021336                    0.021027   \n",
       "std                             0.144512                    0.143484   \n",
       "min                             0.000000                    0.000000   \n",
       "25%                             0.000000                    0.000000   \n",
       "50%                             0.000000                    0.000000   \n",
       "75%                             0.000000                    0.000000   \n",
       "max                             1.000000                    1.000000   \n",
       "\n",
       "       Current Occupation_Unemployed  Current Occupation_Working Professional  \n",
       "count                    6468.000000                              6468.000000  \n",
       "mean                        0.897805                                 0.077613  \n",
       "std                         0.302929                                 0.267582  \n",
       "min                         0.000000                                 0.000000  \n",
       "25%                         1.000000                                 0.000000  \n",
       "50%                         1.000000                                 0.000000  \n",
       "75%                         1.000000                                 0.000000  \n",
       "max                         1.000000                                 1.000000  \n",
       "\n",
       "[8 rows x 35 columns]"
      ]
     },
     "execution_count": 109,
     "metadata": {},
     "output_type": "execute_result"
    }
   ],
   "source": [
    "#Checking the mean and standard deviation\n",
    "X_train.describe()"
   ]
  },
  {
   "cell_type": "markdown",
   "metadata": {
    "colab_type": "text",
    "id": "LUNKWUl6Gel9"
   },
   "source": [
    "**Standard Deviation is set to 1 and hence it is scaled correctly.**"
   ]
  },
  {
   "cell_type": "markdown",
   "metadata": {
    "colab_type": "text",
    "id": "sGlNm14xVtiS"
   },
   "source": [
    "### **Conversion Rate before modelling**"
   ]
  },
  {
   "cell_type": "code",
   "execution_count": 110,
   "metadata": {
    "colab": {
     "base_uri": "https://localhost:8080/",
     "height": 33
    },
    "colab_type": "code",
    "id": "WabG0EhbVxlD",
    "outputId": "2371daf6-28b4-4d24-84e7-f37576008792"
   },
   "outputs": [
    {
     "data": {
      "text/plain": [
       "38.53896103896104"
      ]
     },
     "execution_count": 110,
     "metadata": {},
     "output_type": "execute_result"
    }
   ],
   "source": [
    "#Checking the Converted Rate\n",
    "Converted_Rate = (sum(lead['Converted'])/len(lead['Converted'].index))*100\n",
    "Converted_Rate"
   ]
  },
  {
   "cell_type": "markdown",
   "metadata": {
    "colab_type": "text",
    "id": "aSWUCr2uV0zm"
   },
   "source": [
    "**We can see that conversion rate before modelling is found to be around 38.53%**"
   ]
  },
  {
   "cell_type": "markdown",
   "metadata": {
    "colab_type": "text",
    "id": "rlLyojyxq2Yd"
   },
   "source": [
    "## ***MODEL BUILDING***\n"
   ]
  },
  {
   "cell_type": "markdown",
   "metadata": {
    "colab_type": "text",
    "id": "S0axlu5urEvC"
   },
   "source": [
    "### ***Model - I***"
   ]
  },
  {
   "cell_type": "code",
   "execution_count": 111,
   "metadata": {
    "colab": {
     "base_uri": "https://localhost:8080/",
     "height": 0
    },
    "colab_type": "code",
    "id": "bD06sevCrEYb",
    "outputId": "9c39c00a-1fd9-442b-f849-7055d6c0a246"
   },
   "outputs": [
    {
     "data": {
      "text/plain": [
       "<statsmodels.genmod.generalized_linear_model.GLMResultsWrapper at 0x234995f6a08>"
      ]
     },
     "execution_count": 111,
     "metadata": {},
     "output_type": "execute_result"
    }
   ],
   "source": [
    "# Logistic regression model\n",
    "logm1 = sm.GLM(y_train,(sm.add_constant(X_train)), family = sm.families.Binomial())\n",
    "logm1.fit()"
   ]
  },
  {
   "cell_type": "code",
   "execution_count": 112,
   "metadata": {
    "colab": {
     "base_uri": "https://localhost:8080/",
     "height": 0
    },
    "colab_type": "code",
    "id": "pQxgntflrAAt",
    "outputId": "4884b72b-c02f-47a6-be90-996db6e8d5dc"
   },
   "outputs": [
    {
     "name": "stdout",
     "output_type": "stream",
     "text": [
      "                 Generalized Linear Model Regression Results                  \n",
      "==============================================================================\n",
      "Dep. Variable:              Converted   No. Observations:                 6468\n",
      "Model:                            GLM   Df Residuals:                     6432\n",
      "Model Family:                Binomial   Df Model:                           35\n",
      "Link Function:                  logit   Scale:                          1.0000\n",
      "Method:                          IRLS   Log-Likelihood:                -2687.3\n",
      "Date:                Mon, 07 Sep 2020   Deviance:                       5374.6\n",
      "Time:                        09:59:47   Pearson chi2:                 7.82e+03\n",
      "No. Iterations:                     6                                         \n",
      "Covariance Type:            nonrobust                                         \n",
      "============================================================================================================\n",
      "                                               coef    std err          z      P>|z|      [0.025      0.975]\n",
      "------------------------------------------------------------------------------------------------------------\n",
      "const                                       -0.4585      0.610     -0.751      0.452      -1.655       0.737\n",
      "TotalVisits                                  0.2946      0.048      6.123      0.000       0.200       0.389\n",
      "Time Spent                                   1.0656      0.039     27.015      0.000       0.988       1.143\n",
      "Page Views Per Visit                        -0.2915      0.055     -5.314      0.000      -0.399      -0.184\n",
      "Free Copy                                   -0.2308      0.106     -2.183      0.029      -0.438      -0.024\n",
      "Lead Origin_Landing Page Submission         -0.9159      0.136     -6.751      0.000      -1.182      -0.650\n",
      "Lead Origin_Lead Add Form                    4.0041      0.422      9.499      0.000       3.178       4.830\n",
      "Lead Origin_Others                          -0.7557      0.551     -1.372      0.170      -1.836       0.324\n",
      "Lead Source_Google                           0.2141      0.112      1.908      0.056      -0.006       0.434\n",
      "Lead Source_Olark Chat                       1.1402      0.161      7.061      0.000       0.824       1.457\n",
      "Lead Source_Organic Search                   0.1797      0.129      1.390      0.164      -0.074       0.433\n",
      "Lead Source_Others                           0.3906      0.266      1.470      0.141      -0.130       0.911\n",
      "Lead Source_Reference                       -0.8614      0.469     -1.837      0.066      -1.780       0.057\n",
      "Last Activity_Email Bounced                 -0.7709      0.364     -2.120      0.034      -1.484      -0.058\n",
      "Last Activity_Email Link Clicked             0.6987      0.306      2.285      0.022       0.099       1.298\n",
      "Last Activity_Email Opened                   1.2260      0.223      5.493      0.000       0.789       1.663\n",
      "Last Activity_Olark Chat Conversation       -0.3067      0.274     -1.121      0.262      -0.843       0.230\n",
      "Last Activity_Others                         1.0061      0.285      3.526      0.000       0.447       1.565\n",
      "Last Activity_Page Visited on Website        0.3596      0.262      1.370      0.171      -0.155       0.874\n",
      "Last Activity_SMS Sent                       2.3527      0.224     10.489      0.000       1.913       2.792\n",
      "Specialization_Business Administration      -0.3335      0.241     -1.382      0.167      -0.807       0.139\n",
      "Specialization_Finance Management           -0.0149      0.207     -0.072      0.943      -0.421       0.391\n",
      "Specialization_Healthcare Management        -0.0563      0.326     -0.173      0.863      -0.695       0.582\n",
      "Specialization_Human Resource Management    -0.2455      0.210     -1.167      0.243      -0.658       0.167\n",
      "Specialization_IT Projects Management        0.0507      0.252      0.202      0.840      -0.442       0.544\n",
      "Specialization_International Business       -0.4987      0.305     -1.635      0.102      -1.097       0.099\n",
      "Specialization_Marketing Management         -0.2045      0.211     -0.970      0.332      -0.618       0.209\n",
      "Specialization_Media and Advertising        -0.0706      0.281     -0.251      0.802      -0.621       0.480\n",
      "Specialization_Not Specified                -1.3344      0.214     -6.232      0.000      -1.754      -0.915\n",
      "Specialization_Operations Management        -0.2476      0.230     -1.075      0.282      -0.699       0.204\n",
      "Specialization_Others                       -0.3354      0.233     -1.440      0.150      -0.792       0.121\n",
      "Specialization_Supply Chain Management      -0.1846      0.249     -0.742      0.458      -0.672       0.303\n",
      "Specialization_Travel and Tourism           -0.1846      0.295     -0.625      0.532      -0.764       0.394\n",
      "Current Occupation_Student                  -0.5747      0.575     -1.000      0.317      -1.701       0.552\n",
      "Current Occupation_Unemployed               -0.9992      0.524     -1.905      0.057      -2.027       0.029\n",
      "Current Occupation_Working Professional      1.7344      0.555      3.124      0.002       0.646       2.823\n",
      "============================================================================================================\n"
     ]
    }
   ],
   "source": [
    "print(logm1.fit().summary())"
   ]
  },
  {
   "cell_type": "code",
   "execution_count": 113,
   "metadata": {
    "colab": {
     "base_uri": "https://localhost:8080/",
     "height": 0
    },
    "colab_type": "code",
    "id": "tcPMgYm2rZDs",
    "outputId": "0b193a1b-0774-4262-a764-7ec75ca2d3c9"
   },
   "outputs": [
    {
     "name": "stdout",
     "output_type": "stream",
     "text": [
      "35\n"
     ]
    }
   ],
   "source": [
    "#Total number of columns\n",
    "print(len(X_train.columns))"
   ]
  },
  {
   "cell_type": "markdown",
   "metadata": {
    "colab_type": "text",
    "id": "33T8Qec7rm9n"
   },
   "source": [
    "**We currently have around 35 columns for our evaluation.**"
   ]
  },
  {
   "cell_type": "markdown",
   "metadata": {
    "colab_type": "text",
    "id": "6OgvJ9nZsUxs"
   },
   "source": [
    "### ***Model - II : Feature Selection using RFE***"
   ]
  },
  {
   "cell_type": "code",
   "execution_count": 114,
   "metadata": {
    "colab": {},
    "colab_type": "code",
    "id": "Pz43nE5hrmfU"
   },
   "outputs": [],
   "source": [
    "#Importing Logistic Regression module from SkLearn\n",
    "from sklearn.linear_model import LogisticRegression\n",
    "logreg = LogisticRegression()"
   ]
  },
  {
   "cell_type": "code",
   "execution_count": 115,
   "metadata": {
    "colab": {},
    "colab_type": "code",
    "id": "mwUHlvWlI19q"
   },
   "outputs": [],
   "source": [
    "#We currently have 35 features with respect to our discussion, and since 35 is a huge number we will reduce it to 20 columns using RFE.\n",
    "from sklearn.feature_selection import RFE\n",
    "rfe = RFE(logreg, 20)             # running RFE with 20 variables as output\n",
    "rfe = rfe.fit(X_train, y_train)"
   ]
  },
  {
   "cell_type": "code",
   "execution_count": 116,
   "metadata": {
    "colab": {
     "base_uri": "https://localhost:8080/",
     "height": 82
    },
    "colab_type": "code",
    "id": "SpVugiAvJNkl",
    "outputId": "8500cce9-8641-420c-8d2b-b09bd6c3ee1d"
   },
   "outputs": [
    {
     "data": {
      "text/plain": [
       "array([ True,  True, False,  True,  True,  True,  True, False,  True,\n",
       "       False,  True,  True,  True,  True,  True,  True,  True, False,\n",
       "        True, False, False, False, False, False,  True, False, False,\n",
       "        True, False, False, False, False,  True,  True,  True])"
      ]
     },
     "execution_count": 116,
     "metadata": {},
     "output_type": "execute_result"
    }
   ],
   "source": [
    "#Printing all the columns that are selected using RFE\n",
    "rfe.support_"
   ]
  },
  {
   "cell_type": "code",
   "execution_count": 117,
   "metadata": {
    "colab": {
     "base_uri": "https://localhost:8080/",
     "height": 586
    },
    "colab_type": "code",
    "id": "sxYjdCXOJXXW",
    "outputId": "74c86985-0713-4598-ee87-e384d160de45"
   },
   "outputs": [
    {
     "data": {
      "text/plain": [
       "[('TotalVisits', True, 1),\n",
       " ('Time Spent', True, 1),\n",
       " ('Page Views Per Visit', False, 2),\n",
       " ('Free Copy', True, 1),\n",
       " ('Lead Origin_Landing Page Submission', True, 1),\n",
       " ('Lead Origin_Lead Add Form', True, 1),\n",
       " ('Lead Origin_Others', True, 1),\n",
       " ('Lead Source_Google', False, 6),\n",
       " ('Lead Source_Olark Chat', True, 1),\n",
       " ('Lead Source_Organic Search', False, 7),\n",
       " ('Lead Source_Others', True, 1),\n",
       " ('Lead Source_Reference', True, 1),\n",
       " ('Last Activity_Email Bounced', True, 1),\n",
       " ('Last Activity_Email Link Clicked', True, 1),\n",
       " ('Last Activity_Email Opened', True, 1),\n",
       " ('Last Activity_Olark Chat Conversation', True, 1),\n",
       " ('Last Activity_Others', True, 1),\n",
       " ('Last Activity_Page Visited on Website', False, 3),\n",
       " ('Last Activity_SMS Sent', True, 1),\n",
       " ('Specialization_Business Administration', False, 5),\n",
       " ('Specialization_Finance Management', False, 14),\n",
       " ('Specialization_Healthcare Management', False, 15),\n",
       " ('Specialization_Human Resource Management', False, 8),\n",
       " ('Specialization_IT Projects Management', False, 13),\n",
       " ('Specialization_International Business', True, 1),\n",
       " ('Specialization_Marketing Management', False, 10),\n",
       " ('Specialization_Media and Advertising', False, 16),\n",
       " ('Specialization_Not Specified', True, 1),\n",
       " ('Specialization_Operations Management', False, 9),\n",
       " ('Specialization_Others', False, 4),\n",
       " ('Specialization_Supply Chain Management', False, 11),\n",
       " ('Specialization_Travel and Tourism', False, 12),\n",
       " ('Current Occupation_Student', True, 1),\n",
       " ('Current Occupation_Unemployed', True, 1),\n",
       " ('Current Occupation_Working Professional', True, 1)]"
      ]
     },
     "execution_count": 117,
     "metadata": {},
     "output_type": "execute_result"
    }
   ],
   "source": [
    "#List of all columns on priority ranking\n",
    "list(zip(X_train.columns, rfe.support_, rfe.ranking_))"
   ]
  },
  {
   "cell_type": "code",
   "execution_count": 118,
   "metadata": {
    "colab": {},
    "colab_type": "code",
    "id": "_jJ3P6IQJgML"
   },
   "outputs": [],
   "source": [
    "#This list will hold all the data that is being selected through RFE.\n",
    "col = X_train.columns[rfe.support_]"
   ]
  },
  {
   "cell_type": "code",
   "execution_count": 119,
   "metadata": {
    "colab": {
     "base_uri": "https://localhost:8080/",
     "height": 196
    },
    "colab_type": "code",
    "id": "uZ7wq2GmJoFD",
    "outputId": "3250aaa4-5773-4c42-f02e-f79beab11f24"
   },
   "outputs": [
    {
     "data": {
      "text/plain": [
       "Index(['TotalVisits', 'Time Spent', 'Free Copy',\n",
       "       'Lead Origin_Landing Page Submission', 'Lead Origin_Lead Add Form',\n",
       "       'Lead Origin_Others', 'Lead Source_Olark Chat', 'Lead Source_Others',\n",
       "       'Lead Source_Reference', 'Last Activity_Email Bounced',\n",
       "       'Last Activity_Email Link Clicked', 'Last Activity_Email Opened',\n",
       "       'Last Activity_Olark Chat Conversation', 'Last Activity_Others',\n",
       "       'Last Activity_SMS Sent', 'Specialization_International Business',\n",
       "       'Specialization_Not Specified', 'Current Occupation_Student',\n",
       "       'Current Occupation_Unemployed',\n",
       "       'Current Occupation_Working Professional'],\n",
       "      dtype='object')"
      ]
     },
     "execution_count": 119,
     "metadata": {},
     "output_type": "execute_result"
    }
   ],
   "source": [
    "col"
   ]
  },
  {
   "cell_type": "code",
   "execution_count": 120,
   "metadata": {
    "colab": {
     "base_uri": "https://localhost:8080/",
     "height": 228
    },
    "colab_type": "code",
    "id": "571apssTLSeh",
    "outputId": "0c83a684-fd82-44b6-bb77-d169506145d9"
   },
   "outputs": [
    {
     "data": {
      "text/plain": [
       "Index(['Page Views Per Visit', 'Lead Source_Google',\n",
       "       'Lead Source_Organic Search', 'Last Activity_Page Visited on Website',\n",
       "       'Specialization_Business Administration',\n",
       "       'Specialization_Finance Management',\n",
       "       'Specialization_Healthcare Management',\n",
       "       'Specialization_Human Resource Management',\n",
       "       'Specialization_IT Projects Management',\n",
       "       'Specialization_Marketing Management',\n",
       "       'Specialization_Media and Advertising',\n",
       "       'Specialization_Operations Management', 'Specialization_Others',\n",
       "       'Specialization_Supply Chain Management',\n",
       "       'Specialization_Travel and Tourism'],\n",
       "      dtype='object')"
      ]
     },
     "execution_count": 120,
     "metadata": {},
     "output_type": "execute_result"
    }
   ],
   "source": [
    "#Columns that have been rejected because of RFE.\n",
    "X_train.columns[~rfe.support_]"
   ]
  },
  {
   "cell_type": "markdown",
   "metadata": {
    "colab_type": "text",
    "id": "TPZ6ZkCmLgFA"
   },
   "source": [
    "#### **Assessing the model that has already been generated through RFE using Statsmodel - Model 2**"
   ]
  },
  {
   "cell_type": "code",
   "execution_count": 121,
   "metadata": {
    "colab": {
     "base_uri": "https://localhost:8080/",
     "height": 602
    },
    "colab_type": "code",
    "id": "YRTHgvCiLdV3",
    "outputId": "a64555b1-db1c-4538-95ec-c05ecb61bb1e"
   },
   "outputs": [
    {
     "name": "stdout",
     "output_type": "stream",
     "text": [
      "                 Generalized Linear Model Regression Results                  \n",
      "==============================================================================\n",
      "Dep. Variable:              Converted   No. Observations:                 6468\n",
      "Model:                            GLM   Df Residuals:                     6447\n",
      "Model Family:                Binomial   Df Model:                           20\n",
      "Link Function:                  logit   Scale:                          1.0000\n",
      "Method:                          IRLS   Log-Likelihood:                -2707.7\n",
      "Date:                Mon, 07 Sep 2020   Deviance:                       5415.5\n",
      "Time:                        09:59:48   Pearson chi2:                 8.09e+03\n",
      "No. Iterations:                     6                                         \n",
      "Covariance Type:            nonrobust                                         \n",
      "===========================================================================================================\n",
      "                                              coef    std err          z      P>|z|      [0.025      0.975]\n",
      "-----------------------------------------------------------------------------------------------------------\n",
      "const                                      -0.1330      0.546     -0.244      0.808      -1.203       0.937\n",
      "TotalVisits                                 0.1943      0.040      4.838      0.000       0.116       0.273\n",
      "Time Spent                                  1.0556      0.039     26.988      0.000       0.979       1.132\n",
      "Free Copy                                  -0.3169      0.087     -3.649      0.000      -0.487      -0.147\n",
      "Lead Origin_Landing Page Submission        -1.0285      0.131     -7.875      0.000      -1.285      -0.773\n",
      "Lead Origin_Lead Add Form                   4.2688      0.418     10.218      0.000       3.450       5.088\n",
      "Lead Origin_Others                         -0.5557      0.554     -1.003      0.316      -1.642       0.531\n",
      "Lead Source_Olark Chat                      1.1890      0.130      9.156      0.000       0.934       1.443\n",
      "Lead Source_Others                          0.1436      0.248      0.578      0.563      -0.343       0.630\n",
      "Lead Source_Reference                      -1.0875      0.457     -2.380      0.017      -1.983      -0.192\n",
      "Last Activity_Email Bounced                -1.0651      0.319     -3.339      0.001      -1.690      -0.440\n",
      "Last Activity_Email Link Clicked            0.3831      0.244      1.567      0.117      -0.096       0.862\n",
      "Last Activity_Email Opened                  0.9053      0.127      7.127      0.000       0.656       1.154\n",
      "Last Activity_Olark Chat Conversation      -0.6053      0.202     -2.997      0.003      -1.001      -0.209\n",
      "Last Activity_Others                        0.7263      0.218      3.333      0.001       0.299       1.153\n",
      "Last Activity_SMS Sent                      2.0109      0.130     15.480      0.000       1.756       2.266\n",
      "Specialization_International Business      -0.3699      0.249     -1.483      0.138      -0.859       0.119\n",
      "Specialization_Not Specified               -1.1501      0.124     -9.268      0.000      -1.393      -0.907\n",
      "Current Occupation_Student                 -0.5743      0.578     -0.994      0.320      -1.707       0.559\n",
      "Current Occupation_Unemployed              -1.0078      0.528     -1.908      0.056      -2.043       0.027\n",
      "Current Occupation_Working Professional     1.6985      0.558      3.042      0.002       0.604       2.793\n",
      "===========================================================================================================\n"
     ]
    }
   ],
   "source": [
    "X_train_sm = sm.add_constant(X_train[col])\n",
    "logm2 = sm.GLM(y_train,X_train_sm, family = sm.families.Binomial())\n",
    "res = logm2.fit()\n",
    "print(res.summary())"
   ]
  },
  {
   "cell_type": "code",
   "execution_count": 122,
   "metadata": {
    "colab": {},
    "colab_type": "code",
    "id": "ERo1UiIlLamC"
   },
   "outputs": [],
   "source": [
    "# Check for the VIF values of the feature variables. \n",
    "from statsmodels.stats.outliers_influence import variance_inflation_factor"
   ]
  },
  {
   "cell_type": "code",
   "execution_count": 123,
   "metadata": {
    "colab": {
     "base_uri": "https://localhost:8080/",
     "height": 622
    },
    "colab_type": "code",
    "id": "tLAVNewJNMya",
    "outputId": "96f86d8e-50a3-4702-f874-d9714cabe72c"
   },
   "outputs": [
    {
     "data": {
      "text/html": [
       "<div>\n",
       "<style scoped>\n",
       "    .dataframe tbody tr th:only-of-type {\n",
       "        vertical-align: middle;\n",
       "    }\n",
       "\n",
       "    .dataframe tbody tr th {\n",
       "        vertical-align: top;\n",
       "    }\n",
       "\n",
       "    .dataframe thead th {\n",
       "        text-align: right;\n",
       "    }\n",
       "</style>\n",
       "<table border=\"1\" class=\"dataframe\">\n",
       "  <thead>\n",
       "    <tr style=\"text-align: right;\">\n",
       "      <th></th>\n",
       "      <th>Features</th>\n",
       "      <th>VIF</th>\n",
       "    </tr>\n",
       "  </thead>\n",
       "  <tbody>\n",
       "    <tr>\n",
       "      <td>18</td>\n",
       "      <td>Current Occupation_Unemployed</td>\n",
       "      <td>18.14</td>\n",
       "    </tr>\n",
       "    <tr>\n",
       "      <td>3</td>\n",
       "      <td>Lead Origin_Landing Page Submission</td>\n",
       "      <td>7.74</td>\n",
       "    </tr>\n",
       "    <tr>\n",
       "      <td>4</td>\n",
       "      <td>Lead Origin_Lead Add Form</td>\n",
       "      <td>6.88</td>\n",
       "    </tr>\n",
       "    <tr>\n",
       "      <td>8</td>\n",
       "      <td>Lead Source_Reference</td>\n",
       "      <td>6.19</td>\n",
       "    </tr>\n",
       "    <tr>\n",
       "      <td>16</td>\n",
       "      <td>Specialization_Not Specified</td>\n",
       "      <td>4.87</td>\n",
       "    </tr>\n",
       "    <tr>\n",
       "      <td>11</td>\n",
       "      <td>Last Activity_Email Opened</td>\n",
       "      <td>4.26</td>\n",
       "    </tr>\n",
       "    <tr>\n",
       "      <td>14</td>\n",
       "      <td>Last Activity_SMS Sent</td>\n",
       "      <td>3.66</td>\n",
       "    </tr>\n",
       "    <tr>\n",
       "      <td>6</td>\n",
       "      <td>Lead Source_Olark Chat</td>\n",
       "      <td>2.66</td>\n",
       "    </tr>\n",
       "    <tr>\n",
       "      <td>19</td>\n",
       "      <td>Current Occupation_Working Professional</td>\n",
       "      <td>2.33</td>\n",
       "    </tr>\n",
       "    <tr>\n",
       "      <td>12</td>\n",
       "      <td>Last Activity_Olark Chat Conversation</td>\n",
       "      <td>2.24</td>\n",
       "    </tr>\n",
       "    <tr>\n",
       "      <td>2</td>\n",
       "      <td>Free Copy</td>\n",
       "      <td>2.21</td>\n",
       "    </tr>\n",
       "    <tr>\n",
       "      <td>7</td>\n",
       "      <td>Lead Source_Others</td>\n",
       "      <td>1.87</td>\n",
       "    </tr>\n",
       "    <tr>\n",
       "      <td>0</td>\n",
       "      <td>TotalVisits</td>\n",
       "      <td>1.48</td>\n",
       "    </tr>\n",
       "    <tr>\n",
       "      <td>17</td>\n",
       "      <td>Current Occupation_Student</td>\n",
       "      <td>1.44</td>\n",
       "    </tr>\n",
       "    <tr>\n",
       "      <td>9</td>\n",
       "      <td>Last Activity_Email Bounced</td>\n",
       "      <td>1.33</td>\n",
       "    </tr>\n",
       "    <tr>\n",
       "      <td>13</td>\n",
       "      <td>Last Activity_Others</td>\n",
       "      <td>1.28</td>\n",
       "    </tr>\n",
       "    <tr>\n",
       "      <td>1</td>\n",
       "      <td>Time Spent</td>\n",
       "      <td>1.27</td>\n",
       "    </tr>\n",
       "    <tr>\n",
       "      <td>10</td>\n",
       "      <td>Last Activity_Email Link Clicked</td>\n",
       "      <td>1.26</td>\n",
       "    </tr>\n",
       "    <tr>\n",
       "      <td>5</td>\n",
       "      <td>Lead Origin_Others</td>\n",
       "      <td>1.25</td>\n",
       "    </tr>\n",
       "    <tr>\n",
       "      <td>15</td>\n",
       "      <td>Specialization_International Business</td>\n",
       "      <td>1.03</td>\n",
       "    </tr>\n",
       "  </tbody>\n",
       "</table>\n",
       "</div>"
      ],
      "text/plain": [
       "                                   Features    VIF\n",
       "18            Current Occupation_Unemployed  18.14\n",
       "3       Lead Origin_Landing Page Submission   7.74\n",
       "4                 Lead Origin_Lead Add Form   6.88\n",
       "8                     Lead Source_Reference   6.19\n",
       "16             Specialization_Not Specified   4.87\n",
       "11               Last Activity_Email Opened   4.26\n",
       "14                   Last Activity_SMS Sent   3.66\n",
       "6                    Lead Source_Olark Chat   2.66\n",
       "19  Current Occupation_Working Professional   2.33\n",
       "12    Last Activity_Olark Chat Conversation   2.24\n",
       "2                                 Free Copy   2.21\n",
       "7                        Lead Source_Others   1.87\n",
       "0                               TotalVisits   1.48\n",
       "17               Current Occupation_Student   1.44\n",
       "9               Last Activity_Email Bounced   1.33\n",
       "13                     Last Activity_Others   1.28\n",
       "1                                Time Spent   1.27\n",
       "10         Last Activity_Email Link Clicked   1.26\n",
       "5                        Lead Origin_Others   1.25\n",
       "15    Specialization_International Business   1.03"
      ]
     },
     "execution_count": 123,
     "metadata": {},
     "output_type": "execute_result"
    }
   ],
   "source": [
    "# Create a dataframe that will contain the names of all the feature variables and their respective VIFs\n",
    "vif = pd.DataFrame()\n",
    "vif['Features'] = X_train[col].columns\n",
    "vif['VIF'] = [variance_inflation_factor(X_train[col].values, i) for i in range(X_train[col].shape[1])]\n",
    "vif['VIF'] = round(vif['VIF'], 2)\n",
    "vif = vif.sort_values(by = \"VIF\", ascending = False)\n",
    "vif"
   ]
  },
  {
   "cell_type": "markdown",
   "metadata": {
    "colab_type": "text",
    "id": "-KeXp-ZTHDPl"
   },
   "source": [
    " - We see there are many variables with a high P-value and VIF value\n",
    " - We need to continue model building process to improve the model\n",
    " - Factors that are needed for consideration : VIF < 5% and P-Value < 5%"
   ]
  },
  {
   "cell_type": "markdown",
   "metadata": {
    "colab_type": "text",
    "id": "_VSMN5UGHYAD"
   },
   "source": [
    "**Inferences from the above model**\n",
    "\n",
    "- **Lead Source_Others** - has a P-value of 56.3% \n",
    "- The above model has **20 features**, and we need to reduce it further.\n",
    "- **Current Occupation_Unemployed** has a VIF score of **~18**\n",
    "\n",
    "\n",
    "--------------------------------------------------------------------------------\n",
    "\n"
   ]
  },
  {
   "cell_type": "markdown",
   "metadata": {
    "colab_type": "text",
    "id": "UmRt2FEmNhil"
   },
   "source": [
    "### ***Model-Building - III [Dropping Lead_Source Others]***"
   ]
  },
  {
   "cell_type": "code",
   "execution_count": 124,
   "metadata": {
    "colab": {
     "base_uri": "https://localhost:8080/",
     "height": 180
    },
    "colab_type": "code",
    "id": "w3aHS7WQNSdY",
    "outputId": "0763d5e3-27be-497f-b51d-72aa7912cf9c"
   },
   "outputs": [
    {
     "data": {
      "text/plain": [
       "Index(['TotalVisits', 'Time Spent', 'Free Copy',\n",
       "       'Lead Origin_Landing Page Submission', 'Lead Origin_Lead Add Form',\n",
       "       'Lead Origin_Others', 'Lead Source_Olark Chat', 'Lead Source_Reference',\n",
       "       'Last Activity_Email Bounced', 'Last Activity_Email Link Clicked',\n",
       "       'Last Activity_Email Opened', 'Last Activity_Olark Chat Conversation',\n",
       "       'Last Activity_Others', 'Last Activity_SMS Sent',\n",
       "       'Specialization_International Business', 'Specialization_Not Specified',\n",
       "       'Current Occupation_Student', 'Current Occupation_Unemployed',\n",
       "       'Current Occupation_Working Professional'],\n",
       "      dtype='object')"
      ]
     },
     "execution_count": 124,
     "metadata": {},
     "output_type": "execute_result"
    }
   ],
   "source": [
    "col = col.drop('Lead Source_Others')\n",
    "col"
   ]
  },
  {
   "cell_type": "code",
   "execution_count": 125,
   "metadata": {
    "colab": {
     "base_uri": "https://localhost:8080/",
     "height": 196
    },
    "colab_type": "code",
    "id": "44Y1YwBRNz5t",
    "outputId": "836b36b7-6c64-4c3d-d5f4-9f29f52693ca"
   },
   "outputs": [
    {
     "name": "stdout",
     "output_type": "stream",
     "text": [
      "Index(['TotalVisits', 'Time Spent', 'Free Copy',\n",
      "       'Lead Origin_Landing Page Submission', 'Lead Origin_Lead Add Form',\n",
      "       'Lead Origin_Others', 'Lead Source_Olark Chat', 'Lead Source_Reference',\n",
      "       'Last Activity_Email Bounced', 'Last Activity_Email Link Clicked',\n",
      "       'Last Activity_Email Opened', 'Last Activity_Olark Chat Conversation',\n",
      "       'Last Activity_Others', 'Last Activity_SMS Sent',\n",
      "       'Specialization_International Business', 'Specialization_Not Specified',\n",
      "       'Current Occupation_Student', 'Current Occupation_Unemployed',\n",
      "       'Current Occupation_Working Professional'],\n",
      "      dtype='object')\n",
      "19\n"
     ]
    }
   ],
   "source": [
    "print(col)\n",
    "print(len(col))"
   ]
  },
  {
   "cell_type": "code",
   "execution_count": 126,
   "metadata": {
    "colab": {
     "base_uri": "https://localhost:8080/",
     "height": 586
    },
    "colab_type": "code",
    "id": "sNspRhTLNvnq",
    "outputId": "3a4c7048-5f15-42b9-b7b9-12fe888f2f25"
   },
   "outputs": [
    {
     "name": "stdout",
     "output_type": "stream",
     "text": [
      "                 Generalized Linear Model Regression Results                  \n",
      "==============================================================================\n",
      "Dep. Variable:              Converted   No. Observations:                 6468\n",
      "Model:                            GLM   Df Residuals:                     6448\n",
      "Model Family:                Binomial   Df Model:                           19\n",
      "Link Function:                  logit   Scale:                          1.0000\n",
      "Method:                          IRLS   Log-Likelihood:                -2707.9\n",
      "Date:                Mon, 07 Sep 2020   Deviance:                       5415.8\n",
      "Time:                        09:59:48   Pearson chi2:                 8.09e+03\n",
      "No. Iterations:                     6                                         \n",
      "Covariance Type:            nonrobust                                         \n",
      "===========================================================================================================\n",
      "                                              coef    std err          z      P>|z|      [0.025      0.975]\n",
      "-----------------------------------------------------------------------------------------------------------\n",
      "const                                      -0.1298      0.546     -0.238      0.812      -1.200       0.940\n",
      "TotalVisits                                 0.1952      0.040      4.863      0.000       0.117       0.274\n",
      "Time Spent                                  1.0550      0.039     26.986      0.000       0.978       1.132\n",
      "Free Copy                                  -0.3174      0.087     -3.655      0.000      -0.488      -0.147\n",
      "Lead Origin_Landing Page Submission        -1.0325      0.131     -7.911      0.000      -1.288      -0.777\n",
      "Lead Origin_Lead Add Form                   4.3722      0.378     11.558      0.000       3.631       5.114\n",
      "Lead Origin_Others                         -0.4284      0.510     -0.840      0.401      -1.428       0.571\n",
      "Lead Source_Olark Chat                      1.1805      0.129      9.153      0.000       0.928       1.433\n",
      "Lead Source_Reference                      -1.1976      0.416     -2.880      0.004      -2.013      -0.383\n",
      "Last Activity_Email Bounced                -1.0756      0.319     -3.368      0.001      -1.701      -0.450\n",
      "Last Activity_Email Link Clicked            0.3862      0.244      1.580      0.114      -0.093       0.865\n",
      "Last Activity_Email Opened                  0.9039      0.127      7.119      0.000       0.655       1.153\n",
      "Last Activity_Olark Chat Conversation      -0.6044      0.202     -2.994      0.003      -1.000      -0.209\n",
      "Last Activity_Others                        0.7285      0.218      3.343      0.001       0.301       1.156\n",
      "Last Activity_SMS Sent                      2.0076      0.130     15.475      0.000       1.753       2.262\n",
      "Specialization_International Business      -0.3706      0.249     -1.487      0.137      -0.859       0.118\n",
      "Specialization_Not Specified               -1.1468      0.124     -9.246      0.000      -1.390      -0.904\n",
      "Current Occupation_Student                 -0.5707      0.578     -0.987      0.323      -1.704       0.562\n",
      "Current Occupation_Unemployed              -1.0035      0.528     -1.901      0.057      -2.038       0.031\n",
      "Current Occupation_Working Professional     1.7030      0.558      3.051      0.002       0.609       2.797\n",
      "===========================================================================================================\n"
     ]
    }
   ],
   "source": [
    "# Let's re-run the model using the selected variables\n",
    "X_train_sm = sm.add_constant(X_train[col])\n",
    "logm3 = sm.GLM(y_train,X_train_sm, family = sm.families.Binomial())\n",
    "res = logm3.fit()\n",
    "print(res.summary())"
   ]
  },
  {
   "cell_type": "code",
   "execution_count": 127,
   "metadata": {
    "colab": {
     "base_uri": "https://localhost:8080/",
     "height": 593
    },
    "colab_type": "code",
    "id": "l5nuWMT9irxV",
    "outputId": "63b39886-7f28-43ad-a757-43da17756dc4"
   },
   "outputs": [
    {
     "data": {
      "text/html": [
       "<div>\n",
       "<style scoped>\n",
       "    .dataframe tbody tr th:only-of-type {\n",
       "        vertical-align: middle;\n",
       "    }\n",
       "\n",
       "    .dataframe tbody tr th {\n",
       "        vertical-align: top;\n",
       "    }\n",
       "\n",
       "    .dataframe thead th {\n",
       "        text-align: right;\n",
       "    }\n",
       "</style>\n",
       "<table border=\"1\" class=\"dataframe\">\n",
       "  <thead>\n",
       "    <tr style=\"text-align: right;\">\n",
       "      <th></th>\n",
       "      <th>Features</th>\n",
       "      <th>VIF</th>\n",
       "    </tr>\n",
       "  </thead>\n",
       "  <tbody>\n",
       "    <tr>\n",
       "      <td>17</td>\n",
       "      <td>Current Occupation_Unemployed</td>\n",
       "      <td>18.10</td>\n",
       "    </tr>\n",
       "    <tr>\n",
       "      <td>3</td>\n",
       "      <td>Lead Origin_Landing Page Submission</td>\n",
       "      <td>7.73</td>\n",
       "    </tr>\n",
       "    <tr>\n",
       "      <td>15</td>\n",
       "      <td>Specialization_Not Specified</td>\n",
       "      <td>4.84</td>\n",
       "    </tr>\n",
       "    <tr>\n",
       "      <td>4</td>\n",
       "      <td>Lead Origin_Lead Add Form</td>\n",
       "      <td>4.75</td>\n",
       "    </tr>\n",
       "    <tr>\n",
       "      <td>7</td>\n",
       "      <td>Lead Source_Reference</td>\n",
       "      <td>4.44</td>\n",
       "    </tr>\n",
       "    <tr>\n",
       "      <td>10</td>\n",
       "      <td>Last Activity_Email Opened</td>\n",
       "      <td>4.26</td>\n",
       "    </tr>\n",
       "    <tr>\n",
       "      <td>13</td>\n",
       "      <td>Last Activity_SMS Sent</td>\n",
       "      <td>3.65</td>\n",
       "    </tr>\n",
       "    <tr>\n",
       "      <td>6</td>\n",
       "      <td>Lead Source_Olark Chat</td>\n",
       "      <td>2.63</td>\n",
       "    </tr>\n",
       "    <tr>\n",
       "      <td>18</td>\n",
       "      <td>Current Occupation_Working Professional</td>\n",
       "      <td>2.33</td>\n",
       "    </tr>\n",
       "    <tr>\n",
       "      <td>11</td>\n",
       "      <td>Last Activity_Olark Chat Conversation</td>\n",
       "      <td>2.24</td>\n",
       "    </tr>\n",
       "    <tr>\n",
       "      <td>2</td>\n",
       "      <td>Free Copy</td>\n",
       "      <td>2.21</td>\n",
       "    </tr>\n",
       "    <tr>\n",
       "      <td>0</td>\n",
       "      <td>TotalVisits</td>\n",
       "      <td>1.47</td>\n",
       "    </tr>\n",
       "    <tr>\n",
       "      <td>16</td>\n",
       "      <td>Current Occupation_Student</td>\n",
       "      <td>1.44</td>\n",
       "    </tr>\n",
       "    <tr>\n",
       "      <td>8</td>\n",
       "      <td>Last Activity_Email Bounced</td>\n",
       "      <td>1.33</td>\n",
       "    </tr>\n",
       "    <tr>\n",
       "      <td>12</td>\n",
       "      <td>Last Activity_Others</td>\n",
       "      <td>1.28</td>\n",
       "    </tr>\n",
       "    <tr>\n",
       "      <td>1</td>\n",
       "      <td>Time Spent</td>\n",
       "      <td>1.27</td>\n",
       "    </tr>\n",
       "    <tr>\n",
       "      <td>9</td>\n",
       "      <td>Last Activity_Email Link Clicked</td>\n",
       "      <td>1.26</td>\n",
       "    </tr>\n",
       "    <tr>\n",
       "      <td>5</td>\n",
       "      <td>Lead Origin_Others</td>\n",
       "      <td>1.04</td>\n",
       "    </tr>\n",
       "    <tr>\n",
       "      <td>14</td>\n",
       "      <td>Specialization_International Business</td>\n",
       "      <td>1.03</td>\n",
       "    </tr>\n",
       "  </tbody>\n",
       "</table>\n",
       "</div>"
      ],
      "text/plain": [
       "                                   Features    VIF\n",
       "17            Current Occupation_Unemployed  18.10\n",
       "3       Lead Origin_Landing Page Submission   7.73\n",
       "15             Specialization_Not Specified   4.84\n",
       "4                 Lead Origin_Lead Add Form   4.75\n",
       "7                     Lead Source_Reference   4.44\n",
       "10               Last Activity_Email Opened   4.26\n",
       "13                   Last Activity_SMS Sent   3.65\n",
       "6                    Lead Source_Olark Chat   2.63\n",
       "18  Current Occupation_Working Professional   2.33\n",
       "11    Last Activity_Olark Chat Conversation   2.24\n",
       "2                                 Free Copy   2.21\n",
       "0                               TotalVisits   1.47\n",
       "16               Current Occupation_Student   1.44\n",
       "8               Last Activity_Email Bounced   1.33\n",
       "12                     Last Activity_Others   1.28\n",
       "1                                Time Spent   1.27\n",
       "9          Last Activity_Email Link Clicked   1.26\n",
       "5                        Lead Origin_Others   1.04\n",
       "14    Specialization_International Business   1.03"
      ]
     },
     "execution_count": 127,
     "metadata": {},
     "output_type": "execute_result"
    }
   ],
   "source": [
    "# Create a dataframe that will contain the names of all the feature variables and their respective VIFs\n",
    "vif = pd.DataFrame()\n",
    "vif['Features'] = X_train[col].columns\n",
    "vif['VIF'] = [variance_inflation_factor(X_train[col].values, i) for i in range(X_train[col].shape[1])]\n",
    "vif['VIF'] = round(vif['VIF'], 2)\n",
    "vif = vif.sort_values(by = \"VIF\", ascending = False)\n",
    "vif"
   ]
  },
  {
   "cell_type": "markdown",
   "metadata": {
    "colab_type": "text",
    "id": "Rp_xVuTyIWcD"
   },
   "source": [
    "**Inferences from the above model**\n",
    "\n",
    "- **Lead Origin_Others** - has a P-value of 40.0% \n",
    "- The above model has **19 features**, and we need to reduce it further.\n",
    "- **Current Occupation_Unemployed** has a VIF score of **~18**\n",
    "\n",
    "--------------------------------------------------------------------------------\n",
    "\n"
   ]
  },
  {
   "cell_type": "markdown",
   "metadata": {
    "colab_type": "text",
    "id": "tg7iAJNwImeL"
   },
   "source": [
    "**For Model 4 - We need to remove Lead Origin_Others**"
   ]
  },
  {
   "cell_type": "markdown",
   "metadata": {
    "colab_type": "text",
    "id": "iP5gD71lOA9E"
   },
   "source": [
    "### ***Model - IV [Drop Lead_Origin Others]***"
   ]
  },
  {
   "cell_type": "code",
   "execution_count": 128,
   "metadata": {
    "colab": {
     "base_uri": "https://localhost:8080/",
     "height": 180
    },
    "colab_type": "code",
    "id": "5-WuIsp4N-DV",
    "outputId": "25a2f968-0099-4c92-d77d-6693aacc1faa"
   },
   "outputs": [
    {
     "data": {
      "text/plain": [
       "Index(['TotalVisits', 'Time Spent', 'Free Copy',\n",
       "       'Lead Origin_Landing Page Submission', 'Lead Origin_Lead Add Form',\n",
       "       'Lead Source_Olark Chat', 'Lead Source_Reference',\n",
       "       'Last Activity_Email Bounced', 'Last Activity_Email Link Clicked',\n",
       "       'Last Activity_Email Opened', 'Last Activity_Olark Chat Conversation',\n",
       "       'Last Activity_Others', 'Last Activity_SMS Sent',\n",
       "       'Specialization_International Business', 'Specialization_Not Specified',\n",
       "       'Current Occupation_Student', 'Current Occupation_Unemployed',\n",
       "       'Current Occupation_Working Professional'],\n",
       "      dtype='object')"
      ]
     },
     "execution_count": 128,
     "metadata": {},
     "output_type": "execute_result"
    }
   ],
   "source": [
    "col = col.drop('Lead Origin_Others')\n",
    "col"
   ]
  },
  {
   "cell_type": "code",
   "execution_count": 129,
   "metadata": {
    "colab": {
     "base_uri": "https://localhost:8080/",
     "height": 196
    },
    "colab_type": "code",
    "id": "mHtWJmpwOMoH",
    "outputId": "7efef8c7-81eb-41c7-cfea-289adbfbc878"
   },
   "outputs": [
    {
     "name": "stdout",
     "output_type": "stream",
     "text": [
      "Index(['TotalVisits', 'Time Spent', 'Free Copy',\n",
      "       'Lead Origin_Landing Page Submission', 'Lead Origin_Lead Add Form',\n",
      "       'Lead Source_Olark Chat', 'Lead Source_Reference',\n",
      "       'Last Activity_Email Bounced', 'Last Activity_Email Link Clicked',\n",
      "       'Last Activity_Email Opened', 'Last Activity_Olark Chat Conversation',\n",
      "       'Last Activity_Others', 'Last Activity_SMS Sent',\n",
      "       'Specialization_International Business', 'Specialization_Not Specified',\n",
      "       'Current Occupation_Student', 'Current Occupation_Unemployed',\n",
      "       'Current Occupation_Working Professional'],\n",
      "      dtype='object')\n",
      "18\n"
     ]
    }
   ],
   "source": [
    "print(col)\n",
    "print(len(col))"
   ]
  },
  {
   "cell_type": "code",
   "execution_count": 130,
   "metadata": {
    "colab": {
     "base_uri": "https://localhost:8080/",
     "height": 570
    },
    "colab_type": "code",
    "id": "rLNWU-nfOR5b",
    "outputId": "ac4c80cb-96d6-4b2c-892d-acd6b472df76"
   },
   "outputs": [
    {
     "name": "stdout",
     "output_type": "stream",
     "text": [
      "                 Generalized Linear Model Regression Results                  \n",
      "==============================================================================\n",
      "Dep. Variable:              Converted   No. Observations:                 6468\n",
      "Model:                            GLM   Df Residuals:                     6449\n",
      "Model Family:                Binomial   Df Model:                           18\n",
      "Link Function:                  logit   Scale:                          1.0000\n",
      "Method:                          IRLS   Log-Likelihood:                -2708.3\n",
      "Date:                Mon, 07 Sep 2020   Deviance:                       5416.6\n",
      "Time:                        09:59:49   Pearson chi2:                 8.09e+03\n",
      "No. Iterations:                     6                                         \n",
      "Covariance Type:            nonrobust                                         \n",
      "===========================================================================================================\n",
      "                                              coef    std err          z      P>|z|      [0.025      0.975]\n",
      "-----------------------------------------------------------------------------------------------------------\n",
      "const                                      -0.1413      0.546     -0.259      0.796      -1.211       0.928\n",
      "TotalVisits                                 0.1972      0.040      4.921      0.000       0.119       0.276\n",
      "Time Spent                                  1.0563      0.039     27.030      0.000       0.980       1.133\n",
      "Free Copy                                  -0.3166      0.087     -3.646      0.000      -0.487      -0.146\n",
      "Lead Origin_Landing Page Submission        -1.0194      0.130     -7.869      0.000      -1.273      -0.765\n",
      "Lead Origin_Lead Add Form                   4.3862      0.378     11.603      0.000       3.645       5.127\n",
      "Lead Source_Olark Chat                      1.1941      0.128      9.326      0.000       0.943       1.445\n",
      "Lead Source_Reference                      -1.1960      0.416     -2.876      0.004      -2.011      -0.381\n",
      "Last Activity_Email Bounced                -1.0837      0.320     -3.384      0.001      -1.711      -0.456\n",
      "Last Activity_Email Link Clicked            0.3864      0.244      1.581      0.114      -0.093       0.866\n",
      "Last Activity_Email Opened                  0.9009      0.127      7.096      0.000       0.652       1.150\n",
      "Last Activity_Olark Chat Conversation      -0.6041      0.202     -2.992      0.003      -1.000      -0.208\n",
      "Last Activity_Others                        0.7288      0.218      3.344      0.001       0.302       1.156\n",
      "Last Activity_SMS Sent                      2.0060      0.130     15.461      0.000       1.752       2.260\n",
      "Specialization_International Business      -0.3688      0.249     -1.479      0.139      -0.857       0.120\n",
      "Specialization_Not Specified               -1.1420      0.124     -9.226      0.000      -1.385      -0.899\n",
      "Current Occupation_Student                 -0.5706      0.578     -0.987      0.324      -1.703       0.562\n",
      "Current Occupation_Unemployed              -1.0051      0.528     -1.904      0.057      -2.040       0.030\n",
      "Current Occupation_Working Professional     1.7009      0.558      3.047      0.002       0.607       2.795\n",
      "===========================================================================================================\n"
     ]
    }
   ],
   "source": [
    "# Let's re-run the model using the selected variables\n",
    "X_train_sm = sm.add_constant(X_train[col])\n",
    "logm4 = sm.GLM(y_train,X_train_sm, family = sm.families.Binomial())\n",
    "res = logm4.fit()\n",
    "print(res.summary())"
   ]
  },
  {
   "cell_type": "code",
   "execution_count": 131,
   "metadata": {
    "colab": {
     "base_uri": "https://localhost:8080/",
     "height": 565
    },
    "colab_type": "code",
    "id": "DWVcY-kAjJLf",
    "outputId": "316d9925-ba2c-45b0-8804-b48e20a4e4bc"
   },
   "outputs": [
    {
     "data": {
      "text/html": [
       "<div>\n",
       "<style scoped>\n",
       "    .dataframe tbody tr th:only-of-type {\n",
       "        vertical-align: middle;\n",
       "    }\n",
       "\n",
       "    .dataframe tbody tr th {\n",
       "        vertical-align: top;\n",
       "    }\n",
       "\n",
       "    .dataframe thead th {\n",
       "        text-align: right;\n",
       "    }\n",
       "</style>\n",
       "<table border=\"1\" class=\"dataframe\">\n",
       "  <thead>\n",
       "    <tr style=\"text-align: right;\">\n",
       "      <th></th>\n",
       "      <th>Features</th>\n",
       "      <th>VIF</th>\n",
       "    </tr>\n",
       "  </thead>\n",
       "  <tbody>\n",
       "    <tr>\n",
       "      <td>16</td>\n",
       "      <td>Current Occupation_Unemployed</td>\n",
       "      <td>17.99</td>\n",
       "    </tr>\n",
       "    <tr>\n",
       "      <td>3</td>\n",
       "      <td>Lead Origin_Landing Page Submission</td>\n",
       "      <td>7.65</td>\n",
       "    </tr>\n",
       "    <tr>\n",
       "      <td>14</td>\n",
       "      <td>Specialization_Not Specified</td>\n",
       "      <td>4.84</td>\n",
       "    </tr>\n",
       "    <tr>\n",
       "      <td>4</td>\n",
       "      <td>Lead Origin_Lead Add Form</td>\n",
       "      <td>4.73</td>\n",
       "    </tr>\n",
       "    <tr>\n",
       "      <td>6</td>\n",
       "      <td>Lead Source_Reference</td>\n",
       "      <td>4.44</td>\n",
       "    </tr>\n",
       "    <tr>\n",
       "      <td>9</td>\n",
       "      <td>Last Activity_Email Opened</td>\n",
       "      <td>4.25</td>\n",
       "    </tr>\n",
       "    <tr>\n",
       "      <td>12</td>\n",
       "      <td>Last Activity_SMS Sent</td>\n",
       "      <td>3.65</td>\n",
       "    </tr>\n",
       "    <tr>\n",
       "      <td>5</td>\n",
       "      <td>Lead Source_Olark Chat</td>\n",
       "      <td>2.59</td>\n",
       "    </tr>\n",
       "    <tr>\n",
       "      <td>17</td>\n",
       "      <td>Current Occupation_Working Professional</td>\n",
       "      <td>2.32</td>\n",
       "    </tr>\n",
       "    <tr>\n",
       "      <td>10</td>\n",
       "      <td>Last Activity_Olark Chat Conversation</td>\n",
       "      <td>2.24</td>\n",
       "    </tr>\n",
       "    <tr>\n",
       "      <td>2</td>\n",
       "      <td>Free Copy</td>\n",
       "      <td>2.21</td>\n",
       "    </tr>\n",
       "    <tr>\n",
       "      <td>0</td>\n",
       "      <td>TotalVisits</td>\n",
       "      <td>1.47</td>\n",
       "    </tr>\n",
       "    <tr>\n",
       "      <td>15</td>\n",
       "      <td>Current Occupation_Student</td>\n",
       "      <td>1.43</td>\n",
       "    </tr>\n",
       "    <tr>\n",
       "      <td>7</td>\n",
       "      <td>Last Activity_Email Bounced</td>\n",
       "      <td>1.33</td>\n",
       "    </tr>\n",
       "    <tr>\n",
       "      <td>11</td>\n",
       "      <td>Last Activity_Others</td>\n",
       "      <td>1.28</td>\n",
       "    </tr>\n",
       "    <tr>\n",
       "      <td>1</td>\n",
       "      <td>Time Spent</td>\n",
       "      <td>1.27</td>\n",
       "    </tr>\n",
       "    <tr>\n",
       "      <td>8</td>\n",
       "      <td>Last Activity_Email Link Clicked</td>\n",
       "      <td>1.26</td>\n",
       "    </tr>\n",
       "    <tr>\n",
       "      <td>13</td>\n",
       "      <td>Specialization_International Business</td>\n",
       "      <td>1.03</td>\n",
       "    </tr>\n",
       "  </tbody>\n",
       "</table>\n",
       "</div>"
      ],
      "text/plain": [
       "                                   Features    VIF\n",
       "16            Current Occupation_Unemployed  17.99\n",
       "3       Lead Origin_Landing Page Submission   7.65\n",
       "14             Specialization_Not Specified   4.84\n",
       "4                 Lead Origin_Lead Add Form   4.73\n",
       "6                     Lead Source_Reference   4.44\n",
       "9                Last Activity_Email Opened   4.25\n",
       "12                   Last Activity_SMS Sent   3.65\n",
       "5                    Lead Source_Olark Chat   2.59\n",
       "17  Current Occupation_Working Professional   2.32\n",
       "10    Last Activity_Olark Chat Conversation   2.24\n",
       "2                                 Free Copy   2.21\n",
       "0                               TotalVisits   1.47\n",
       "15               Current Occupation_Student   1.43\n",
       "7               Last Activity_Email Bounced   1.33\n",
       "11                     Last Activity_Others   1.28\n",
       "1                                Time Spent   1.27\n",
       "8          Last Activity_Email Link Clicked   1.26\n",
       "13    Specialization_International Business   1.03"
      ]
     },
     "execution_count": 131,
     "metadata": {},
     "output_type": "execute_result"
    }
   ],
   "source": [
    "# Create a dataframe that will contain the names of all the feature variables and their respective VIFs\n",
    "vif = pd.DataFrame()\n",
    "vif['Features'] = X_train[col].columns\n",
    "vif['VIF'] = [variance_inflation_factor(X_train[col].values, i) for i in range(X_train[col].shape[1])]\n",
    "vif['VIF'] = round(vif['VIF'], 2)\n",
    "vif = vif.sort_values(by = \"VIF\", ascending = False)\n",
    "vif"
   ]
  },
  {
   "cell_type": "markdown",
   "metadata": {
    "colab_type": "text",
    "id": "rYpwSnJ9Iv42"
   },
   "source": [
    "**Inferences from the above model**\n",
    "\n",
    "- **Current Occupation_Student** - has a P-value of 32.47% \n",
    "- The above model has **1 8features**, and we need to reduce it further.\n",
    "- **Current Occupation_Unemployed** has a VIF score of **~18**\n",
    "\n",
    "--------------------------------------------------------------------------------\n"
   ]
  },
  {
   "cell_type": "markdown",
   "metadata": {
    "colab_type": "text",
    "id": "m-csQZDWI85I"
   },
   "source": [
    "**For Model - 5, we need to remove Current Occupation_Student and then proceed further**"
   ]
  },
  {
   "cell_type": "markdown",
   "metadata": {
    "colab_type": "text",
    "id": "8X5bB4DBOmzy"
   },
   "source": [
    "### ***Model - V [Drop Current_Occupation_Student]***"
   ]
  },
  {
   "cell_type": "code",
   "execution_count": 132,
   "metadata": {
    "colab": {},
    "colab_type": "code",
    "id": "ugUGgcgLObmq"
   },
   "outputs": [],
   "source": [
    "#Dropping \"Current Occupation_Student\" for further evaluation\n",
    "col = col.drop('Current Occupation_Student')"
   ]
  },
  {
   "cell_type": "code",
   "execution_count": 133,
   "metadata": {
    "colab": {
     "base_uri": "https://localhost:8080/",
     "height": 196
    },
    "colab_type": "code",
    "id": "fzu1TAF1OtnX",
    "outputId": "99671062-e111-4be1-c1de-e90dbba306cb"
   },
   "outputs": [
    {
     "name": "stdout",
     "output_type": "stream",
     "text": [
      "Index(['TotalVisits', 'Time Spent', 'Free Copy',\n",
      "       'Lead Origin_Landing Page Submission', 'Lead Origin_Lead Add Form',\n",
      "       'Lead Source_Olark Chat', 'Lead Source_Reference',\n",
      "       'Last Activity_Email Bounced', 'Last Activity_Email Link Clicked',\n",
      "       'Last Activity_Email Opened', 'Last Activity_Olark Chat Conversation',\n",
      "       'Last Activity_Others', 'Last Activity_SMS Sent',\n",
      "       'Specialization_International Business', 'Specialization_Not Specified',\n",
      "       'Current Occupation_Unemployed',\n",
      "       'Current Occupation_Working Professional'],\n",
      "      dtype='object')\n",
      "17\n"
     ]
    }
   ],
   "source": [
    "#Print all the features and the total number of features that we consider for further model building.\n",
    "print(col)\n",
    "print(len(col))"
   ]
  },
  {
   "cell_type": "code",
   "execution_count": 134,
   "metadata": {
    "colab": {
     "base_uri": "https://localhost:8080/",
     "height": 553
    },
    "colab_type": "code",
    "id": "i-I_ZXT2OwjA",
    "outputId": "8e822902-30f3-40b1-d669-cffe494b500b"
   },
   "outputs": [
    {
     "name": "stdout",
     "output_type": "stream",
     "text": [
      "                 Generalized Linear Model Regression Results                  \n",
      "==============================================================================\n",
      "Dep. Variable:              Converted   No. Observations:                 6468\n",
      "Model:                            GLM   Df Residuals:                     6450\n",
      "Model Family:                Binomial   Df Model:                           17\n",
      "Link Function:                  logit   Scale:                          1.0000\n",
      "Method:                          IRLS   Log-Likelihood:                -2708.8\n",
      "Date:                Mon, 07 Sep 2020   Deviance:                       5417.6\n",
      "Time:                        09:59:49   Pearson chi2:                 8.11e+03\n",
      "No. Iterations:                     6                                         \n",
      "Covariance Type:            nonrobust                                         \n",
      "===========================================================================================================\n",
      "                                              coef    std err          z      P>|z|      [0.025      0.975]\n",
      "-----------------------------------------------------------------------------------------------------------\n",
      "const                                      -0.6086      0.268     -2.273      0.023      -1.134      -0.084\n",
      "TotalVisits                                 0.1979      0.040      4.942      0.000       0.119       0.276\n",
      "Time Spent                                  1.0570      0.039     27.053      0.000       0.980       1.134\n",
      "Free Copy                                  -0.3168      0.087     -3.649      0.000      -0.487      -0.147\n",
      "Lead Origin_Landing Page Submission        -1.0229      0.130     -7.899      0.000      -1.277      -0.769\n",
      "Lead Origin_Lead Add Form                   4.3879      0.378     11.607      0.000       3.647       5.129\n",
      "Lead Source_Olark Chat                      1.1922      0.128      9.313      0.000       0.941       1.443\n",
      "Lead Source_Reference                      -1.1950      0.416     -2.873      0.004      -2.010      -0.380\n",
      "Last Activity_Email Bounced                -1.0882      0.320     -3.398      0.001      -1.716      -0.461\n",
      "Last Activity_Email Link Clicked            0.3859      0.244      1.580      0.114      -0.093       0.865\n",
      "Last Activity_Email Opened                  0.8984      0.127      7.081      0.000       0.650       1.147\n",
      "Last Activity_Olark Chat Conversation      -0.6030      0.202     -2.990      0.003      -0.998      -0.208\n",
      "Last Activity_Others                        0.7355      0.218      3.379      0.001       0.309       1.162\n",
      "Last Activity_SMS Sent                      2.0033      0.130     15.450      0.000       1.749       2.257\n",
      "Specialization_International Business      -0.3722      0.249     -1.493      0.135      -0.861       0.116\n",
      "Specialization_Not Specified               -1.1461      0.124     -9.261      0.000      -1.389      -0.904\n",
      "Current Occupation_Unemployed              -0.5323      0.218     -2.444      0.015      -0.959      -0.105\n",
      "Current Occupation_Working Professional     2.1729      0.285      7.628      0.000       1.615       2.731\n",
      "===========================================================================================================\n"
     ]
    }
   ],
   "source": [
    "# Let's re-run the model using the selected variables\n",
    "X_train_sm = sm.add_constant(X_train[col])\n",
    "logm5 = sm.GLM(y_train,X_train_sm, family = sm.families.Binomial())\n",
    "res = logm5.fit()\n",
    "print(res.summary())"
   ]
  },
  {
   "cell_type": "code",
   "execution_count": 135,
   "metadata": {
    "colab": {
     "base_uri": "https://localhost:8080/",
     "height": 536
    },
    "colab_type": "code",
    "id": "aeO-JdWSjl4b",
    "outputId": "ac462b4b-582d-43ae-f464-4717432ad31f"
   },
   "outputs": [
    {
     "data": {
      "text/html": [
       "<div>\n",
       "<style scoped>\n",
       "    .dataframe tbody tr th:only-of-type {\n",
       "        vertical-align: middle;\n",
       "    }\n",
       "\n",
       "    .dataframe tbody tr th {\n",
       "        vertical-align: top;\n",
       "    }\n",
       "\n",
       "    .dataframe thead th {\n",
       "        text-align: right;\n",
       "    }\n",
       "</style>\n",
       "<table border=\"1\" class=\"dataframe\">\n",
       "  <thead>\n",
       "    <tr style=\"text-align: right;\">\n",
       "      <th></th>\n",
       "      <th>Features</th>\n",
       "      <th>VIF</th>\n",
       "    </tr>\n",
       "  </thead>\n",
       "  <tbody>\n",
       "    <tr>\n",
       "      <td>15</td>\n",
       "      <td>Current Occupation_Unemployed</td>\n",
       "      <td>12.91</td>\n",
       "    </tr>\n",
       "    <tr>\n",
       "      <td>3</td>\n",
       "      <td>Lead Origin_Landing Page Submission</td>\n",
       "      <td>6.52</td>\n",
       "    </tr>\n",
       "    <tr>\n",
       "      <td>4</td>\n",
       "      <td>Lead Origin_Lead Add Form</td>\n",
       "      <td>4.72</td>\n",
       "    </tr>\n",
       "    <tr>\n",
       "      <td>6</td>\n",
       "      <td>Lead Source_Reference</td>\n",
       "      <td>4.40</td>\n",
       "    </tr>\n",
       "    <tr>\n",
       "      <td>14</td>\n",
       "      <td>Specialization_Not Specified</td>\n",
       "      <td>4.21</td>\n",
       "    </tr>\n",
       "    <tr>\n",
       "      <td>9</td>\n",
       "      <td>Last Activity_Email Opened</td>\n",
       "      <td>3.84</td>\n",
       "    </tr>\n",
       "    <tr>\n",
       "      <td>12</td>\n",
       "      <td>Last Activity_SMS Sent</td>\n",
       "      <td>3.40</td>\n",
       "    </tr>\n",
       "    <tr>\n",
       "      <td>5</td>\n",
       "      <td>Lead Source_Olark Chat</td>\n",
       "      <td>2.54</td>\n",
       "    </tr>\n",
       "    <tr>\n",
       "      <td>2</td>\n",
       "      <td>Free Copy</td>\n",
       "      <td>2.20</td>\n",
       "    </tr>\n",
       "    <tr>\n",
       "      <td>10</td>\n",
       "      <td>Last Activity_Olark Chat Conversation</td>\n",
       "      <td>2.14</td>\n",
       "    </tr>\n",
       "    <tr>\n",
       "      <td>16</td>\n",
       "      <td>Current Occupation_Working Professional</td>\n",
       "      <td>1.97</td>\n",
       "    </tr>\n",
       "    <tr>\n",
       "      <td>0</td>\n",
       "      <td>TotalVisits</td>\n",
       "      <td>1.47</td>\n",
       "    </tr>\n",
       "    <tr>\n",
       "      <td>7</td>\n",
       "      <td>Last Activity_Email Bounced</td>\n",
       "      <td>1.29</td>\n",
       "    </tr>\n",
       "    <tr>\n",
       "      <td>1</td>\n",
       "      <td>Time Spent</td>\n",
       "      <td>1.27</td>\n",
       "    </tr>\n",
       "    <tr>\n",
       "      <td>11</td>\n",
       "      <td>Last Activity_Others</td>\n",
       "      <td>1.25</td>\n",
       "    </tr>\n",
       "    <tr>\n",
       "      <td>8</td>\n",
       "      <td>Last Activity_Email Link Clicked</td>\n",
       "      <td>1.23</td>\n",
       "    </tr>\n",
       "    <tr>\n",
       "      <td>13</td>\n",
       "      <td>Specialization_International Business</td>\n",
       "      <td>1.03</td>\n",
       "    </tr>\n",
       "  </tbody>\n",
       "</table>\n",
       "</div>"
      ],
      "text/plain": [
       "                                   Features    VIF\n",
       "15            Current Occupation_Unemployed  12.91\n",
       "3       Lead Origin_Landing Page Submission   6.52\n",
       "4                 Lead Origin_Lead Add Form   4.72\n",
       "6                     Lead Source_Reference   4.40\n",
       "14             Specialization_Not Specified   4.21\n",
       "9                Last Activity_Email Opened   3.84\n",
       "12                   Last Activity_SMS Sent   3.40\n",
       "5                    Lead Source_Olark Chat   2.54\n",
       "2                                 Free Copy   2.20\n",
       "10    Last Activity_Olark Chat Conversation   2.14\n",
       "16  Current Occupation_Working Professional   1.97\n",
       "0                               TotalVisits   1.47\n",
       "7               Last Activity_Email Bounced   1.29\n",
       "1                                Time Spent   1.27\n",
       "11                     Last Activity_Others   1.25\n",
       "8          Last Activity_Email Link Clicked   1.23\n",
       "13    Specialization_International Business   1.03"
      ]
     },
     "execution_count": 135,
     "metadata": {},
     "output_type": "execute_result"
    }
   ],
   "source": [
    "# Create a dataframe that will contain the names of all the feature variables and their respective VIFs\n",
    "vif = pd.DataFrame()\n",
    "vif['Features'] = X_train[col].columns\n",
    "vif['VIF'] = [variance_inflation_factor(X_train[col].values, i) for i in range(X_train[col].shape[1])]\n",
    "vif['VIF'] = round(vif['VIF'], 2)\n",
    "vif = vif.sort_values(by = \"VIF\", ascending = False)\n",
    "vif"
   ]
  },
  {
   "cell_type": "code",
   "execution_count": 136,
   "metadata": {
    "colab": {
     "base_uri": "https://localhost:8080/",
     "height": 536
    },
    "colab_type": "code",
    "id": "VnB6Db7AKVjI",
    "outputId": "2e254f4d-153e-45a5-8952-5afe5f7e677a"
   },
   "outputs": [
    {
     "data": {
      "text/html": [
       "<div>\n",
       "<style scoped>\n",
       "    .dataframe tbody tr th:only-of-type {\n",
       "        vertical-align: middle;\n",
       "    }\n",
       "\n",
       "    .dataframe tbody tr th {\n",
       "        vertical-align: top;\n",
       "    }\n",
       "\n",
       "    .dataframe thead th {\n",
       "        text-align: right;\n",
       "    }\n",
       "</style>\n",
       "<table border=\"1\" class=\"dataframe\">\n",
       "  <thead>\n",
       "    <tr style=\"text-align: right;\">\n",
       "      <th></th>\n",
       "      <th>Features</th>\n",
       "      <th>VIF</th>\n",
       "    </tr>\n",
       "  </thead>\n",
       "  <tbody>\n",
       "    <tr>\n",
       "      <td>15</td>\n",
       "      <td>Current Occupation_Unemployed</td>\n",
       "      <td>12.91</td>\n",
       "    </tr>\n",
       "    <tr>\n",
       "      <td>3</td>\n",
       "      <td>Lead Origin_Landing Page Submission</td>\n",
       "      <td>6.52</td>\n",
       "    </tr>\n",
       "    <tr>\n",
       "      <td>4</td>\n",
       "      <td>Lead Origin_Lead Add Form</td>\n",
       "      <td>4.72</td>\n",
       "    </tr>\n",
       "    <tr>\n",
       "      <td>6</td>\n",
       "      <td>Lead Source_Reference</td>\n",
       "      <td>4.40</td>\n",
       "    </tr>\n",
       "    <tr>\n",
       "      <td>14</td>\n",
       "      <td>Specialization_Not Specified</td>\n",
       "      <td>4.21</td>\n",
       "    </tr>\n",
       "    <tr>\n",
       "      <td>9</td>\n",
       "      <td>Last Activity_Email Opened</td>\n",
       "      <td>3.84</td>\n",
       "    </tr>\n",
       "    <tr>\n",
       "      <td>12</td>\n",
       "      <td>Last Activity_SMS Sent</td>\n",
       "      <td>3.40</td>\n",
       "    </tr>\n",
       "    <tr>\n",
       "      <td>5</td>\n",
       "      <td>Lead Source_Olark Chat</td>\n",
       "      <td>2.54</td>\n",
       "    </tr>\n",
       "    <tr>\n",
       "      <td>2</td>\n",
       "      <td>Free Copy</td>\n",
       "      <td>2.20</td>\n",
       "    </tr>\n",
       "    <tr>\n",
       "      <td>10</td>\n",
       "      <td>Last Activity_Olark Chat Conversation</td>\n",
       "      <td>2.14</td>\n",
       "    </tr>\n",
       "    <tr>\n",
       "      <td>16</td>\n",
       "      <td>Current Occupation_Working Professional</td>\n",
       "      <td>1.97</td>\n",
       "    </tr>\n",
       "    <tr>\n",
       "      <td>0</td>\n",
       "      <td>TotalVisits</td>\n",
       "      <td>1.47</td>\n",
       "    </tr>\n",
       "    <tr>\n",
       "      <td>7</td>\n",
       "      <td>Last Activity_Email Bounced</td>\n",
       "      <td>1.29</td>\n",
       "    </tr>\n",
       "    <tr>\n",
       "      <td>1</td>\n",
       "      <td>Time Spent</td>\n",
       "      <td>1.27</td>\n",
       "    </tr>\n",
       "    <tr>\n",
       "      <td>11</td>\n",
       "      <td>Last Activity_Others</td>\n",
       "      <td>1.25</td>\n",
       "    </tr>\n",
       "    <tr>\n",
       "      <td>8</td>\n",
       "      <td>Last Activity_Email Link Clicked</td>\n",
       "      <td>1.23</td>\n",
       "    </tr>\n",
       "    <tr>\n",
       "      <td>13</td>\n",
       "      <td>Specialization_International Business</td>\n",
       "      <td>1.03</td>\n",
       "    </tr>\n",
       "  </tbody>\n",
       "</table>\n",
       "</div>"
      ],
      "text/plain": [
       "                                   Features    VIF\n",
       "15            Current Occupation_Unemployed  12.91\n",
       "3       Lead Origin_Landing Page Submission   6.52\n",
       "4                 Lead Origin_Lead Add Form   4.72\n",
       "6                     Lead Source_Reference   4.40\n",
       "14             Specialization_Not Specified   4.21\n",
       "9                Last Activity_Email Opened   3.84\n",
       "12                   Last Activity_SMS Sent   3.40\n",
       "5                    Lead Source_Olark Chat   2.54\n",
       "2                                 Free Copy   2.20\n",
       "10    Last Activity_Olark Chat Conversation   2.14\n",
       "16  Current Occupation_Working Professional   1.97\n",
       "0                               TotalVisits   1.47\n",
       "7               Last Activity_Email Bounced   1.29\n",
       "1                                Time Spent   1.27\n",
       "11                     Last Activity_Others   1.25\n",
       "8          Last Activity_Email Link Clicked   1.23\n",
       "13    Specialization_International Business   1.03"
      ]
     },
     "execution_count": 136,
     "metadata": {},
     "output_type": "execute_result"
    }
   ],
   "source": [
    "# Create a dataframe that will contain the names of all the feature variables and their respective VIFs\n",
    "vif = pd.DataFrame()\n",
    "vif['Features'] = X_train[col].columns\n",
    "vif['VIF'] = [variance_inflation_factor(X_train[col].values, i) for i in range(X_train[col].shape[1])]\n",
    "vif['VIF'] = round(vif['VIF'], 2)\n",
    "vif = vif.sort_values(by = \"VIF\", ascending = False)\n",
    "vif"
   ]
  },
  {
   "cell_type": "markdown",
   "metadata": {
    "colab_type": "text",
    "id": "DEK-Kx0BJbiU"
   },
   "source": [
    "**Inferences from the above model**\n",
    "\n",
    "- **Specialization International_Business** - has a P-value of 13.5% \n",
    "- The above model has **17 features**, and we need to reduce it further.\n",
    "- **Current Occupation_Unemployed** has a VIF score of **~13**\n",
    "\n",
    "--------------------------------------------------------------------------------\n"
   ]
  },
  {
   "cell_type": "markdown",
   "metadata": {
    "colab_type": "text",
    "id": "5mtlX6VEJoSK"
   },
   "source": [
    "**For further model building [Model - 6], we need to remove Specialization International_Business and proceed.**"
   ]
  },
  {
   "cell_type": "markdown",
   "metadata": {
    "colab_type": "text",
    "id": "VBYskoMDO8Ef"
   },
   "source": [
    "### ***Model - VI [Drop Specialization_International Business]***"
   ]
  },
  {
   "cell_type": "code",
   "execution_count": 137,
   "metadata": {
    "colab": {},
    "colab_type": "code",
    "id": "v15VvjIlO7ef"
   },
   "outputs": [],
   "source": [
    "#Dropping \"Specialization International_Business\" for model building improvement\n",
    "col = col.drop('Specialization_International Business', 1)"
   ]
  },
  {
   "cell_type": "code",
   "execution_count": 138,
   "metadata": {
    "colab": {
     "base_uri": "https://localhost:8080/",
     "height": 180
    },
    "colab_type": "code",
    "id": "29jXzlQHPIDM",
    "outputId": "aeda75bb-fe3b-43c5-8100-f8dd3dde0e01"
   },
   "outputs": [
    {
     "name": "stdout",
     "output_type": "stream",
     "text": [
      "Index(['TotalVisits', 'Time Spent', 'Free Copy',\n",
      "       'Lead Origin_Landing Page Submission', 'Lead Origin_Lead Add Form',\n",
      "       'Lead Source_Olark Chat', 'Lead Source_Reference',\n",
      "       'Last Activity_Email Bounced', 'Last Activity_Email Link Clicked',\n",
      "       'Last Activity_Email Opened', 'Last Activity_Olark Chat Conversation',\n",
      "       'Last Activity_Others', 'Last Activity_SMS Sent',\n",
      "       'Specialization_Not Specified', 'Current Occupation_Unemployed',\n",
      "       'Current Occupation_Working Professional'],\n",
      "      dtype='object')\n",
      "16\n"
     ]
    }
   ],
   "source": [
    "#Printing all the features in the current model. \n",
    "print(col)\n",
    "print(len(col))"
   ]
  },
  {
   "cell_type": "code",
   "execution_count": 139,
   "metadata": {
    "colab": {
     "base_uri": "https://localhost:8080/",
     "height": 537
    },
    "colab_type": "code",
    "id": "5JLL3mUVPMoz",
    "outputId": "f0e83438-d5e5-4aa6-c483-fdd1701084cc"
   },
   "outputs": [
    {
     "name": "stdout",
     "output_type": "stream",
     "text": [
      "                 Generalized Linear Model Regression Results                  \n",
      "==============================================================================\n",
      "Dep. Variable:              Converted   No. Observations:                 6468\n",
      "Model:                            GLM   Df Residuals:                     6451\n",
      "Model Family:                Binomial   Df Model:                           16\n",
      "Link Function:                  logit   Scale:                          1.0000\n",
      "Method:                          IRLS   Log-Likelihood:                -2709.9\n",
      "Date:                Mon, 07 Sep 2020   Deviance:                       5419.9\n",
      "Time:                        09:59:50   Pearson chi2:                 8.10e+03\n",
      "No. Iterations:                     6                                         \n",
      "Covariance Type:            nonrobust                                         \n",
      "===========================================================================================================\n",
      "                                              coef    std err          z      P>|z|      [0.025      0.975]\n",
      "-----------------------------------------------------------------------------------------------------------\n",
      "const                                      -0.6214      0.268     -2.322      0.020      -1.146      -0.097\n",
      "TotalVisits                                 0.1978      0.040      4.941      0.000       0.119       0.276\n",
      "Time Spent                                  1.0582      0.039     27.086      0.000       0.982       1.135\n",
      "Free Copy                                  -0.3168      0.087     -3.651      0.000      -0.487      -0.147\n",
      "Lead Origin_Landing Page Submission        -1.0209      0.129     -7.888      0.000      -1.275      -0.767\n",
      "Lead Origin_Lead Add Form                   4.3921      0.378     11.614      0.000       3.651       5.133\n",
      "Lead Source_Olark Chat                      1.1940      0.128      9.328      0.000       0.943       1.445\n",
      "Lead Source_Reference                      -1.1960      0.416     -2.876      0.004      -2.011      -0.381\n",
      "Last Activity_Email Bounced                -1.1020      0.322     -3.428      0.001      -1.732      -0.472\n",
      "Last Activity_Email Link Clicked            0.3851      0.244      1.578      0.115      -0.093       0.864\n",
      "Last Activity_Email Opened                  0.8977      0.127      7.073      0.000       0.649       1.146\n",
      "Last Activity_Olark Chat Conversation      -0.6022      0.202     -2.986      0.003      -0.997      -0.207\n",
      "Last Activity_Others                        0.7318      0.217      3.365      0.001       0.306       1.158\n",
      "Last Activity_SMS Sent                      2.0021      0.130     15.437      0.000       1.748       2.256\n",
      "Specialization_Not Specified               -1.1334      0.123     -9.184      0.000      -1.375      -0.891\n",
      "Current Occupation_Unemployed              -0.5321      0.218     -2.445      0.014      -0.959      -0.106\n",
      "Current Occupation_Working Professional     2.1762      0.285      7.645      0.000       1.618       2.734\n",
      "===========================================================================================================\n"
     ]
    }
   ],
   "source": [
    "# Let's re-run the model using the selected variables\n",
    "X_train_sm = sm.add_constant(X_train[col])\n",
    "logm6 = sm.GLM(y_train,X_train_sm, family = sm.families.Binomial())\n",
    "res = logm6.fit()\n",
    "print(res.summary())"
   ]
  },
  {
   "cell_type": "markdown",
   "metadata": {
    "colab_type": "text",
    "id": "cTsIT5fzKCgg"
   },
   "source": [
    "**Inferences from the above model**\n",
    "\n",
    "- **Last Activity_Email Link Clicked** - has a P-value of 11.5% \n",
    "- The above model has **16 features**, and we need to reduce it further.\n",
    "- **Current Occupation_Unemployed** has a VIF score of **~13**\n",
    "\n",
    "--------------------------------------------------------------------------------\n"
   ]
  },
  {
   "cell_type": "markdown",
   "metadata": {
    "colab_type": "text",
    "id": "QOBN1oeyKdCp"
   },
   "source": [
    "**For further model building [Model - 7], we need to remove Last Activity_Email Link Clicked and proceed.**"
   ]
  },
  {
   "cell_type": "markdown",
   "metadata": {
    "colab_type": "text",
    "id": "2Ba1X89pPV3l"
   },
   "source": [
    "### ***Model - VII [Drop Last Activity_Email Link Clicked ]***"
   ]
  },
  {
   "cell_type": "code",
   "execution_count": 140,
   "metadata": {
    "colab": {},
    "colab_type": "code",
    "id": "-8wzy_fJPU3Z"
   },
   "outputs": [],
   "source": [
    "# Dropping \"Last Activity Email Link Clicked\" to improve the model.\n",
    "col = col.drop('Last Activity_Email Link Clicked', 1)"
   ]
  },
  {
   "cell_type": "code",
   "execution_count": 141,
   "metadata": {
    "colab": {
     "base_uri": "https://localhost:8080/",
     "height": 180
    },
    "colab_type": "code",
    "id": "cxFS43kSPegO",
    "outputId": "a92380f6-771a-4425-eed8-c84a46d16e94"
   },
   "outputs": [
    {
     "name": "stdout",
     "output_type": "stream",
     "text": [
      "Index(['TotalVisits', 'Time Spent', 'Free Copy',\n",
      "       'Lead Origin_Landing Page Submission', 'Lead Origin_Lead Add Form',\n",
      "       'Lead Source_Olark Chat', 'Lead Source_Reference',\n",
      "       'Last Activity_Email Bounced', 'Last Activity_Email Opened',\n",
      "       'Last Activity_Olark Chat Conversation', 'Last Activity_Others',\n",
      "       'Last Activity_SMS Sent', 'Specialization_Not Specified',\n",
      "       'Current Occupation_Unemployed',\n",
      "       'Current Occupation_Working Professional'],\n",
      "      dtype='object')\n",
      "15\n"
     ]
    }
   ],
   "source": [
    "#Printing all the required features considered for model building\n",
    "print(col)\n",
    "print(len(col))"
   ]
  },
  {
   "cell_type": "code",
   "execution_count": 142,
   "metadata": {
    "colab": {
     "base_uri": "https://localhost:8080/",
     "height": 521
    },
    "colab_type": "code",
    "id": "1gXiP-OiPmzB",
    "outputId": "5cab7d01-5645-4b7b-8222-829d5e60d481"
   },
   "outputs": [
    {
     "name": "stdout",
     "output_type": "stream",
     "text": [
      "                 Generalized Linear Model Regression Results                  \n",
      "==============================================================================\n",
      "Dep. Variable:              Converted   No. Observations:                 6468\n",
      "Model:                            GLM   Df Residuals:                     6452\n",
      "Model Family:                Binomial   Df Model:                           15\n",
      "Link Function:                  logit   Scale:                          1.0000\n",
      "Method:                          IRLS   Log-Likelihood:                -2711.1\n",
      "Date:                Mon, 07 Sep 2020   Deviance:                       5422.3\n",
      "Time:                        09:59:50   Pearson chi2:                 8.11e+03\n",
      "No. Iterations:                     6                                         \n",
      "Covariance Type:            nonrobust                                         \n",
      "===========================================================================================================\n",
      "                                              coef    std err          z      P>|z|      [0.025      0.975]\n",
      "-----------------------------------------------------------------------------------------------------------\n",
      "const                                      -0.5451      0.262     -2.077      0.038      -1.059      -0.031\n",
      "TotalVisits                                 0.1941      0.040      4.866      0.000       0.116       0.272\n",
      "Time Spent                                  1.0567      0.039     27.082      0.000       0.980       1.133\n",
      "Free Copy                                  -0.3171      0.087     -3.657      0.000      -0.487      -0.147\n",
      "Lead Origin_Landing Page Submission        -1.0209      0.129     -7.890      0.000      -1.275      -0.767\n",
      "Lead Origin_Lead Add Form                   4.4073      0.379     11.635      0.000       3.665       5.150\n",
      "Lead Source_Olark Chat                      1.2023      0.128      9.398      0.000       0.952       1.453\n",
      "Lead Source_Reference                      -1.2007      0.417     -2.881      0.004      -2.018      -0.384\n",
      "Last Activity_Email Bounced                -1.1864      0.317     -3.746      0.000      -1.807      -0.566\n",
      "Last Activity_Email Opened                  0.8150      0.114      7.148      0.000       0.592       1.039\n",
      "Last Activity_Olark Chat Conversation      -0.6909      0.193     -3.583      0.000      -1.069      -0.313\n",
      "Last Activity_Others                        0.6510      0.210      3.093      0.002       0.239       1.064\n",
      "Last Activity_SMS Sent                      1.9194      0.117     16.405      0.000       1.690       2.149\n",
      "Specialization_Not Specified               -1.1336      0.123     -9.182      0.000      -1.376      -0.892\n",
      "Current Occupation_Unemployed              -0.5269      0.218     -2.422      0.015      -0.953      -0.101\n",
      "Current Occupation_Working Professional     2.1784      0.284      7.660      0.000       1.621       2.736\n",
      "===========================================================================================================\n"
     ]
    }
   ],
   "source": [
    "# Let's re-run the model using the selected variables\n",
    "X_train_sm = sm.add_constant(X_train[col])\n",
    "logm7 = sm.GLM(y_train,X_train_sm, family = sm.families.Binomial())\n",
    "res = logm7.fit()\n",
    "print(res.summary())"
   ]
  },
  {
   "cell_type": "markdown",
   "metadata": {
    "colab_type": "text",
    "id": "q2z6tPeCPry6"
   },
   "source": [
    "**Inferences from the above model**\n",
    "\n",
    "- All P-Values are less than 5%, now lets check for VIF\n",
    "- The above model has **15 features**, and we need to reduce it further\n",
    "\n",
    "--------------------------------------------------------------------------------\n"
   ]
  },
  {
   "cell_type": "code",
   "execution_count": 143,
   "metadata": {
    "colab": {},
    "colab_type": "code",
    "id": "2UA2cEOIPx9S"
   },
   "outputs": [],
   "source": [
    "# Check for the VIF values of the feature variables. \n",
    "from statsmodels.stats.outliers_influence import variance_inflation_factor"
   ]
  },
  {
   "cell_type": "code",
   "execution_count": 144,
   "metadata": {
    "colab": {
     "base_uri": "https://localhost:8080/",
     "height": 478
    },
    "colab_type": "code",
    "id": "SBGMlYNxP1OR",
    "outputId": "37c703d3-717b-494f-e484-d0f0eb5c3927"
   },
   "outputs": [
    {
     "data": {
      "text/html": [
       "<div>\n",
       "<style scoped>\n",
       "    .dataframe tbody tr th:only-of-type {\n",
       "        vertical-align: middle;\n",
       "    }\n",
       "\n",
       "    .dataframe tbody tr th {\n",
       "        vertical-align: top;\n",
       "    }\n",
       "\n",
       "    .dataframe thead th {\n",
       "        text-align: right;\n",
       "    }\n",
       "</style>\n",
       "<table border=\"1\" class=\"dataframe\">\n",
       "  <thead>\n",
       "    <tr style=\"text-align: right;\">\n",
       "      <th></th>\n",
       "      <th>Features</th>\n",
       "      <th>VIF</th>\n",
       "    </tr>\n",
       "  </thead>\n",
       "  <tbody>\n",
       "    <tr>\n",
       "      <td>13</td>\n",
       "      <td>Current Occupation_Unemployed</td>\n",
       "      <td>12.20</td>\n",
       "    </tr>\n",
       "    <tr>\n",
       "      <td>3</td>\n",
       "      <td>Lead Origin_Landing Page Submission</td>\n",
       "      <td>6.49</td>\n",
       "    </tr>\n",
       "    <tr>\n",
       "      <td>4</td>\n",
       "      <td>Lead Origin_Lead Add Form</td>\n",
       "      <td>4.72</td>\n",
       "    </tr>\n",
       "    <tr>\n",
       "      <td>6</td>\n",
       "      <td>Lead Source_Reference</td>\n",
       "      <td>4.40</td>\n",
       "    </tr>\n",
       "    <tr>\n",
       "      <td>12</td>\n",
       "      <td>Specialization_Not Specified</td>\n",
       "      <td>4.18</td>\n",
       "    </tr>\n",
       "    <tr>\n",
       "      <td>8</td>\n",
       "      <td>Last Activity_Email Opened</td>\n",
       "      <td>3.32</td>\n",
       "    </tr>\n",
       "    <tr>\n",
       "      <td>11</td>\n",
       "      <td>Last Activity_SMS Sent</td>\n",
       "      <td>2.98</td>\n",
       "    </tr>\n",
       "    <tr>\n",
       "      <td>5</td>\n",
       "      <td>Lead Source_Olark Chat</td>\n",
       "      <td>2.51</td>\n",
       "    </tr>\n",
       "    <tr>\n",
       "      <td>2</td>\n",
       "      <td>Free Copy</td>\n",
       "      <td>2.20</td>\n",
       "    </tr>\n",
       "    <tr>\n",
       "      <td>9</td>\n",
       "      <td>Last Activity_Olark Chat Conversation</td>\n",
       "      <td>1.95</td>\n",
       "    </tr>\n",
       "    <tr>\n",
       "      <td>14</td>\n",
       "      <td>Current Occupation_Working Professional</td>\n",
       "      <td>1.90</td>\n",
       "    </tr>\n",
       "    <tr>\n",
       "      <td>0</td>\n",
       "      <td>TotalVisits</td>\n",
       "      <td>1.46</td>\n",
       "    </tr>\n",
       "    <tr>\n",
       "      <td>1</td>\n",
       "      <td>Time Spent</td>\n",
       "      <td>1.27</td>\n",
       "    </tr>\n",
       "    <tr>\n",
       "      <td>7</td>\n",
       "      <td>Last Activity_Email Bounced</td>\n",
       "      <td>1.24</td>\n",
       "    </tr>\n",
       "    <tr>\n",
       "      <td>10</td>\n",
       "      <td>Last Activity_Others</td>\n",
       "      <td>1.21</td>\n",
       "    </tr>\n",
       "  </tbody>\n",
       "</table>\n",
       "</div>"
      ],
      "text/plain": [
       "                                   Features    VIF\n",
       "13            Current Occupation_Unemployed  12.20\n",
       "3       Lead Origin_Landing Page Submission   6.49\n",
       "4                 Lead Origin_Lead Add Form   4.72\n",
       "6                     Lead Source_Reference   4.40\n",
       "12             Specialization_Not Specified   4.18\n",
       "8                Last Activity_Email Opened   3.32\n",
       "11                   Last Activity_SMS Sent   2.98\n",
       "5                    Lead Source_Olark Chat   2.51\n",
       "2                                 Free Copy   2.20\n",
       "9     Last Activity_Olark Chat Conversation   1.95\n",
       "14  Current Occupation_Working Professional   1.90\n",
       "0                               TotalVisits   1.46\n",
       "1                                Time Spent   1.27\n",
       "7               Last Activity_Email Bounced   1.24\n",
       "10                     Last Activity_Others   1.21"
      ]
     },
     "execution_count": 144,
     "metadata": {},
     "output_type": "execute_result"
    }
   ],
   "source": [
    "# Create a dataframe that will contain the names of all the feature variables and their respective VIFs\n",
    "vif = pd.DataFrame()\n",
    "vif['Features'] = X_train[col].columns\n",
    "vif['VIF'] = [variance_inflation_factor(X_train[col].values, i) for i in range(X_train[col].shape[1])]\n",
    "vif['VIF'] = round(vif['VIF'], 2)\n",
    "vif = vif.sort_values(by = \"VIF\", ascending = False)\n",
    "vif"
   ]
  },
  {
   "cell_type": "markdown",
   "metadata": {
    "colab_type": "text",
    "id": "3F9KypDQK1Rd"
   },
   "source": [
    "**Current occupation_Unemployed has a high VIF of 12.20 and we need to reduce this further.**"
   ]
  },
  {
   "cell_type": "markdown",
   "metadata": {
    "colab_type": "text",
    "id": "VKuaR147P7WB"
   },
   "source": [
    "### ***Model - VIII [Drop Current Occupation_Unemployed ]***"
   ]
  },
  {
   "cell_type": "code",
   "execution_count": 145,
   "metadata": {
    "colab": {},
    "colab_type": "code",
    "id": "NjxiGmmdP47V"
   },
   "outputs": [],
   "source": [
    "#Dropping \"Current Occupation_Employed\" because of high VIF\n",
    "col = col.drop('Current Occupation_Unemployed', 1)"
   ]
  },
  {
   "cell_type": "code",
   "execution_count": 146,
   "metadata": {
    "colab": {
     "base_uri": "https://localhost:8080/",
     "height": 163
    },
    "colab_type": "code",
    "id": "N69xMERbQGVg",
    "outputId": "cbc1c325-38f8-4211-be71-ba0dada84a8e"
   },
   "outputs": [
    {
     "name": "stdout",
     "output_type": "stream",
     "text": [
      "Index(['TotalVisits', 'Time Spent', 'Free Copy',\n",
      "       'Lead Origin_Landing Page Submission', 'Lead Origin_Lead Add Form',\n",
      "       'Lead Source_Olark Chat', 'Lead Source_Reference',\n",
      "       'Last Activity_Email Bounced', 'Last Activity_Email Opened',\n",
      "       'Last Activity_Olark Chat Conversation', 'Last Activity_Others',\n",
      "       'Last Activity_SMS Sent', 'Specialization_Not Specified',\n",
      "       'Current Occupation_Working Professional'],\n",
      "      dtype='object')\n",
      "14\n"
     ]
    }
   ],
   "source": [
    "#Displaying all the features and the number of features for our model building. \n",
    "print(col)\n",
    "print(len(col))"
   ]
  },
  {
   "cell_type": "code",
   "execution_count": 147,
   "metadata": {
    "colab": {
     "base_uri": "https://localhost:8080/",
     "height": 505
    },
    "colab_type": "code",
    "id": "uBvnxly6QLe-",
    "outputId": "aa80c62b-6472-4abb-f4e1-771ab8a7a9f2"
   },
   "outputs": [
    {
     "name": "stdout",
     "output_type": "stream",
     "text": [
      "                 Generalized Linear Model Regression Results                  \n",
      "==============================================================================\n",
      "Dep. Variable:              Converted   No. Observations:                 6468\n",
      "Model:                            GLM   Df Residuals:                     6453\n",
      "Model Family:                Binomial   Df Model:                           14\n",
      "Link Function:                  logit   Scale:                          1.0000\n",
      "Method:                          IRLS   Log-Likelihood:                -2714.0\n",
      "Date:                Mon, 07 Sep 2020   Deviance:                       5428.0\n",
      "Time:                        09:59:50   Pearson chi2:                 8.15e+03\n",
      "No. Iterations:                     6                                         \n",
      "Covariance Type:            nonrobust                                         \n",
      "===========================================================================================================\n",
      "                                              coef    std err          z      P>|z|      [0.025      0.975]\n",
      "-----------------------------------------------------------------------------------------------------------\n",
      "const                                      -1.0565      0.155     -6.805      0.000      -1.361      -0.752\n",
      "TotalVisits                                 0.1944      0.040      4.879      0.000       0.116       0.273\n",
      "Time Spent                                  1.0574      0.039     27.109      0.000       0.981       1.134\n",
      "Free Copy                                  -0.3186      0.087     -3.677      0.000      -0.488      -0.149\n",
      "Lead Origin_Landing Page Submission        -1.0199      0.130     -7.876      0.000      -1.274      -0.766\n",
      "Lead Origin_Lead Add Form                   4.4017      0.379     11.623      0.000       3.659       5.144\n",
      "Lead Source_Olark Chat                      1.2101      0.128      9.463      0.000       0.959       1.461\n",
      "Lead Source_Reference                      -1.1764      0.417     -2.824      0.005      -1.993      -0.360\n",
      "Last Activity_Email Bounced                -1.1921      0.317     -3.758      0.000      -1.814      -0.570\n",
      "Last Activity_Email Opened                  0.8166      0.114      7.171      0.000       0.593       1.040\n",
      "Last Activity_Olark Chat Conversation      -0.6859      0.193     -3.561      0.000      -1.063      -0.308\n",
      "Last Activity_Others                        0.6463      0.210      3.073      0.002       0.234       1.059\n",
      "Last Activity_SMS Sent                      1.9097      0.117     16.358      0.000       1.681       2.138\n",
      "Specialization_Not Specified               -1.1380      0.124     -9.204      0.000      -1.380      -0.896\n",
      "Current Occupation_Working Professional     2.6908      0.190     14.130      0.000       2.318       3.064\n",
      "===========================================================================================================\n"
     ]
    }
   ],
   "source": [
    "# Let's re-run the model using the selected variables\n",
    "X_train_sm = sm.add_constant(X_train[col])\n",
    "logm8 = sm.GLM(y_train,X_train_sm, family = sm.families.Binomial())\n",
    "res = logm8.fit()\n",
    "print(res.summary())"
   ]
  },
  {
   "cell_type": "code",
   "execution_count": 148,
   "metadata": {
    "colab": {
     "base_uri": "https://localhost:8080/",
     "height": 450
    },
    "colab_type": "code",
    "id": "J4Il3EmOQOPF",
    "outputId": "39b791f2-c985-411e-ff3b-bb4597ec1374"
   },
   "outputs": [
    {
     "data": {
      "text/html": [
       "<div>\n",
       "<style scoped>\n",
       "    .dataframe tbody tr th:only-of-type {\n",
       "        vertical-align: middle;\n",
       "    }\n",
       "\n",
       "    .dataframe tbody tr th {\n",
       "        vertical-align: top;\n",
       "    }\n",
       "\n",
       "    .dataframe thead th {\n",
       "        text-align: right;\n",
       "    }\n",
       "</style>\n",
       "<table border=\"1\" class=\"dataframe\">\n",
       "  <thead>\n",
       "    <tr style=\"text-align: right;\">\n",
       "      <th></th>\n",
       "      <th>Features</th>\n",
       "      <th>VIF</th>\n",
       "    </tr>\n",
       "  </thead>\n",
       "  <tbody>\n",
       "    <tr>\n",
       "      <td>4</td>\n",
       "      <td>Lead Origin_Lead Add Form</td>\n",
       "      <td>4.66</td>\n",
       "    </tr>\n",
       "    <tr>\n",
       "      <td>6</td>\n",
       "      <td>Lead Source_Reference</td>\n",
       "      <td>4.36</td>\n",
       "    </tr>\n",
       "    <tr>\n",
       "      <td>3</td>\n",
       "      <td>Lead Origin_Landing Page Submission</td>\n",
       "      <td>3.99</td>\n",
       "    </tr>\n",
       "    <tr>\n",
       "      <td>8</td>\n",
       "      <td>Last Activity_Email Opened</td>\n",
       "      <td>2.68</td>\n",
       "    </tr>\n",
       "    <tr>\n",
       "      <td>12</td>\n",
       "      <td>Specialization_Not Specified</td>\n",
       "      <td>2.68</td>\n",
       "    </tr>\n",
       "    <tr>\n",
       "      <td>11</td>\n",
       "      <td>Last Activity_SMS Sent</td>\n",
       "      <td>2.48</td>\n",
       "    </tr>\n",
       "    <tr>\n",
       "      <td>5</td>\n",
       "      <td>Lead Source_Olark Chat</td>\n",
       "      <td>2.39</td>\n",
       "    </tr>\n",
       "    <tr>\n",
       "      <td>2</td>\n",
       "      <td>Free Copy</td>\n",
       "      <td>2.16</td>\n",
       "    </tr>\n",
       "    <tr>\n",
       "      <td>9</td>\n",
       "      <td>Last Activity_Olark Chat Conversation</td>\n",
       "      <td>1.82</td>\n",
       "    </tr>\n",
       "    <tr>\n",
       "      <td>0</td>\n",
       "      <td>TotalVisits</td>\n",
       "      <td>1.45</td>\n",
       "    </tr>\n",
       "    <tr>\n",
       "      <td>1</td>\n",
       "      <td>Time Spent</td>\n",
       "      <td>1.27</td>\n",
       "    </tr>\n",
       "    <tr>\n",
       "      <td>13</td>\n",
       "      <td>Current Occupation_Working Professional</td>\n",
       "      <td>1.21</td>\n",
       "    </tr>\n",
       "    <tr>\n",
       "      <td>7</td>\n",
       "      <td>Last Activity_Email Bounced</td>\n",
       "      <td>1.20</td>\n",
       "    </tr>\n",
       "    <tr>\n",
       "      <td>10</td>\n",
       "      <td>Last Activity_Others</td>\n",
       "      <td>1.14</td>\n",
       "    </tr>\n",
       "  </tbody>\n",
       "</table>\n",
       "</div>"
      ],
      "text/plain": [
       "                                   Features   VIF\n",
       "4                 Lead Origin_Lead Add Form  4.66\n",
       "6                     Lead Source_Reference  4.36\n",
       "3       Lead Origin_Landing Page Submission  3.99\n",
       "8                Last Activity_Email Opened  2.68\n",
       "12             Specialization_Not Specified  2.68\n",
       "11                   Last Activity_SMS Sent  2.48\n",
       "5                    Lead Source_Olark Chat  2.39\n",
       "2                                 Free Copy  2.16\n",
       "9     Last Activity_Olark Chat Conversation  1.82\n",
       "0                               TotalVisits  1.45\n",
       "1                                Time Spent  1.27\n",
       "13  Current Occupation_Working Professional  1.21\n",
       "7               Last Activity_Email Bounced  1.20\n",
       "10                     Last Activity_Others  1.14"
      ]
     },
     "execution_count": 148,
     "metadata": {},
     "output_type": "execute_result"
    }
   ],
   "source": [
    "# Create a dataframe that will contain the names of all the feature variables and their respective VIFs\n",
    "vif = pd.DataFrame()\n",
    "vif['Features'] = X_train[col].columns\n",
    "vif['VIF'] = [variance_inflation_factor(X_train[col].values, i) for i in range(X_train[col].shape[1])]\n",
    "vif['VIF'] = round(vif['VIF'], 2)\n",
    "vif = vif.sort_values(by = \"VIF\", ascending = False)\n",
    "vif"
   ]
  },
  {
   "cell_type": "markdown",
   "metadata": {
    "colab_type": "text",
    "id": "b1lTEv-SQWw9"
   },
   "source": [
    "**After multiple re-runs and improving the model upto 8 times, we can say that, all the selected features have a P-value < 5% and VIF value < 5%**"
   ]
  },
  {
   "cell_type": "markdown",
   "metadata": {
    "colab_type": "text",
    "id": "BYQqt_uqwhVT"
   },
   "source": [
    "## ***Thus, 8th model is our final model***"
   ]
  },
  {
   "cell_type": "markdown",
   "metadata": {
    "colab_type": "text",
    "id": "Ns3kfEbXQlhR"
   },
   "source": [
    "### ***Prediction of Y - values, as per the final model.***"
   ]
  },
  {
   "cell_type": "code",
   "execution_count": 149,
   "metadata": {
    "colab": {
     "base_uri": "https://localhost:8080/",
     "height": 196
    },
    "colab_type": "code",
    "id": "mD1-IhSbQlIQ",
    "outputId": "cb179f1e-4ed2-4e25-ebbf-96a43db7392c"
   },
   "outputs": [
    {
     "data": {
      "text/plain": [
       "1871    0.458895\n",
       "6795    0.064739\n",
       "3516    0.310168\n",
       "8105    0.798414\n",
       "3934    0.213689\n",
       "4844    0.989374\n",
       "3297    0.106106\n",
       "8071    0.994567\n",
       "987     0.155379\n",
       "7423    0.856092\n",
       "dtype: float64"
      ]
     },
     "execution_count": 149,
     "metadata": {},
     "output_type": "execute_result"
    }
   ],
   "source": [
    "# Getting the predicted values on the train set\n",
    "# X_train_sm will provide the predictor variable. \n",
    "# res will contain the Logistic Regression model result\n",
    "# y_train_Pred will provide us the Predicted Y Values for the given feature variables.\n",
    "\n",
    "y_train_pred = res.predict(X_train_sm)\n",
    "y_train_pred[:10]"
   ]
  },
  {
   "cell_type": "code",
   "execution_count": 150,
   "metadata": {
    "colab": {},
    "colab_type": "code",
    "id": "zrLWNrj2QgHs"
   },
   "outputs": [],
   "source": [
    "#Reshaping the predicted probabilities so that it returns an array of Conversion_Probabilities.\n",
    "y_train_pred = y_train_pred.values.reshape(-1)"
   ]
  },
  {
   "cell_type": "markdown",
   "metadata": {
    "colab_type": "text",
    "id": "rtNS6q55Na4M"
   },
   "source": [
    "#### **Creation of DataFrame - with the predicted Y values.**"
   ]
  },
  {
   "cell_type": "code",
   "execution_count": 151,
   "metadata": {
    "colab": {
     "base_uri": "https://localhost:8080/",
     "height": 204
    },
    "colab_type": "code",
    "id": "-xxsyQ0hQ6_3",
    "outputId": "4f40d9b5-2f0d-4fc9-8700-352276aa97cb"
   },
   "outputs": [
    {
     "data": {
      "text/html": [
       "<div>\n",
       "<style scoped>\n",
       "    .dataframe tbody tr th:only-of-type {\n",
       "        vertical-align: middle;\n",
       "    }\n",
       "\n",
       "    .dataframe tbody tr th {\n",
       "        vertical-align: top;\n",
       "    }\n",
       "\n",
       "    .dataframe thead th {\n",
       "        text-align: right;\n",
       "    }\n",
       "</style>\n",
       "<table border=\"1\" class=\"dataframe\">\n",
       "  <thead>\n",
       "    <tr style=\"text-align: right;\">\n",
       "      <th></th>\n",
       "      <th>Converted</th>\n",
       "      <th>Conversion_Prob</th>\n",
       "      <th>Cust_Id</th>\n",
       "    </tr>\n",
       "  </thead>\n",
       "  <tbody>\n",
       "    <tr>\n",
       "      <td>0</td>\n",
       "      <td>0</td>\n",
       "      <td>0.458895</td>\n",
       "      <td>1871</td>\n",
       "    </tr>\n",
       "    <tr>\n",
       "      <td>1</td>\n",
       "      <td>0</td>\n",
       "      <td>0.064739</td>\n",
       "      <td>6795</td>\n",
       "    </tr>\n",
       "    <tr>\n",
       "      <td>2</td>\n",
       "      <td>0</td>\n",
       "      <td>0.310168</td>\n",
       "      <td>3516</td>\n",
       "    </tr>\n",
       "    <tr>\n",
       "      <td>3</td>\n",
       "      <td>0</td>\n",
       "      <td>0.798414</td>\n",
       "      <td>8105</td>\n",
       "    </tr>\n",
       "    <tr>\n",
       "      <td>4</td>\n",
       "      <td>0</td>\n",
       "      <td>0.213689</td>\n",
       "      <td>3934</td>\n",
       "    </tr>\n",
       "  </tbody>\n",
       "</table>\n",
       "</div>"
      ],
      "text/plain": [
       "   Converted  Conversion_Prob  Cust_Id\n",
       "0          0         0.458895     1871\n",
       "1          0         0.064739     6795\n",
       "2          0         0.310168     3516\n",
       "3          0         0.798414     8105\n",
       "4          0         0.213689     3934"
      ]
     },
     "execution_count": 151,
     "metadata": {},
     "output_type": "execute_result"
    }
   ],
   "source": [
    "#Creating a data frame with the actual Converted score and Probability of conversion\n",
    "#The dataframe is stored in the variable y_train_pred_final.\n",
    "\n",
    "y_train_pred_final = pd.DataFrame({'Converted':y_train.values, 'Conversion_Prob':y_train_pred})\n",
    "y_train_pred_final['Cust_Id'] = y_train.index\n",
    "y_train_pred_final.head()"
   ]
  },
  {
   "cell_type": "code",
   "execution_count": 152,
   "metadata": {
    "colab": {
     "base_uri": "https://localhost:8080/",
     "height": 191
    },
    "colab_type": "code",
    "id": "ha_L1jlJRwRe",
    "outputId": "b87e5df9-d2c8-4f1f-83fb-3f89825f551f"
   },
   "outputs": [
    {
     "data": {
      "text/html": [
       "<div>\n",
       "<style scoped>\n",
       "    .dataframe tbody tr th:only-of-type {\n",
       "        vertical-align: middle;\n",
       "    }\n",
       "\n",
       "    .dataframe tbody tr th {\n",
       "        vertical-align: top;\n",
       "    }\n",
       "\n",
       "    .dataframe thead th {\n",
       "        text-align: right;\n",
       "    }\n",
       "</style>\n",
       "<table border=\"1\" class=\"dataframe\">\n",
       "  <thead>\n",
       "    <tr style=\"text-align: right;\">\n",
       "      <th></th>\n",
       "      <th>Converted</th>\n",
       "      <th>Conversion_Prob</th>\n",
       "      <th>Cust_Id</th>\n",
       "      <th>predicted</th>\n",
       "    </tr>\n",
       "  </thead>\n",
       "  <tbody>\n",
       "    <tr>\n",
       "      <td>0</td>\n",
       "      <td>0</td>\n",
       "      <td>0.458895</td>\n",
       "      <td>1871</td>\n",
       "      <td>0</td>\n",
       "    </tr>\n",
       "    <tr>\n",
       "      <td>1</td>\n",
       "      <td>0</td>\n",
       "      <td>0.064739</td>\n",
       "      <td>6795</td>\n",
       "      <td>0</td>\n",
       "    </tr>\n",
       "    <tr>\n",
       "      <td>2</td>\n",
       "      <td>0</td>\n",
       "      <td>0.310168</td>\n",
       "      <td>3516</td>\n",
       "      <td>0</td>\n",
       "    </tr>\n",
       "    <tr>\n",
       "      <td>3</td>\n",
       "      <td>0</td>\n",
       "      <td>0.798414</td>\n",
       "      <td>8105</td>\n",
       "      <td>1</td>\n",
       "    </tr>\n",
       "    <tr>\n",
       "      <td>4</td>\n",
       "      <td>0</td>\n",
       "      <td>0.213689</td>\n",
       "      <td>3934</td>\n",
       "      <td>0</td>\n",
       "    </tr>\n",
       "  </tbody>\n",
       "</table>\n",
       "</div>"
      ],
      "text/plain": [
       "   Converted  Conversion_Prob  Cust_Id  predicted\n",
       "0          0         0.458895     1871          0\n",
       "1          0         0.064739     6795          0\n",
       "2          0         0.310168     3516          0\n",
       "3          0         0.798414     8105          1\n",
       "4          0         0.213689     3934          0"
      ]
     },
     "execution_count": 152,
     "metadata": {},
     "output_type": "execute_result"
    }
   ],
   "source": [
    "#Mapping the prediction conversion Rate according to the probability cut off.\n",
    "y_train_pred_final['predicted'] = y_train_pred_final.Conversion_Prob.map(lambda x: 1 if x > 0.5 else 0)\n",
    "\n",
    "# Let's see the head\n",
    "y_train_pred_final.head()"
   ]
  },
  {
   "cell_type": "markdown",
   "metadata": {
    "colab_type": "text",
    "id": "uWWZgNdHNpQa"
   },
   "source": [
    "#### **Calculation of Metrics for the final model**"
   ]
  },
  {
   "cell_type": "code",
   "execution_count": 153,
   "metadata": {
    "colab": {},
    "colab_type": "code",
    "id": "1dTYkWHHRk2M"
   },
   "outputs": [],
   "source": [
    "#Importing the required libraries for metric calculation\n",
    "from sklearn import metrics"
   ]
  },
  {
   "cell_type": "code",
   "execution_count": 154,
   "metadata": {
    "colab": {
     "base_uri": "https://localhost:8080/",
     "height": 50
    },
    "colab_type": "code",
    "id": "uLXILtJYRn68",
    "outputId": "4f8b668a-e2d3-448e-af6c-d9885dcf3f18"
   },
   "outputs": [
    {
     "name": "stdout",
     "output_type": "stream",
     "text": [
      "[[3578  424]\n",
      " [ 811 1655]]\n"
     ]
    }
   ],
   "source": [
    "# Confusion matrix - Final Model \n",
    "confusion = metrics.confusion_matrix(y_train_pred_final.Converted, y_train_pred_final.predicted )\n",
    "print(confusion)"
   ]
  },
  {
   "cell_type": "code",
   "execution_count": 155,
   "metadata": {
    "colab": {
     "base_uri": "https://localhost:8080/",
     "height": 33
    },
    "colab_type": "code",
    "id": "YQPYngOnR4pW",
    "outputId": "2ac3670b-59f5-486a-fc92-d1c8287eb498"
   },
   "outputs": [
    {
     "name": "stdout",
     "output_type": "stream",
     "text": [
      "0.8090599876314162\n"
     ]
    }
   ],
   "source": [
    "# Let's check the overall accuracy.\n",
    "print(metrics.accuracy_score(y_train_pred_final.Converted, y_train_pred_final.predicted))"
   ]
  },
  {
   "cell_type": "code",
   "execution_count": 156,
   "metadata": {
    "colab": {},
    "colab_type": "code",
    "id": "YsklzXxkSOQt"
   },
   "outputs": [],
   "source": [
    "#Calculation of Final Model characteristics.\n",
    "TP = confusion[1,1] # true positive \n",
    "TN = confusion[0,0] # true negatives\n",
    "FP = confusion[0,1] # false positives\n",
    "FN = confusion[1,0] # false negatives"
   ]
  },
  {
   "cell_type": "code",
   "execution_count": 157,
   "metadata": {
    "colab": {
     "base_uri": "https://localhost:8080/",
     "height": 33
    },
    "colab_type": "code",
    "id": "A7y3_4rJSVFQ",
    "outputId": "c10377f8-e91b-465a-ffbd-01a2904754cc"
   },
   "outputs": [
    {
     "data": {
      "text/plain": [
       "0.6711273317112734"
      ]
     },
     "execution_count": 157,
     "metadata": {},
     "output_type": "execute_result"
    }
   ],
   "source": [
    "# Let's see the sensitivity of our logistic regression model\n",
    "TP / float(TP+FN)"
   ]
  },
  {
   "cell_type": "code",
   "execution_count": 158,
   "metadata": {
    "colab": {
     "base_uri": "https://localhost:8080/",
     "height": 33
    },
    "colab_type": "code",
    "id": "Pmd4npGSSW2C",
    "outputId": "5ed39ce8-51e7-4fc6-9486-05351fa6ccc4"
   },
   "outputs": [
    {
     "data": {
      "text/plain": [
       "0.8940529735132434"
      ]
     },
     "execution_count": 158,
     "metadata": {},
     "output_type": "execute_result"
    }
   ],
   "source": [
    "# Let us calculate specificity\n",
    "TN / float(TN+FP)"
   ]
  },
  {
   "cell_type": "code",
   "execution_count": 159,
   "metadata": {
    "colab": {
     "base_uri": "https://localhost:8080/",
     "height": 33
    },
    "colab_type": "code",
    "id": "k86N7ommSZHG",
    "outputId": "ba659ba5-792a-4f3e-c428-dd43a7cb9939"
   },
   "outputs": [
    {
     "name": "stdout",
     "output_type": "stream",
     "text": [
      "0.10594702648675662\n"
     ]
    }
   ],
   "source": [
    "# Calculate false postive rate - predicting churn when customer does not have churned\n",
    "print(FP/ float(TN+FP))"
   ]
  },
  {
   "cell_type": "code",
   "execution_count": 160,
   "metadata": {
    "colab": {
     "base_uri": "https://localhost:8080/",
     "height": 33
    },
    "colab_type": "code",
    "id": "uJln5kjUSdM9",
    "outputId": "ed70db1b-9810-47f4-903a-dd25a0f29843"
   },
   "outputs": [
    {
     "name": "stdout",
     "output_type": "stream",
     "text": [
      "0.8152198678514468\n"
     ]
    }
   ],
   "source": [
    "# Negative predictive value\n",
    "print (TN / float(TN+ FN))"
   ]
  },
  {
   "cell_type": "markdown",
   "metadata": {
    "colab_type": "text",
    "id": "ro5Pr32OOIap"
   },
   "source": [
    "#### **ROC Curve and its parameters**"
   ]
  },
  {
   "cell_type": "code",
   "execution_count": 161,
   "metadata": {
    "colab": {},
    "colab_type": "code",
    "id": "j0YGnixMSgFX"
   },
   "outputs": [],
   "source": [
    "#Function to plot and draw ROC curve.\n",
    "def draw_roc( actual, probs ):\n",
    "    fpr, tpr, thresholds = metrics.roc_curve( actual, probs,\n",
    "                                              drop_intermediate = False )\n",
    "    auc_score = metrics.roc_auc_score( actual, probs )\n",
    "    plt.figure(figsize=(5, 5))\n",
    "    plt.plot( fpr, tpr, label='ROC curve (area = %0.2f)' % auc_score )\n",
    "    plt.plot([0, 1], [0, 1], 'k--')\n",
    "    plt.xlim([0.0, 1.0])\n",
    "    plt.ylim([0.0, 1.05])\n",
    "    plt.xlabel('False Positive Rate or [1 - True Negative Rate]')\n",
    "    plt.ylabel('True Positive Rate')\n",
    "    plt.title('Receiver operating characteristic example')\n",
    "    plt.legend(loc=\"lower right\")\n",
    "    plt.show()\n",
    "\n",
    "    return None"
   ]
  },
  {
   "cell_type": "code",
   "execution_count": 162,
   "metadata": {
    "colab": {},
    "colab_type": "code",
    "id": "IPszG7xuSiqL"
   },
   "outputs": [],
   "source": [
    "#Calculation and FPR and TPR and thresholds for trade off Sensitivity and Specificity.\n",
    "fpr, tpr, thresholds = metrics.roc_curve( y_train_pred_final.Converted, y_train_pred_final.Conversion_Prob, drop_intermediate = False )"
   ]
  },
  {
   "cell_type": "code",
   "execution_count": 163,
   "metadata": {
    "colab": {
     "base_uri": "https://localhost:8080/",
     "height": 350
    },
    "colab_type": "code",
    "id": "AYA0no7MSpE3",
    "outputId": "59baf8bb-3611-43a9-8b70-4729553d95f1"
   },
   "outputs": [
    {
     "data": {
      "image/png": "[encoded data removed]",
      "text/plain": [
       "<Figure size 360x360 with 1 Axes>"
      ]
     },
     "metadata": {
      "needs_background": "light"
     },
     "output_type": "display_data"
    }
   ],
   "source": [
    "#Invoking the function to plot ROC - Curve. \n",
    "draw_roc(y_train_pred_final.Converted, y_train_pred_final.Conversion_Prob)"
   ]
  },
  {
   "cell_type": "markdown",
   "metadata": {
    "colab_type": "text",
    "id": "XyGQEzdjO2Ip"
   },
   "source": [
    "**The ROC curve is plotted to find the trade off between Sensitivity and Specificity.**"
   ]
  },
  {
   "cell_type": "code",
   "execution_count": 164,
   "metadata": {
    "colab": {
     "base_uri": "https://localhost:8080/",
     "height": 191
    },
    "colab_type": "code",
    "id": "a5hhrvLySypy",
    "outputId": "44cd32e7-2d4d-45de-cac5-6775a88eee6a"
   },
   "outputs": [
    {
     "data": {
      "text/html": [
       "<div>\n",
       "<style scoped>\n",
       "    .dataframe tbody tr th:only-of-type {\n",
       "        vertical-align: middle;\n",
       "    }\n",
       "\n",
       "    .dataframe tbody tr th {\n",
       "        vertical-align: top;\n",
       "    }\n",
       "\n",
       "    .dataframe thead th {\n",
       "        text-align: right;\n",
       "    }\n",
       "</style>\n",
       "<table border=\"1\" class=\"dataframe\">\n",
       "  <thead>\n",
       "    <tr style=\"text-align: right;\">\n",
       "      <th></th>\n",
       "      <th>Converted</th>\n",
       "      <th>Conversion_Prob</th>\n",
       "      <th>Cust_Id</th>\n",
       "      <th>predicted</th>\n",
       "      <th>0.0</th>\n",
       "      <th>0.1</th>\n",
       "      <th>0.2</th>\n",
       "      <th>0.3</th>\n",
       "      <th>0.4</th>\n",
       "      <th>0.5</th>\n",
       "      <th>0.6</th>\n",
       "      <th>0.7</th>\n",
       "      <th>0.8</th>\n",
       "      <th>0.9</th>\n",
       "    </tr>\n",
       "  </thead>\n",
       "  <tbody>\n",
       "    <tr>\n",
       "      <td>0</td>\n",
       "      <td>0</td>\n",
       "      <td>0.458895</td>\n",
       "      <td>1871</td>\n",
       "      <td>0</td>\n",
       "      <td>1</td>\n",
       "      <td>1</td>\n",
       "      <td>1</td>\n",
       "      <td>1</td>\n",
       "      <td>1</td>\n",
       "      <td>0</td>\n",
       "      <td>0</td>\n",
       "      <td>0</td>\n",
       "      <td>0</td>\n",
       "      <td>0</td>\n",
       "    </tr>\n",
       "    <tr>\n",
       "      <td>1</td>\n",
       "      <td>0</td>\n",
       "      <td>0.064739</td>\n",
       "      <td>6795</td>\n",
       "      <td>0</td>\n",
       "      <td>1</td>\n",
       "      <td>0</td>\n",
       "      <td>0</td>\n",
       "      <td>0</td>\n",
       "      <td>0</td>\n",
       "      <td>0</td>\n",
       "      <td>0</td>\n",
       "      <td>0</td>\n",
       "      <td>0</td>\n",
       "      <td>0</td>\n",
       "    </tr>\n",
       "    <tr>\n",
       "      <td>2</td>\n",
       "      <td>0</td>\n",
       "      <td>0.310168</td>\n",
       "      <td>3516</td>\n",
       "      <td>0</td>\n",
       "      <td>1</td>\n",
       "      <td>1</td>\n",
       "      <td>1</td>\n",
       "      <td>1</td>\n",
       "      <td>0</td>\n",
       "      <td>0</td>\n",
       "      <td>0</td>\n",
       "      <td>0</td>\n",
       "      <td>0</td>\n",
       "      <td>0</td>\n",
       "    </tr>\n",
       "    <tr>\n",
       "      <td>3</td>\n",
       "      <td>0</td>\n",
       "      <td>0.798414</td>\n",
       "      <td>8105</td>\n",
       "      <td>1</td>\n",
       "      <td>1</td>\n",
       "      <td>1</td>\n",
       "      <td>1</td>\n",
       "      <td>1</td>\n",
       "      <td>1</td>\n",
       "      <td>1</td>\n",
       "      <td>1</td>\n",
       "      <td>1</td>\n",
       "      <td>0</td>\n",
       "      <td>0</td>\n",
       "    </tr>\n",
       "    <tr>\n",
       "      <td>4</td>\n",
       "      <td>0</td>\n",
       "      <td>0.213689</td>\n",
       "      <td>3934</td>\n",
       "      <td>0</td>\n",
       "      <td>1</td>\n",
       "      <td>1</td>\n",
       "      <td>1</td>\n",
       "      <td>0</td>\n",
       "      <td>0</td>\n",
       "      <td>0</td>\n",
       "      <td>0</td>\n",
       "      <td>0</td>\n",
       "      <td>0</td>\n",
       "      <td>0</td>\n",
       "    </tr>\n",
       "  </tbody>\n",
       "</table>\n",
       "</div>"
      ],
      "text/plain": [
       "   Converted  Conversion_Prob  Cust_Id  predicted  0.0  0.1  0.2  0.3  0.4  \\\n",
       "0          0         0.458895     1871          0    1    1    1    1    1   \n",
       "1          0         0.064739     6795          0    1    0    0    0    0   \n",
       "2          0         0.310168     3516          0    1    1    1    1    0   \n",
       "3          0         0.798414     8105          1    1    1    1    1    1   \n",
       "4          0         0.213689     3934          0    1    1    1    0    0   \n",
       "\n",
       "   0.5  0.6  0.7  0.8  0.9  \n",
       "0    0    0    0    0    0  \n",
       "1    0    0    0    0    0  \n",
       "2    0    0    0    0    0  \n",
       "3    1    1    1    0    0  \n",
       "4    0    0    0    0    0  "
      ]
     },
     "execution_count": 164,
     "metadata": {},
     "output_type": "execute_result"
    }
   ],
   "source": [
    "# Let's create columns with different probability cutoffs \n",
    "numbers = [float(x)/10 for x in range(10)]\n",
    "for i in numbers:\n",
    "    y_train_pred_final[i]= y_train_pred_final.Conversion_Prob.map(lambda x: 1 if x > i else 0)\n",
    "y_train_pred_final.head()"
   ]
  },
  {
   "cell_type": "code",
   "execution_count": 165,
   "metadata": {
    "colab": {
     "base_uri": "https://localhost:8080/",
     "height": 196
    },
    "colab_type": "code",
    "id": "FgKvsER_S6AS",
    "outputId": "4c93ec74-cccf-41fc-cf19-e09fb94fd6e0"
   },
   "outputs": [
    {
     "name": "stdout",
     "output_type": "stream",
     "text": [
      "     prob  accuracy     sensi     speci\n",
      "0.0   0.0  0.381262  1.000000  0.000000\n",
      "0.1   0.1  0.599567  0.972425  0.369815\n",
      "0.2   0.2  0.724799  0.925385  0.601199\n",
      "0.3   0.3  0.798392  0.838200  0.773863\n",
      "0.4   0.4  0.818027  0.777778  0.842829\n",
      "0.5   0.5  0.809060  0.671127  0.894053\n",
      "0.6   0.6  0.797619  0.596918  0.921289\n",
      "0.7   0.7  0.780767  0.513382  0.945527\n",
      "0.8   0.8  0.756957  0.414031  0.968266\n",
      "0.9   0.9  0.708565  0.252636  0.989505\n"
     ]
    }
   ],
   "source": [
    "# Now let's calculate accuracy sensitivity and specificity for various probability cutoffs.\n",
    "cutoff_df = pd.DataFrame( columns = ['prob','accuracy','sensi','speci'])\n",
    "from sklearn.metrics import confusion_matrix\n",
    "\n",
    "# TP = confusion[1,1] # true positive \n",
    "# TN = confusion[0,0] # true negatives\n",
    "# FP = confusion[0,1] # false positives\n",
    "# FN = confusion[1,0] # false negatives\n",
    "\n",
    "num = [0.0,0.1,0.2,0.3,0.4,0.5,0.6,0.7,0.8,0.9]\n",
    "for i in num:\n",
    "    cm1 = metrics.confusion_matrix(y_train_pred_final.Converted, y_train_pred_final[i] )\n",
    "    total1=sum(sum(cm1))\n",
    "    accuracy = (cm1[0,0]+cm1[1,1])/total1\n",
    "    \n",
    "    speci = cm1[0,0]/(cm1[0,0]+cm1[0,1])\n",
    "    sensi = cm1[1,1]/(cm1[1,0]+cm1[1,1])\n",
    "    cutoff_df.loc[i] =[ i ,accuracy,sensi,speci]\n",
    "print(cutoff_df)"
   ]
  },
  {
   "cell_type": "markdown",
   "metadata": {
    "colab_type": "text",
    "id": "2CU1wTmiPKr_"
   },
   "source": [
    "#### **Intersection between Accuracy - Sensitivity and Specificity**"
   ]
  },
  {
   "cell_type": "code",
   "execution_count": 166,
   "metadata": {
    "colab": {
     "base_uri": "https://localhost:8080/",
     "height": 313
    },
    "colab_type": "code",
    "id": "H90bDY3fS_7m",
    "outputId": "a803882e-96d6-4ccc-e6ca-c7db9ac090fd"
   },
   "outputs": [
    {
     "data": {
      "image/png": "[encoded data removed]",
      "text/plain": [
       "<Figure size 432x288 with 1 Axes>"
      ]
     },
     "metadata": {
      "needs_background": "light"
     },
     "output_type": "display_data"
    },
    {
     "data": {
      "text/plain": [
       "<Figure size 720x720 with 0 Axes>"
      ]
     },
     "metadata": {},
     "output_type": "display_data"
    }
   ],
   "source": [
    "# Let's plot accuracy sensitivity and specificity for various probabilities.\n",
    "cutoff_df.plot.line(x='prob', y=['accuracy','sensi','speci'])\n",
    "plt.xticks(np.arange(0, 1, step=0.025), rotation = 90)\n",
    "plt.figure(figsize=(10,10))\n",
    "plt.tight_layout()\n",
    "plt.show()"
   ]
  },
  {
   "cell_type": "markdown",
   "metadata": {
    "colab_type": "text",
    "id": "1jXmnzYjrgf1"
   },
   "source": [
    "**From the curve above, 0.35 is the optimum point to take it as a cutoff probability.**"
   ]
  },
  {
   "cell_type": "markdown",
   "metadata": {
    "colab_type": "text",
    "id": "FFr4WT7wPcC6"
   },
   "source": [
    "#### **Calculation of predicted values on the score - 0.35**"
   ]
  },
  {
   "cell_type": "code",
   "execution_count": 167,
   "metadata": {
    "colab": {
     "base_uri": "https://localhost:8080/",
     "height": 191
    },
    "colab_type": "code",
    "id": "PniO52rore6m",
    "outputId": "30537451-5c98-40ea-fb34-28005b57c415"
   },
   "outputs": [
    {
     "data": {
      "text/html": [
       "<div>\n",
       "<style scoped>\n",
       "    .dataframe tbody tr th:only-of-type {\n",
       "        vertical-align: middle;\n",
       "    }\n",
       "\n",
       "    .dataframe tbody tr th {\n",
       "        vertical-align: top;\n",
       "    }\n",
       "\n",
       "    .dataframe thead th {\n",
       "        text-align: right;\n",
       "    }\n",
       "</style>\n",
       "<table border=\"1\" class=\"dataframe\">\n",
       "  <thead>\n",
       "    <tr style=\"text-align: right;\">\n",
       "      <th></th>\n",
       "      <th>Converted</th>\n",
       "      <th>Conversion_Prob</th>\n",
       "      <th>Cust_Id</th>\n",
       "      <th>predicted</th>\n",
       "      <th>0.0</th>\n",
       "      <th>0.1</th>\n",
       "      <th>0.2</th>\n",
       "      <th>0.3</th>\n",
       "      <th>0.4</th>\n",
       "      <th>0.5</th>\n",
       "      <th>0.6</th>\n",
       "      <th>0.7</th>\n",
       "      <th>0.8</th>\n",
       "      <th>0.9</th>\n",
       "      <th>final_predicted</th>\n",
       "    </tr>\n",
       "  </thead>\n",
       "  <tbody>\n",
       "    <tr>\n",
       "      <td>0</td>\n",
       "      <td>0</td>\n",
       "      <td>0.458895</td>\n",
       "      <td>1871</td>\n",
       "      <td>0</td>\n",
       "      <td>1</td>\n",
       "      <td>1</td>\n",
       "      <td>1</td>\n",
       "      <td>1</td>\n",
       "      <td>1</td>\n",
       "      <td>0</td>\n",
       "      <td>0</td>\n",
       "      <td>0</td>\n",
       "      <td>0</td>\n",
       "      <td>0</td>\n",
       "      <td>1</td>\n",
       "    </tr>\n",
       "    <tr>\n",
       "      <td>1</td>\n",
       "      <td>0</td>\n",
       "      <td>0.064739</td>\n",
       "      <td>6795</td>\n",
       "      <td>0</td>\n",
       "      <td>1</td>\n",
       "      <td>0</td>\n",
       "      <td>0</td>\n",
       "      <td>0</td>\n",
       "      <td>0</td>\n",
       "      <td>0</td>\n",
       "      <td>0</td>\n",
       "      <td>0</td>\n",
       "      <td>0</td>\n",
       "      <td>0</td>\n",
       "      <td>0</td>\n",
       "    </tr>\n",
       "    <tr>\n",
       "      <td>2</td>\n",
       "      <td>0</td>\n",
       "      <td>0.310168</td>\n",
       "      <td>3516</td>\n",
       "      <td>0</td>\n",
       "      <td>1</td>\n",
       "      <td>1</td>\n",
       "      <td>1</td>\n",
       "      <td>1</td>\n",
       "      <td>0</td>\n",
       "      <td>0</td>\n",
       "      <td>0</td>\n",
       "      <td>0</td>\n",
       "      <td>0</td>\n",
       "      <td>0</td>\n",
       "      <td>0</td>\n",
       "    </tr>\n",
       "    <tr>\n",
       "      <td>3</td>\n",
       "      <td>0</td>\n",
       "      <td>0.798414</td>\n",
       "      <td>8105</td>\n",
       "      <td>1</td>\n",
       "      <td>1</td>\n",
       "      <td>1</td>\n",
       "      <td>1</td>\n",
       "      <td>1</td>\n",
       "      <td>1</td>\n",
       "      <td>1</td>\n",
       "      <td>1</td>\n",
       "      <td>1</td>\n",
       "      <td>0</td>\n",
       "      <td>0</td>\n",
       "      <td>1</td>\n",
       "    </tr>\n",
       "    <tr>\n",
       "      <td>4</td>\n",
       "      <td>0</td>\n",
       "      <td>0.213689</td>\n",
       "      <td>3934</td>\n",
       "      <td>0</td>\n",
       "      <td>1</td>\n",
       "      <td>1</td>\n",
       "      <td>1</td>\n",
       "      <td>0</td>\n",
       "      <td>0</td>\n",
       "      <td>0</td>\n",
       "      <td>0</td>\n",
       "      <td>0</td>\n",
       "      <td>0</td>\n",
       "      <td>0</td>\n",
       "      <td>0</td>\n",
       "    </tr>\n",
       "  </tbody>\n",
       "</table>\n",
       "</div>"
      ],
      "text/plain": [
       "   Converted  Conversion_Prob  Cust_Id  predicted  0.0  0.1  0.2  0.3  0.4  \\\n",
       "0          0         0.458895     1871          0    1    1    1    1    1   \n",
       "1          0         0.064739     6795          0    1    0    0    0    0   \n",
       "2          0         0.310168     3516          0    1    1    1    1    0   \n",
       "3          0         0.798414     8105          1    1    1    1    1    1   \n",
       "4          0         0.213689     3934          0    1    1    1    0    0   \n",
       "\n",
       "   0.5  0.6  0.7  0.8  0.9  final_predicted  \n",
       "0    0    0    0    0    0                1  \n",
       "1    0    0    0    0    0                0  \n",
       "2    0    0    0    0    0                0  \n",
       "3    1    1    1    0    0                1  \n",
       "4    0    0    0    0    0                0  "
      ]
     },
     "execution_count": 167,
     "metadata": {},
     "output_type": "execute_result"
    }
   ],
   "source": [
    "y_train_pred_final['final_predicted'] = y_train_pred_final.Conversion_Prob.map( lambda x: 1 if x > 0.35 else 0)\n",
    "y_train_pred_final.head()"
   ]
  },
  {
   "cell_type": "markdown",
   "metadata": {
    "colab_type": "text",
    "id": "4b_hRSYfP_sn"
   },
   "source": [
    "#### **Metrics calculation for after choosing final probability cut off.**"
   ]
  },
  {
   "cell_type": "code",
   "execution_count": 168,
   "metadata": {
    "colab": {
     "base_uri": "https://localhost:8080/",
     "height": 33
    },
    "colab_type": "code",
    "id": "oDKIU_dervgo",
    "outputId": "0649ed81-663f-498a-c7df-f296e4bb2b06"
   },
   "outputs": [
    {
     "data": {
      "text/plain": [
       "0.8119975262832406"
      ]
     },
     "execution_count": 168,
     "metadata": {},
     "output_type": "execute_result"
    }
   ],
   "source": [
    "# Let's check the overall accuracy.\n",
    "metrics.accuracy_score(y_train_pred_final.Converted, y_train_pred_final.final_predicted)"
   ]
  },
  {
   "cell_type": "code",
   "execution_count": 169,
   "metadata": {
    "colab": {
     "base_uri": "https://localhost:8080/",
     "height": 50
    },
    "colab_type": "code",
    "id": "khu60hDCr1Bh",
    "outputId": "47a02992-c3a1-4e8f-d624-aa2ff41ac26f"
   },
   "outputs": [
    {
     "data": {
      "text/plain": [
       "array([[3268,  734],\n",
       "       [ 482, 1984]], dtype=int64)"
      ]
     },
     "execution_count": 169,
     "metadata": {},
     "output_type": "execute_result"
    }
   ],
   "source": [
    "#Confusion matrix after probability cutoff - 0.35 \n",
    "confusion2 = metrics.confusion_matrix(y_train_pred_final.Converted, y_train_pred_final.final_predicted )\n",
    "confusion2"
   ]
  },
  {
   "cell_type": "code",
   "execution_count": 170,
   "metadata": {
    "colab": {},
    "colab_type": "code",
    "id": "-lEutqBNr42g"
   },
   "outputs": [],
   "source": [
    "#Confusion Matrix - Calculating all parameters.\n",
    "TP = confusion2[1,1] # true positive \n",
    "TN = confusion2[0,0] # true negatives\n",
    "FP = confusion2[0,1] # false positives\n",
    "FN = confusion2[1,0] # false negatives"
   ]
  },
  {
   "cell_type": "code",
   "execution_count": 171,
   "metadata": {
    "colab": {
     "base_uri": "https://localhost:8080/",
     "height": 33
    },
    "colab_type": "code",
    "id": "4Sc3TU2Sr-tJ",
    "outputId": "82c91961-bea1-4231-82c2-9b5f09a38331"
   },
   "outputs": [
    {
     "data": {
      "text/plain": [
       "0.8045417680454177"
      ]
     },
     "execution_count": 171,
     "metadata": {},
     "output_type": "execute_result"
    }
   ],
   "source": [
    "# Let's see the sensitivity of our logistic regression model\n",
    "TP / float(TP+FN)"
   ]
  },
  {
   "cell_type": "code",
   "execution_count": 172,
   "metadata": {
    "colab": {
     "base_uri": "https://localhost:8080/",
     "height": 33
    },
    "colab_type": "code",
    "id": "bG0_-WFtsCaf",
    "outputId": "a3ae9897-6ff4-4c65-9e99-e5d811431197"
   },
   "outputs": [
    {
     "data": {
      "text/plain": [
       "0.816591704147926"
      ]
     },
     "execution_count": 172,
     "metadata": {},
     "output_type": "execute_result"
    }
   ],
   "source": [
    "# Let us calculate specificity\n",
    "TN / float(TN+FP)"
   ]
  },
  {
   "cell_type": "code",
   "execution_count": 173,
   "metadata": {
    "colab": {
     "base_uri": "https://localhost:8080/",
     "height": 33
    },
    "colab_type": "code",
    "id": "9cHZs8G0sK7O",
    "outputId": "3798cd40-b670-4fa0-948e-7f36e62d7cab"
   },
   "outputs": [
    {
     "name": "stdout",
     "output_type": "stream",
     "text": [
      "0.18340829585207397\n"
     ]
    }
   ],
   "source": [
    "# Calculate false postive rate - predicting conversion rate when customer will be a hot lead or not\n",
    "print(FP/ float(TN+FP))"
   ]
  },
  {
   "cell_type": "code",
   "execution_count": 174,
   "metadata": {
    "colab": {
     "base_uri": "https://localhost:8080/",
     "height": 33
    },
    "colab_type": "code",
    "id": "dgTts2MYsMis",
    "outputId": "45f9681f-20ce-45c9-aef2-84eccdb98f73"
   },
   "outputs": [
    {
     "name": "stdout",
     "output_type": "stream",
     "text": [
      "0.7299484915378955\n"
     ]
    }
   ],
   "source": [
    "# Positive predictive value \n",
    "print (TP / float(TP+FP))"
   ]
  },
  {
   "cell_type": "code",
   "execution_count": 175,
   "metadata": {
    "colab": {
     "base_uri": "https://localhost:8080/",
     "height": 33
    },
    "colab_type": "code",
    "id": "ITCIQ9irsWQP",
    "outputId": "bccbc478-39fd-4c7e-ad4a-0bdb5b6d26d7"
   },
   "outputs": [
    {
     "name": "stdout",
     "output_type": "stream",
     "text": [
      "0.8714666666666666\n"
     ]
    }
   ],
   "source": [
    "# Negative predictive value\n",
    "print (TN / float(TN+ FN))"
   ]
  },
  {
   "cell_type": "markdown",
   "metadata": {
    "colab_type": "text",
    "id": "01UPNRvGUKZl"
   },
   "source": [
    "#### ***ACCURACY - SPECIFICITY - SENSITIVITY***"
   ]
  },
  {
   "cell_type": "markdown",
   "metadata": {
    "colab_type": "text",
    "id": "1UKdYtrQUYQR"
   },
   "source": [
    "- **ACCURACY - 81.19%**\n",
    "- **SENSITIVITY - 80.45%**\n",
    "- **SPECIFICITY - 81.7%**"
   ]
  },
  {
   "cell_type": "markdown",
   "metadata": {
    "colab_type": "text",
    "id": "Qh9vHXdBtEpV"
   },
   "source": [
    "## ***MODEL EVALUATION : ON TEST SET***"
   ]
  },
  {
   "cell_type": "code",
   "execution_count": 176,
   "metadata": {
    "colab": {},
    "colab_type": "code",
    "id": "Itf-kTRNtJBQ"
   },
   "outputs": [],
   "source": [
    "#Perform all the scaling on the available features.\n",
    "X_test[['TotalVisits','Time Spent','Page Views Per Visit']] = scaler.transform(X_test[['TotalVisits','Time Spent','Page Views Per Visit']])"
   ]
  },
  {
   "cell_type": "code",
   "execution_count": 177,
   "metadata": {
    "colab": {
     "base_uri": "https://localhost:8080/",
     "height": 223
    },
    "colab_type": "code",
    "id": "ZudipvwStmqE",
    "outputId": "80662490-05c8-4778-df5a-23bfd00f2593"
   },
   "outputs": [
    {
     "data": {
      "text/html": [
       "<div>\n",
       "<style scoped>\n",
       "    .dataframe tbody tr th:only-of-type {\n",
       "        vertical-align: middle;\n",
       "    }\n",
       "\n",
       "    .dataframe tbody tr th {\n",
       "        vertical-align: top;\n",
       "    }\n",
       "\n",
       "    .dataframe thead th {\n",
       "        text-align: right;\n",
       "    }\n",
       "</style>\n",
       "<table border=\"1\" class=\"dataframe\">\n",
       "  <thead>\n",
       "    <tr style=\"text-align: right;\">\n",
       "      <th></th>\n",
       "      <th>TotalVisits</th>\n",
       "      <th>Time Spent</th>\n",
       "      <th>Free Copy</th>\n",
       "      <th>Lead Origin_Landing Page Submission</th>\n",
       "      <th>Lead Origin_Lead Add Form</th>\n",
       "      <th>Lead Source_Olark Chat</th>\n",
       "      <th>Lead Source_Reference</th>\n",
       "      <th>Last Activity_Email Bounced</th>\n",
       "      <th>Last Activity_Email Opened</th>\n",
       "      <th>Last Activity_Olark Chat Conversation</th>\n",
       "      <th>Last Activity_Others</th>\n",
       "      <th>Last Activity_SMS Sent</th>\n",
       "      <th>Specialization_Not Specified</th>\n",
       "      <th>Current Occupation_Working Professional</th>\n",
       "    </tr>\n",
       "  </thead>\n",
       "  <tbody>\n",
       "    <tr>\n",
       "      <td>4269</td>\n",
       "      <td>1.433341</td>\n",
       "      <td>0.964504</td>\n",
       "      <td>0</td>\n",
       "      <td>0</td>\n",
       "      <td>0</td>\n",
       "      <td>0</td>\n",
       "      <td>0</td>\n",
       "      <td>0</td>\n",
       "      <td>0</td>\n",
       "      <td>0</td>\n",
       "      <td>0</td>\n",
       "      <td>1</td>\n",
       "      <td>1</td>\n",
       "      <td>0</td>\n",
       "    </tr>\n",
       "    <tr>\n",
       "      <td>2376</td>\n",
       "      <td>-1.022595</td>\n",
       "      <td>-0.885371</td>\n",
       "      <td>0</td>\n",
       "      <td>0</td>\n",
       "      <td>1</td>\n",
       "      <td>0</td>\n",
       "      <td>1</td>\n",
       "      <td>0</td>\n",
       "      <td>0</td>\n",
       "      <td>0</td>\n",
       "      <td>0</td>\n",
       "      <td>1</td>\n",
       "      <td>1</td>\n",
       "      <td>0</td>\n",
       "    </tr>\n",
       "    <tr>\n",
       "      <td>7766</td>\n",
       "      <td>0.512365</td>\n",
       "      <td>-0.777416</td>\n",
       "      <td>0</td>\n",
       "      <td>0</td>\n",
       "      <td>0</td>\n",
       "      <td>0</td>\n",
       "      <td>0</td>\n",
       "      <td>0</td>\n",
       "      <td>0</td>\n",
       "      <td>0</td>\n",
       "      <td>1</td>\n",
       "      <td>0</td>\n",
       "      <td>0</td>\n",
       "      <td>1</td>\n",
       "    </tr>\n",
       "    <tr>\n",
       "      <td>9199</td>\n",
       "      <td>-1.022595</td>\n",
       "      <td>-0.885371</td>\n",
       "      <td>0</td>\n",
       "      <td>0</td>\n",
       "      <td>0</td>\n",
       "      <td>1</td>\n",
       "      <td>0</td>\n",
       "      <td>0</td>\n",
       "      <td>0</td>\n",
       "      <td>1</td>\n",
       "      <td>0</td>\n",
       "      <td>0</td>\n",
       "      <td>1</td>\n",
       "      <td>0</td>\n",
       "    </tr>\n",
       "    <tr>\n",
       "      <td>4359</td>\n",
       "      <td>-1.022595</td>\n",
       "      <td>-0.885371</td>\n",
       "      <td>0</td>\n",
       "      <td>0</td>\n",
       "      <td>1</td>\n",
       "      <td>0</td>\n",
       "      <td>1</td>\n",
       "      <td>0</td>\n",
       "      <td>1</td>\n",
       "      <td>0</td>\n",
       "      <td>0</td>\n",
       "      <td>0</td>\n",
       "      <td>0</td>\n",
       "      <td>0</td>\n",
       "    </tr>\n",
       "  </tbody>\n",
       "</table>\n",
       "</div>"
      ],
      "text/plain": [
       "      TotalVisits  Time Spent  Free Copy  Lead Origin_Landing Page Submission  \\\n",
       "4269     1.433341    0.964504          0                                    0   \n",
       "2376    -1.022595   -0.885371          0                                    0   \n",
       "7766     0.512365   -0.777416          0                                    0   \n",
       "9199    -1.022595   -0.885371          0                                    0   \n",
       "4359    -1.022595   -0.885371          0                                    0   \n",
       "\n",
       "      Lead Origin_Lead Add Form  Lead Source_Olark Chat  \\\n",
       "4269                          0                       0   \n",
       "2376                          1                       0   \n",
       "7766                          0                       0   \n",
       "9199                          0                       1   \n",
       "4359                          1                       0   \n",
       "\n",
       "      Lead Source_Reference  Last Activity_Email Bounced  \\\n",
       "4269                      0                            0   \n",
       "2376                      1                            0   \n",
       "7766                      0                            0   \n",
       "9199                      0                            0   \n",
       "4359                      1                            0   \n",
       "\n",
       "      Last Activity_Email Opened  Last Activity_Olark Chat Conversation  \\\n",
       "4269                           0                                      0   \n",
       "2376                           0                                      0   \n",
       "7766                           0                                      0   \n",
       "9199                           0                                      1   \n",
       "4359                           1                                      0   \n",
       "\n",
       "      Last Activity_Others  Last Activity_SMS Sent  \\\n",
       "4269                     0                       1   \n",
       "2376                     0                       1   \n",
       "7766                     1                       0   \n",
       "9199                     0                       0   \n",
       "4359                     0                       0   \n",
       "\n",
       "      Specialization_Not Specified  Current Occupation_Working Professional  \n",
       "4269                             1                                        0  \n",
       "2376                             1                                        0  \n",
       "7766                             0                                        1  \n",
       "9199                             1                                        0  \n",
       "4359                             0                                        0  "
      ]
     },
     "execution_count": 177,
     "metadata": {},
     "output_type": "execute_result"
    }
   ],
   "source": [
    "#Selecting all the features, which are selected as per final model\n",
    "#col has all the features available in the final model.\n",
    "\n",
    "X_test = X_test[col]\n",
    "X_test.head()"
   ]
  },
  {
   "cell_type": "markdown",
   "metadata": {
    "colab_type": "text",
    "id": "t_03kiAeSO_5"
   },
   "source": [
    "### **Building the model - on test set**"
   ]
  },
  {
   "cell_type": "code",
   "execution_count": 178,
   "metadata": {
    "colab": {},
    "colab_type": "code",
    "id": "TBSNYFM3tvQV"
   },
   "outputs": [],
   "source": [
    "#Adding a constant for X_Test.\n",
    "X_test_sm = sm.add_constant(X_test)"
   ]
  },
  {
   "cell_type": "code",
   "execution_count": 179,
   "metadata": {
    "colab": {},
    "colab_type": "code",
    "id": "VTogSPEFtyET"
   },
   "outputs": [],
   "source": [
    "#y_test_pred - X_test_sm has all the features after model building\n",
    "#res = > Result of model building\n",
    "\n",
    "y_test_pred = res.predict(X_test_sm)"
   ]
  },
  {
   "cell_type": "code",
   "execution_count": 180,
   "metadata": {
    "colab": {
     "base_uri": "https://localhost:8080/",
     "height": 204
    },
    "colab_type": "code",
    "id": "bRg0Rtoot2fa",
    "outputId": "1a95a91c-6d6e-4231-b4ee-457891267949"
   },
   "outputs": [
    {
     "data": {
      "text/plain": [
       "4269    0.733731\n",
       "2376    0.858812\n",
       "7766    0.826093\n",
       "9199    0.057037\n",
       "4359    0.864181\n",
       "9186    0.559817\n",
       "1631    0.465935\n",
       "8963    0.139994\n",
       "8007    0.085739\n",
       "5324    0.307222\n",
       "dtype: float64"
      ]
     },
     "execution_count": 180,
     "metadata": {},
     "output_type": "execute_result"
    }
   ],
   "source": [
    "#Displaying all the predicted values\n",
    "y_test_pred[:10]"
   ]
  },
  {
   "cell_type": "markdown",
   "metadata": {
    "colab_type": "text",
    "id": "f5FbqcWmSV9Z"
   },
   "source": [
    "### **Creating a dataframe with the predicted values**"
   ]
  },
  {
   "cell_type": "code",
   "execution_count": 181,
   "metadata": {
    "colab": {
     "base_uri": "https://localhost:8080/",
     "height": 204
    },
    "colab_type": "code",
    "id": "vJPDC3qqt7vD",
    "outputId": "a48644ab-64a4-446c-e7c9-b0be75b013be"
   },
   "outputs": [
    {
     "data": {
      "text/html": [
       "<div>\n",
       "<style scoped>\n",
       "    .dataframe tbody tr th:only-of-type {\n",
       "        vertical-align: middle;\n",
       "    }\n",
       "\n",
       "    .dataframe tbody tr th {\n",
       "        vertical-align: top;\n",
       "    }\n",
       "\n",
       "    .dataframe thead th {\n",
       "        text-align: right;\n",
       "    }\n",
       "</style>\n",
       "<table border=\"1\" class=\"dataframe\">\n",
       "  <thead>\n",
       "    <tr style=\"text-align: right;\">\n",
       "      <th></th>\n",
       "      <th>0</th>\n",
       "    </tr>\n",
       "  </thead>\n",
       "  <tbody>\n",
       "    <tr>\n",
       "      <td>4269</td>\n",
       "      <td>0.733731</td>\n",
       "    </tr>\n",
       "    <tr>\n",
       "      <td>2376</td>\n",
       "      <td>0.858812</td>\n",
       "    </tr>\n",
       "    <tr>\n",
       "      <td>7766</td>\n",
       "      <td>0.826093</td>\n",
       "    </tr>\n",
       "    <tr>\n",
       "      <td>9199</td>\n",
       "      <td>0.057037</td>\n",
       "    </tr>\n",
       "    <tr>\n",
       "      <td>4359</td>\n",
       "      <td>0.864181</td>\n",
       "    </tr>\n",
       "  </tbody>\n",
       "</table>\n",
       "</div>"
      ],
      "text/plain": [
       "             0\n",
       "4269  0.733731\n",
       "2376  0.858812\n",
       "7766  0.826093\n",
       "9199  0.057037\n",
       "4359  0.864181"
      ]
     },
     "execution_count": 181,
     "metadata": {},
     "output_type": "execute_result"
    }
   ],
   "source": [
    "# Converting y_pred to a dataframe which is an array\n",
    "y_test_pred_1 = pd.DataFrame(y_test_pred)\n",
    "y_test_pred_1.head()"
   ]
  },
  {
   "cell_type": "code",
   "execution_count": 182,
   "metadata": {
    "colab": {
     "base_uri": "https://localhost:8080/",
     "height": 204
    },
    "colab_type": "code",
    "id": "29jfwEhvuAbG",
    "outputId": "0c6a28a4-1d9c-4344-cf71-9de98ca3f24f"
   },
   "outputs": [
    {
     "data": {
      "text/html": [
       "<div>\n",
       "<style scoped>\n",
       "    .dataframe tbody tr th:only-of-type {\n",
       "        vertical-align: middle;\n",
       "    }\n",
       "\n",
       "    .dataframe tbody tr th {\n",
       "        vertical-align: top;\n",
       "    }\n",
       "\n",
       "    .dataframe thead th {\n",
       "        text-align: right;\n",
       "    }\n",
       "</style>\n",
       "<table border=\"1\" class=\"dataframe\">\n",
       "  <thead>\n",
       "    <tr style=\"text-align: right;\">\n",
       "      <th></th>\n",
       "      <th>0</th>\n",
       "    </tr>\n",
       "  </thead>\n",
       "  <tbody>\n",
       "    <tr>\n",
       "      <td>4269</td>\n",
       "      <td>0.733731</td>\n",
       "    </tr>\n",
       "    <tr>\n",
       "      <td>2376</td>\n",
       "      <td>0.858812</td>\n",
       "    </tr>\n",
       "    <tr>\n",
       "      <td>7766</td>\n",
       "      <td>0.826093</td>\n",
       "    </tr>\n",
       "    <tr>\n",
       "      <td>9199</td>\n",
       "      <td>0.057037</td>\n",
       "    </tr>\n",
       "    <tr>\n",
       "      <td>4359</td>\n",
       "      <td>0.864181</td>\n",
       "    </tr>\n",
       "  </tbody>\n",
       "</table>\n",
       "</div>"
      ],
      "text/plain": [
       "             0\n",
       "4269  0.733731\n",
       "2376  0.858812\n",
       "7766  0.826093\n",
       "9199  0.057037\n",
       "4359  0.864181"
      ]
     },
     "execution_count": 182,
     "metadata": {},
     "output_type": "execute_result"
    }
   ],
   "source": [
    "y_test_pred_1.head()"
   ]
  },
  {
   "cell_type": "code",
   "execution_count": 183,
   "metadata": {
    "colab": {},
    "colab_type": "code",
    "id": "lX1U7Q7FuGyS"
   },
   "outputs": [],
   "source": [
    "# Converting y_test to dataframe\n",
    "y_test_df = pd.DataFrame(y_test)"
   ]
  },
  {
   "cell_type": "code",
   "execution_count": 184,
   "metadata": {
    "colab": {},
    "colab_type": "code",
    "id": "IjxtotoGuOxr"
   },
   "outputs": [],
   "source": [
    "# Putting CustID to index\n",
    "y_test_df['CustID'] = y_test_df.index"
   ]
  },
  {
   "cell_type": "code",
   "execution_count": 185,
   "metadata": {
    "colab": {},
    "colab_type": "code",
    "id": "rqP90IT5uS4a"
   },
   "outputs": [],
   "source": [
    "# Removing index for both dataframes to append them side by side \n",
    "y_test_pred_1.reset_index(drop=True, inplace=True)\n",
    "y_test_df.reset_index(drop=True, inplace=True)"
   ]
  },
  {
   "cell_type": "code",
   "execution_count": 186,
   "metadata": {
    "colab": {},
    "colab_type": "code",
    "id": "W120H0KZub_k"
   },
   "outputs": [],
   "source": [
    "# Appending y_test_df and y_pred_1\n",
    "y_pred_final = pd.concat([y_test_df, y_test_pred_1],axis=1)"
   ]
  },
  {
   "cell_type": "code",
   "execution_count": 187,
   "metadata": {
    "colab": {
     "base_uri": "https://localhost:8080/",
     "height": 204
    },
    "colab_type": "code",
    "id": "MX8XA8HVulwF",
    "outputId": "7f5e6179-55b7-4d75-ac43-7dc07d72baba"
   },
   "outputs": [
    {
     "data": {
      "text/html": [
       "<div>\n",
       "<style scoped>\n",
       "    .dataframe tbody tr th:only-of-type {\n",
       "        vertical-align: middle;\n",
       "    }\n",
       "\n",
       "    .dataframe tbody tr th {\n",
       "        vertical-align: top;\n",
       "    }\n",
       "\n",
       "    .dataframe thead th {\n",
       "        text-align: right;\n",
       "    }\n",
       "</style>\n",
       "<table border=\"1\" class=\"dataframe\">\n",
       "  <thead>\n",
       "    <tr style=\"text-align: right;\">\n",
       "      <th></th>\n",
       "      <th>Converted</th>\n",
       "      <th>CustID</th>\n",
       "      <th>0</th>\n",
       "    </tr>\n",
       "  </thead>\n",
       "  <tbody>\n",
       "    <tr>\n",
       "      <td>0</td>\n",
       "      <td>1</td>\n",
       "      <td>4269</td>\n",
       "      <td>0.733731</td>\n",
       "    </tr>\n",
       "    <tr>\n",
       "      <td>1</td>\n",
       "      <td>1</td>\n",
       "      <td>2376</td>\n",
       "      <td>0.858812</td>\n",
       "    </tr>\n",
       "    <tr>\n",
       "      <td>2</td>\n",
       "      <td>1</td>\n",
       "      <td>7766</td>\n",
       "      <td>0.826093</td>\n",
       "    </tr>\n",
       "    <tr>\n",
       "      <td>3</td>\n",
       "      <td>0</td>\n",
       "      <td>9199</td>\n",
       "      <td>0.057037</td>\n",
       "    </tr>\n",
       "    <tr>\n",
       "      <td>4</td>\n",
       "      <td>1</td>\n",
       "      <td>4359</td>\n",
       "      <td>0.864181</td>\n",
       "    </tr>\n",
       "  </tbody>\n",
       "</table>\n",
       "</div>"
      ],
      "text/plain": [
       "   Converted  CustID         0\n",
       "0          1    4269  0.733731\n",
       "1          1    2376  0.858812\n",
       "2          1    7766  0.826093\n",
       "3          0    9199  0.057037\n",
       "4          1    4359  0.864181"
      ]
     },
     "execution_count": 187,
     "metadata": {},
     "output_type": "execute_result"
    }
   ],
   "source": [
    "y_pred_final.head()"
   ]
  },
  {
   "cell_type": "code",
   "execution_count": 188,
   "metadata": {
    "colab": {},
    "colab_type": "code",
    "id": "H3YGfs_PuuNf"
   },
   "outputs": [],
   "source": [
    "# Renaming the column \n",
    "y_pred_final= y_pred_final.rename(columns={ 0 : 'Conversion_Prob'})"
   ]
  },
  {
   "cell_type": "code",
   "execution_count": 189,
   "metadata": {
    "colab": {},
    "colab_type": "code",
    "id": "ZQctmfx5u7am"
   },
   "outputs": [],
   "source": [
    "#Predicting the test model on cut off probabilty\n",
    "y_pred_final['final_predicted'] = y_pred_final.Conversion_Prob.map(lambda x: 1 if x > 0.35 else 0)"
   ]
  },
  {
   "cell_type": "code",
   "execution_count": 190,
   "metadata": {
    "colab": {
     "base_uri": "https://localhost:8080/",
     "height": 204
    },
    "colab_type": "code",
    "id": "6U7y4xocvC4E",
    "outputId": "9c25bbdf-bd41-4ecd-daa2-7664fd3808a7"
   },
   "outputs": [
    {
     "data": {
      "text/html": [
       "<div>\n",
       "<style scoped>\n",
       "    .dataframe tbody tr th:only-of-type {\n",
       "        vertical-align: middle;\n",
       "    }\n",
       "\n",
       "    .dataframe tbody tr th {\n",
       "        vertical-align: top;\n",
       "    }\n",
       "\n",
       "    .dataframe thead th {\n",
       "        text-align: right;\n",
       "    }\n",
       "</style>\n",
       "<table border=\"1\" class=\"dataframe\">\n",
       "  <thead>\n",
       "    <tr style=\"text-align: right;\">\n",
       "      <th></th>\n",
       "      <th>Converted</th>\n",
       "      <th>CustID</th>\n",
       "      <th>Conversion_Prob</th>\n",
       "      <th>final_predicted</th>\n",
       "    </tr>\n",
       "  </thead>\n",
       "  <tbody>\n",
       "    <tr>\n",
       "      <td>0</td>\n",
       "      <td>1</td>\n",
       "      <td>4269</td>\n",
       "      <td>0.733731</td>\n",
       "      <td>1</td>\n",
       "    </tr>\n",
       "    <tr>\n",
       "      <td>1</td>\n",
       "      <td>1</td>\n",
       "      <td>2376</td>\n",
       "      <td>0.858812</td>\n",
       "      <td>1</td>\n",
       "    </tr>\n",
       "    <tr>\n",
       "      <td>2</td>\n",
       "      <td>1</td>\n",
       "      <td>7766</td>\n",
       "      <td>0.826093</td>\n",
       "      <td>1</td>\n",
       "    </tr>\n",
       "    <tr>\n",
       "      <td>3</td>\n",
       "      <td>0</td>\n",
       "      <td>9199</td>\n",
       "      <td>0.057037</td>\n",
       "      <td>0</td>\n",
       "    </tr>\n",
       "    <tr>\n",
       "      <td>4</td>\n",
       "      <td>1</td>\n",
       "      <td>4359</td>\n",
       "      <td>0.864181</td>\n",
       "      <td>1</td>\n",
       "    </tr>\n",
       "  </tbody>\n",
       "</table>\n",
       "</div>"
      ],
      "text/plain": [
       "   Converted  CustID  Conversion_Prob  final_predicted\n",
       "0          1    4269         0.733731                1\n",
       "1          1    2376         0.858812                1\n",
       "2          1    7766         0.826093                1\n",
       "3          0    9199         0.057037                0\n",
       "4          1    4359         0.864181                1"
      ]
     },
     "execution_count": 190,
     "metadata": {},
     "output_type": "execute_result"
    }
   ],
   "source": [
    "#Displaying the predicted value dataframe.\n",
    "y_pred_final.head()"
   ]
  },
  {
   "cell_type": "markdown",
   "metadata": {
    "colab_type": "text",
    "id": "tzBWQ4HhTPgm"
   },
   "source": [
    "### **Calculation of Model Evaluation parameters**"
   ]
  },
  {
   "cell_type": "code",
   "execution_count": 191,
   "metadata": {
    "colab": {
     "base_uri": "https://localhost:8080/",
     "height": 0
    },
    "colab_type": "code",
    "id": "eTLeZsTrvIl0",
    "outputId": "aa9eb49e-bf82-4c0b-feb6-41f8b4307e30"
   },
   "outputs": [
    {
     "data": {
      "text/plain": [
       "0.8008658008658008"
      ]
     },
     "execution_count": 191,
     "metadata": {},
     "output_type": "execute_result"
    }
   ],
   "source": [
    "# Let's check the overall accuracy.\n",
    "metrics.accuracy_score(y_pred_final.Converted, y_pred_final.final_predicted)"
   ]
  },
  {
   "cell_type": "code",
   "execution_count": 192,
   "metadata": {
    "colab": {
     "base_uri": "https://localhost:8080/",
     "height": 0
    },
    "colab_type": "code",
    "id": "nAVMVPlevQn6",
    "outputId": "d72d60e3-c7db-48d0-8714-80d136021de6"
   },
   "outputs": [
    {
     "data": {
      "text/plain": [
       "array([[1348,  329],\n",
       "       [ 223,  872]], dtype=int64)"
      ]
     },
     "execution_count": 192,
     "metadata": {},
     "output_type": "execute_result"
    }
   ],
   "source": [
    "confusionTest= metrics.confusion_matrix(y_pred_final.Converted, y_pred_final.final_predicted)\n",
    "confusionTest"
   ]
  },
  {
   "cell_type": "code",
   "execution_count": 193,
   "metadata": {
    "colab": {},
    "colab_type": "code",
    "id": "1Vc6GwedvazG"
   },
   "outputs": [],
   "source": [
    "TP = confusionTest[1,1] # true positive \n",
    "TN = confusionTest[0,0] # true negatives\n",
    "FP = confusionTest[0,1] # false positives\n",
    "FN = confusionTest[1,0] # false negatives"
   ]
  },
  {
   "cell_type": "code",
   "execution_count": 194,
   "metadata": {
    "colab": {
     "base_uri": "https://localhost:8080/",
     "height": 0
    },
    "colab_type": "code",
    "id": "zGJLI7BGvmxU",
    "outputId": "fd7147c7-2f73-43b1-997c-18ca2f653b41"
   },
   "outputs": [
    {
     "name": "stdout",
     "output_type": "stream",
     "text": [
      "80.0\n"
     ]
    }
   ],
   "source": [
    "# Let's see the sensitivity of our logistic regression model\n",
    "sensitivity = round(TP / float(TP+FN),2) *100 \n",
    "print(sensitivity)"
   ]
  },
  {
   "cell_type": "code",
   "execution_count": 195,
   "metadata": {
    "colab": {
     "base_uri": "https://localhost:8080/",
     "height": 0
    },
    "colab_type": "code",
    "id": "pCBHdXYivob5",
    "outputId": "d08d7f79-3859-45bb-e739-65535f451abb"
   },
   "outputs": [
    {
     "data": {
      "text/plain": [
       "0.8038163387000596"
      ]
     },
     "execution_count": 195,
     "metadata": {},
     "output_type": "execute_result"
    }
   ],
   "source": [
    "# Let us calculate specificity\n",
    "TN / float(TN+FP)"
   ]
  },
  {
   "cell_type": "markdown",
   "metadata": {
    "colab_type": "text",
    "id": "9XDA0UQAU-F7"
   },
   "source": [
    "#### ***ACCURACY - SPECIFICITY - SENSITIVITY***"
   ]
  },
  {
   "cell_type": "markdown",
   "metadata": {
    "colab_type": "text",
    "id": "cmoIbJPsU--_"
   },
   "source": [
    "- **ACCURACY - 80.08%**\n",
    "- **SENSITIVITY - 80.0%**\n",
    "- **SPECIFICITY - 80.3%**"
   ]
  },
  {
   "cell_type": "markdown",
   "metadata": {
    "colab_type": "text",
    "id": "intRrFZ_whWN"
   },
   "source": [
    "**We got 0.5% to 1% difference on train and test data's performance metrics.This implies that our final model didn't overfit training data and is performing well.** "
   ]
  },
  {
   "cell_type": "markdown",
   "metadata": {
    "colab_type": "text",
    "id": "Lf70PSMIwhWN"
   },
   "source": [
    "From our model, we can conclude following points :\n",
    "    \n",
    "1. The customer/leads who fills the form are the potential leads. \n",
    "2. We mmust majorly focus on working professionals\n",
    "3. We must majorly focus on leads whose last activity is SMS sent or Email opened. \n",
    "4. It’s always good to focus on customers, who have spent significant time on our website.\n",
    "5. It’s better to focus least on customers to whom the sent mail is bounced back.\n",
    "6. If the lead source is referral, he/she may not be the potential lead.\n",
    "7. If the lead didn’t fill specialization, he/she may not know what to study and are not right people to target. So, it’s better to focus less on such cases. \n"
   ]
  },
  {
   "cell_type": "markdown",
   "metadata": {
    "colab_type": "text",
    "id": "TrVvOMf3zJ1i"
   },
   "source": [
    "## ***LEAD SCORE - ASSIGNMENT TO ALL CUSTOMERS***\n",
    "\n"
   ]
  },
  {
   "cell_type": "code",
   "execution_count": 196,
   "metadata": {
    "colab": {},
    "colab_type": "code",
    "id": "NtmwqyyezJgx"
   },
   "outputs": [],
   "source": [
    "#Preparing the dataframe - to scale the variables and prepare the complete data.\n",
    "X[['TotalVisits','Time Spent','Page Views Per Visit']] = scaler.transform(X[['TotalVisits','Time Spent','Page Views Per Visit']])"
   ]
  },
  {
   "cell_type": "code",
   "execution_count": 197,
   "metadata": {
    "colab": {
     "base_uri": "https://localhost:8080/",
     "height": 275
    },
    "colab_type": "code",
    "id": "m70GmQe1zrl_",
    "outputId": "ce59f4d8-5351-4afa-9137-754cbfd08032"
   },
   "outputs": [
    {
     "data": {
      "text/html": [
       "<div>\n",
       "<style scoped>\n",
       "    .dataframe tbody tr th:only-of-type {\n",
       "        vertical-align: middle;\n",
       "    }\n",
       "\n",
       "    .dataframe tbody tr th {\n",
       "        vertical-align: top;\n",
       "    }\n",
       "\n",
       "    .dataframe thead th {\n",
       "        text-align: right;\n",
       "    }\n",
       "</style>\n",
       "<table border=\"1\" class=\"dataframe\">\n",
       "  <thead>\n",
       "    <tr style=\"text-align: right;\">\n",
       "      <th></th>\n",
       "      <th>TotalVisits</th>\n",
       "      <th>Time Spent</th>\n",
       "      <th>Free Copy</th>\n",
       "      <th>Lead Origin_Landing Page Submission</th>\n",
       "      <th>Lead Origin_Lead Add Form</th>\n",
       "      <th>Lead Source_Olark Chat</th>\n",
       "      <th>Lead Source_Reference</th>\n",
       "      <th>Last Activity_Email Bounced</th>\n",
       "      <th>Last Activity_Email Opened</th>\n",
       "      <th>Last Activity_Olark Chat Conversation</th>\n",
       "      <th>Last Activity_Others</th>\n",
       "      <th>Last Activity_SMS Sent</th>\n",
       "      <th>Specialization_Not Specified</th>\n",
       "      <th>Current Occupation_Working Professional</th>\n",
       "    </tr>\n",
       "  </thead>\n",
       "  <tbody>\n",
       "    <tr>\n",
       "      <td>0</td>\n",
       "      <td>-1.022595</td>\n",
       "      <td>-0.885371</td>\n",
       "      <td>0</td>\n",
       "      <td>0</td>\n",
       "      <td>0</td>\n",
       "      <td>1</td>\n",
       "      <td>0</td>\n",
       "      <td>0</td>\n",
       "      <td>0</td>\n",
       "      <td>0</td>\n",
       "      <td>0</td>\n",
       "      <td>0</td>\n",
       "      <td>1</td>\n",
       "      <td>0</td>\n",
       "    </tr>\n",
       "    <tr>\n",
       "      <td>1</td>\n",
       "      <td>0.512365</td>\n",
       "      <td>0.347879</td>\n",
       "      <td>0</td>\n",
       "      <td>0</td>\n",
       "      <td>0</td>\n",
       "      <td>0</td>\n",
       "      <td>0</td>\n",
       "      <td>0</td>\n",
       "      <td>1</td>\n",
       "      <td>0</td>\n",
       "      <td>0</td>\n",
       "      <td>0</td>\n",
       "      <td>1</td>\n",
       "      <td>0</td>\n",
       "    </tr>\n",
       "    <tr>\n",
       "      <td>2</td>\n",
       "      <td>-0.408611</td>\n",
       "      <td>1.917803</td>\n",
       "      <td>1</td>\n",
       "      <td>1</td>\n",
       "      <td>0</td>\n",
       "      <td>0</td>\n",
       "      <td>0</td>\n",
       "      <td>0</td>\n",
       "      <td>1</td>\n",
       "      <td>0</td>\n",
       "      <td>0</td>\n",
       "      <td>0</td>\n",
       "      <td>0</td>\n",
       "      <td>0</td>\n",
       "    </tr>\n",
       "    <tr>\n",
       "      <td>3</td>\n",
       "      <td>-0.715603</td>\n",
       "      <td>-0.327298</td>\n",
       "      <td>0</td>\n",
       "      <td>1</td>\n",
       "      <td>0</td>\n",
       "      <td>0</td>\n",
       "      <td>0</td>\n",
       "      <td>0</td>\n",
       "      <td>0</td>\n",
       "      <td>0</td>\n",
       "      <td>1</td>\n",
       "      <td>0</td>\n",
       "      <td>0</td>\n",
       "      <td>0</td>\n",
       "    </tr>\n",
       "    <tr>\n",
       "      <td>4</td>\n",
       "      <td>-0.408611</td>\n",
       "      <td>1.727509</td>\n",
       "      <td>0</td>\n",
       "      <td>1</td>\n",
       "      <td>0</td>\n",
       "      <td>0</td>\n",
       "      <td>0</td>\n",
       "      <td>0</td>\n",
       "      <td>0</td>\n",
       "      <td>0</td>\n",
       "      <td>0</td>\n",
       "      <td>0</td>\n",
       "      <td>1</td>\n",
       "      <td>0</td>\n",
       "    </tr>\n",
       "  </tbody>\n",
       "</table>\n",
       "</div>"
      ],
      "text/plain": [
       "   TotalVisits  Time Spent  Free Copy  Lead Origin_Landing Page Submission  \\\n",
       "0    -1.022595   -0.885371          0                                    0   \n",
       "1     0.512365    0.347879          0                                    0   \n",
       "2    -0.408611    1.917803          1                                    1   \n",
       "3    -0.715603   -0.327298          0                                    1   \n",
       "4    -0.408611    1.727509          0                                    1   \n",
       "\n",
       "   Lead Origin_Lead Add Form  Lead Source_Olark Chat  Lead Source_Reference  \\\n",
       "0                          0                       1                      0   \n",
       "1                          0                       0                      0   \n",
       "2                          0                       0                      0   \n",
       "3                          0                       0                      0   \n",
       "4                          0                       0                      0   \n",
       "\n",
       "   Last Activity_Email Bounced  Last Activity_Email Opened  \\\n",
       "0                            0                           0   \n",
       "1                            0                           1   \n",
       "2                            0                           1   \n",
       "3                            0                           0   \n",
       "4                            0                           0   \n",
       "\n",
       "   Last Activity_Olark Chat Conversation  Last Activity_Others  \\\n",
       "0                                      0                     0   \n",
       "1                                      0                     0   \n",
       "2                                      0                     0   \n",
       "3                                      0                     1   \n",
       "4                                      0                     0   \n",
       "\n",
       "   Last Activity_SMS Sent  Specialization_Not Specified  \\\n",
       "0                       0                             1   \n",
       "1                       0                             1   \n",
       "2                       0                             0   \n",
       "3                       0                             0   \n",
       "4                       0                             1   \n",
       "\n",
       "   Current Occupation_Working Professional  \n",
       "0                                        0  \n",
       "1                                        0  \n",
       "2                                        0  \n",
       "3                                        0  \n",
       "4                                        0  "
      ]
     },
     "execution_count": 197,
     "metadata": {},
     "output_type": "execute_result"
    }
   ],
   "source": [
    "#Selecting the features in our final model on the scaled dataframe.\n",
    "X = X[col]\n",
    "X.head()"
   ]
  },
  {
   "cell_type": "code",
   "execution_count": 198,
   "metadata": {
    "colab": {},
    "colab_type": "code",
    "id": "U9ramxAI0AKi"
   },
   "outputs": [],
   "source": [
    "#Adding a constant to the dataframe\n",
    "X_sm = sm.add_constant(X)"
   ]
  },
  {
   "cell_type": "code",
   "execution_count": 199,
   "metadata": {
    "colab": {},
    "colab_type": "code",
    "id": "Gi9iNOar0Gwx"
   },
   "outputs": [],
   "source": [
    "#Predicting the y-values on X dataframe (Leads.csv)\n",
    "y_ans_pred = res.predict(X_sm)"
   ]
  },
  {
   "cell_type": "code",
   "execution_count": 200,
   "metadata": {
    "colab": {
     "base_uri": "https://localhost:8080/",
     "height": 204
    },
    "colab_type": "code",
    "id": "JYG52idD0QsZ",
    "outputId": "715e9ac6-a527-4054-e4f4-c500b7f4704e"
   },
   "outputs": [
    {
     "data": {
      "text/plain": [
       "0    0.107220\n",
       "1    0.286904\n",
       "2    0.591466\n",
       "3    0.128387\n",
       "4    0.187359\n",
       "5    0.057037\n",
       "6    0.710450\n",
       "7    0.057037\n",
       "8    0.078954\n",
       "9    0.264265\n",
       "dtype: float64"
      ]
     },
     "execution_count": 200,
     "metadata": {},
     "output_type": "execute_result"
    }
   ],
   "source": [
    "#Printing the probabilities\n",
    "y_ans_pred[:10]"
   ]
  },
  {
   "cell_type": "code",
   "execution_count": 201,
   "metadata": {
    "colab": {},
    "colab_type": "code",
    "id": "RCsICJ0D0YBI"
   },
   "outputs": [],
   "source": [
    "# Converting y_pred to a dataframe which is an array\n",
    "y_ans_pred_df = pd.DataFrame(y_ans_pred)"
   ]
  },
  {
   "cell_type": "code",
   "execution_count": 202,
   "metadata": {
    "colab": {},
    "colab_type": "code",
    "id": "r0M4SlRV0wMj"
   },
   "outputs": [],
   "source": [
    "# Converting y to dataframe\n",
    "y_df = pd.DataFrame(y)"
   ]
  },
  {
   "cell_type": "code",
   "execution_count": 203,
   "metadata": {
    "colab": {},
    "colab_type": "code",
    "id": "zUWhK6vy0wMo"
   },
   "outputs": [],
   "source": [
    "# Putting Lead_Number to index\n",
    "y_df['Lead_Number'] = lead['Lead Number']"
   ]
  },
  {
   "cell_type": "code",
   "execution_count": 204,
   "metadata": {
    "colab": {},
    "colab_type": "code",
    "id": "A6p9aj_A0wMt"
   },
   "outputs": [],
   "source": [
    "# Removing index for both dataframes to append them side by side \n",
    "y_ans_pred_df.reset_index(drop=True, inplace=True)\n",
    "y_df.reset_index(drop=True, inplace=True)"
   ]
  },
  {
   "cell_type": "code",
   "execution_count": 205,
   "metadata": {
    "colab": {},
    "colab_type": "code",
    "id": "A10H972l0wMx"
   },
   "outputs": [],
   "source": [
    "# Appending y_test_df and y_df\n",
    "y_ans_final = pd.concat([y_df, y_ans_pred_df],axis=1)"
   ]
  },
  {
   "cell_type": "code",
   "execution_count": 206,
   "metadata": {
    "colab": {},
    "colab_type": "code",
    "id": "0Hz2Wtbg0wM8"
   },
   "outputs": [],
   "source": [
    "# Renaming the column \n",
    "y_ans_final= y_ans_final.rename(columns={ 0 : 'Conversion_Prob'})"
   ]
  },
  {
   "cell_type": "code",
   "execution_count": 207,
   "metadata": {
    "colab": {
     "base_uri": "https://localhost:8080/",
     "height": 204
    },
    "colab_type": "code",
    "id": "w3F42YyO0wNB",
    "outputId": "f3597786-333e-4fb7-dacb-d883e826e17a"
   },
   "outputs": [
    {
     "data": {
      "text/html": [
       "<div>\n",
       "<style scoped>\n",
       "    .dataframe tbody tr th:only-of-type {\n",
       "        vertical-align: middle;\n",
       "    }\n",
       "\n",
       "    .dataframe tbody tr th {\n",
       "        vertical-align: top;\n",
       "    }\n",
       "\n",
       "    .dataframe thead th {\n",
       "        text-align: right;\n",
       "    }\n",
       "</style>\n",
       "<table border=\"1\" class=\"dataframe\">\n",
       "  <thead>\n",
       "    <tr style=\"text-align: right;\">\n",
       "      <th></th>\n",
       "      <th>Converted</th>\n",
       "      <th>Lead_Number</th>\n",
       "      <th>Conversion_Prob</th>\n",
       "    </tr>\n",
       "  </thead>\n",
       "  <tbody>\n",
       "    <tr>\n",
       "      <td>0</td>\n",
       "      <td>0</td>\n",
       "      <td>660737</td>\n",
       "      <td>0.107220</td>\n",
       "    </tr>\n",
       "    <tr>\n",
       "      <td>1</td>\n",
       "      <td>0</td>\n",
       "      <td>660728</td>\n",
       "      <td>0.286904</td>\n",
       "    </tr>\n",
       "    <tr>\n",
       "      <td>2</td>\n",
       "      <td>1</td>\n",
       "      <td>660727</td>\n",
       "      <td>0.591466</td>\n",
       "    </tr>\n",
       "    <tr>\n",
       "      <td>3</td>\n",
       "      <td>0</td>\n",
       "      <td>660719</td>\n",
       "      <td>0.128387</td>\n",
       "    </tr>\n",
       "    <tr>\n",
       "      <td>4</td>\n",
       "      <td>1</td>\n",
       "      <td>660681</td>\n",
       "      <td>0.187359</td>\n",
       "    </tr>\n",
       "  </tbody>\n",
       "</table>\n",
       "</div>"
      ],
      "text/plain": [
       "   Converted  Lead_Number  Conversion_Prob\n",
       "0          0       660737         0.107220\n",
       "1          0       660728         0.286904\n",
       "2          1       660727         0.591466\n",
       "3          0       660719         0.128387\n",
       "4          1       660681         0.187359"
      ]
     },
     "execution_count": 207,
     "metadata": {},
     "output_type": "execute_result"
    }
   ],
   "source": [
    "#Displaying the Answer_Dataframe\n",
    "y_ans_final.head()"
   ]
  },
  {
   "cell_type": "markdown",
   "metadata": {
    "colab_type": "text",
    "id": "kqdQStHdWl8U"
   },
   "source": [
    "### **Finding the converted value using the probability cut - off = 0.35**"
   ]
  },
  {
   "cell_type": "code",
   "execution_count": 208,
   "metadata": {
    "colab": {},
    "colab_type": "code",
    "id": "MWLaGH_C0wNG"
   },
   "outputs": [],
   "source": [
    "#Finding the Predicted values using the probability cut off\n",
    "y_ans_final['final_predicted'] = y_ans_final.Conversion_Prob.map(lambda x: 1 if x > 0.35 else 0)"
   ]
  },
  {
   "cell_type": "code",
   "execution_count": 209,
   "metadata": {
    "colab": {},
    "colab_type": "code",
    "id": "5X02XTs01txJ"
   },
   "outputs": [],
   "source": [
    "#Appending the score to the dataframe.\n",
    "y_ans_final['Score'] = round(y_ans_final['Conversion_Prob'] * 100, 2)"
   ]
  },
  {
   "cell_type": "code",
   "execution_count": 210,
   "metadata": {
    "colab": {
     "base_uri": "https://localhost:8080/",
     "height": 204
    },
    "colab_type": "code",
    "id": "unVOktXD2yh9",
    "outputId": "d5ffb96b-6d5b-4141-9261-10b6822983b3"
   },
   "outputs": [
    {
     "data": {
      "text/html": [
       "<div>\n",
       "<style scoped>\n",
       "    .dataframe tbody tr th:only-of-type {\n",
       "        vertical-align: middle;\n",
       "    }\n",
       "\n",
       "    .dataframe tbody tr th {\n",
       "        vertical-align: top;\n",
       "    }\n",
       "\n",
       "    .dataframe thead th {\n",
       "        text-align: right;\n",
       "    }\n",
       "</style>\n",
       "<table border=\"1\" class=\"dataframe\">\n",
       "  <thead>\n",
       "    <tr style=\"text-align: right;\">\n",
       "      <th></th>\n",
       "      <th>Converted</th>\n",
       "      <th>Lead_Number</th>\n",
       "      <th>Conversion_Prob</th>\n",
       "      <th>final_predicted</th>\n",
       "      <th>Score</th>\n",
       "    </tr>\n",
       "  </thead>\n",
       "  <tbody>\n",
       "    <tr>\n",
       "      <td>0</td>\n",
       "      <td>0</td>\n",
       "      <td>660737</td>\n",
       "      <td>0.107220</td>\n",
       "      <td>0</td>\n",
       "      <td>10.72</td>\n",
       "    </tr>\n",
       "    <tr>\n",
       "      <td>1</td>\n",
       "      <td>0</td>\n",
       "      <td>660728</td>\n",
       "      <td>0.286904</td>\n",
       "      <td>0</td>\n",
       "      <td>28.69</td>\n",
       "    </tr>\n",
       "    <tr>\n",
       "      <td>2</td>\n",
       "      <td>1</td>\n",
       "      <td>660727</td>\n",
       "      <td>0.591466</td>\n",
       "      <td>1</td>\n",
       "      <td>59.15</td>\n",
       "    </tr>\n",
       "    <tr>\n",
       "      <td>3</td>\n",
       "      <td>0</td>\n",
       "      <td>660719</td>\n",
       "      <td>0.128387</td>\n",
       "      <td>0</td>\n",
       "      <td>12.84</td>\n",
       "    </tr>\n",
       "    <tr>\n",
       "      <td>4</td>\n",
       "      <td>1</td>\n",
       "      <td>660681</td>\n",
       "      <td>0.187359</td>\n",
       "      <td>0</td>\n",
       "      <td>18.74</td>\n",
       "    </tr>\n",
       "  </tbody>\n",
       "</table>\n",
       "</div>"
      ],
      "text/plain": [
       "   Converted  Lead_Number  Conversion_Prob  final_predicted  Score\n",
       "0          0       660737         0.107220                0  10.72\n",
       "1          0       660728         0.286904                0  28.69\n",
       "2          1       660727         0.591466                1  59.15\n",
       "3          0       660719         0.128387                0  12.84\n",
       "4          1       660681         0.187359                0  18.74"
      ]
     },
     "execution_count": 210,
     "metadata": {},
     "output_type": "execute_result"
    }
   ],
   "source": [
    "#Displaying the predicted conversion on the final values\n",
    "y_ans_final.head()"
   ]
  },
  {
   "cell_type": "markdown",
   "metadata": {
    "colab_type": "text",
    "id": "tuePjwZoXOUj"
   },
   "source": [
    "### **Metric Calculation - Complete Dataframe**"
   ]
  },
  {
   "cell_type": "code",
   "execution_count": 211,
   "metadata": {
    "colab": {
     "base_uri": "https://localhost:8080/",
     "height": 34
    },
    "colab_type": "code",
    "id": "qtDDQkVF0wNS",
    "outputId": "c032bdc0-4975-4964-cd31-7d481cb0eff0"
   },
   "outputs": [
    {
     "data": {
      "text/plain": [
       "0.8086580086580086"
      ]
     },
     "execution_count": 211,
     "metadata": {},
     "output_type": "execute_result"
    }
   ],
   "source": [
    "# Let's check the overall accuracy.\n",
    "metrics.accuracy_score(y_ans_final.Converted, y_ans_final.final_predicted)"
   ]
  },
  {
   "cell_type": "code",
   "execution_count": 212,
   "metadata": {
    "colab": {
     "base_uri": "https://localhost:8080/",
     "height": 51
    },
    "colab_type": "code",
    "id": "IJoEssUP0wNZ",
    "outputId": "81d1e481-b8a0-4f09-e04f-b56633be3e02"
   },
   "outputs": [
    {
     "data": {
      "text/plain": [
       "array([[4616, 1063],\n",
       "       [ 705, 2856]], dtype=int64)"
      ]
     },
     "execution_count": 212,
     "metadata": {},
     "output_type": "execute_result"
    }
   ],
   "source": [
    "#Confusion Matrix\n",
    "confusionAns= metrics.confusion_matrix(y_ans_final.Converted, y_ans_final.final_predicted)\n",
    "confusionAns"
   ]
  },
  {
   "cell_type": "code",
   "execution_count": 213,
   "metadata": {
    "colab": {},
    "colab_type": "code",
    "id": "f4SSBw9a0wNe"
   },
   "outputs": [],
   "source": [
    "#Confusion Matrix - Parameters\n",
    "TP = confusionAns[1,1] # true positive \n",
    "TN = confusionAns[0,0] # true negatives\n",
    "FP = confusionAns[0,1] # false positives\n",
    "FN = confusionAns[1,0] # false negatives"
   ]
  },
  {
   "cell_type": "code",
   "execution_count": 214,
   "metadata": {
    "colab": {
     "base_uri": "https://localhost:8080/",
     "height": 34
    },
    "colab_type": "code",
    "id": "1UH5-DZU0wNi",
    "outputId": "76dc2fd9-f020-48b5-f137-6dbc24c08113"
   },
   "outputs": [
    {
     "name": "stdout",
     "output_type": "stream",
     "text": [
      "80.0\n"
     ]
    }
   ],
   "source": [
    "# Let's see the sensitivity of our logistic regression model\n",
    "sensitivity = round(TP / float(TP+FN),2) *100 \n",
    "print(sensitivity)"
   ]
  },
  {
   "cell_type": "code",
   "execution_count": 215,
   "metadata": {
    "colab": {
     "base_uri": "https://localhost:8080/",
     "height": 34
    },
    "colab_type": "code",
    "id": "Ba1jLHHy0wNn",
    "outputId": "30eb7ec4-ca5c-42f2-d332-478c2bc8f7b6"
   },
   "outputs": [
    {
     "data": {
      "text/plain": [
       "0.812819158302518"
      ]
     },
     "execution_count": 215,
     "metadata": {},
     "output_type": "execute_result"
    }
   ],
   "source": [
    "# Let us calculate specificity\n",
    "TN / float(TN+FP)"
   ]
  },
  {
   "cell_type": "markdown",
   "metadata": {
    "colab_type": "text",
    "id": "SWluNku1XeI1"
   },
   "source": [
    "## ***SORTING THE DATAFRAME - TO FIND THE TOP LEADS***"
   ]
  },
  {
   "cell_type": "code",
   "execution_count": 216,
   "metadata": {
    "colab": {},
    "colab_type": "code",
    "id": "vmdu7VMn3LFg"
   },
   "outputs": [],
   "source": [
    "#Sorting values to find the top leads. \n",
    "ResultDf = y_ans_final.sort_values(by='Score', ascending=False)\n"
   ]
  },
  {
   "cell_type": "code",
   "execution_count": 217,
   "metadata": {
    "colab": {
     "base_uri": "https://localhost:8080/",
     "height": 204
    },
    "colab_type": "code",
    "id": "rZhtBm7f3hW8",
    "outputId": "9f2b3cde-7bee-445d-b477-8534d0d24bb2"
   },
   "outputs": [
    {
     "data": {
      "text/html": [
       "<div>\n",
       "<style scoped>\n",
       "    .dataframe tbody tr th:only-of-type {\n",
       "        vertical-align: middle;\n",
       "    }\n",
       "\n",
       "    .dataframe tbody tr th {\n",
       "        vertical-align: top;\n",
       "    }\n",
       "\n",
       "    .dataframe thead th {\n",
       "        text-align: right;\n",
       "    }\n",
       "</style>\n",
       "<table border=\"1\" class=\"dataframe\">\n",
       "  <thead>\n",
       "    <tr style=\"text-align: right;\">\n",
       "      <th></th>\n",
       "      <th>Converted</th>\n",
       "      <th>Lead_Number</th>\n",
       "      <th>Conversion_Prob</th>\n",
       "      <th>final_predicted</th>\n",
       "      <th>Score</th>\n",
       "    </tr>\n",
       "  </thead>\n",
       "  <tbody>\n",
       "    <tr>\n",
       "      <td>2656</td>\n",
       "      <td>1</td>\n",
       "      <td>634047</td>\n",
       "      <td>0.999681</td>\n",
       "      <td>1</td>\n",
       "      <td>99.97</td>\n",
       "    </tr>\n",
       "    <tr>\n",
       "      <td>3478</td>\n",
       "      <td>1</td>\n",
       "      <td>627106</td>\n",
       "      <td>0.999659</td>\n",
       "      <td>1</td>\n",
       "      <td>99.97</td>\n",
       "    </tr>\n",
       "    <tr>\n",
       "      <td>8074</td>\n",
       "      <td>1</td>\n",
       "      <td>588037</td>\n",
       "      <td>0.999566</td>\n",
       "      <td>1</td>\n",
       "      <td>99.96</td>\n",
       "    </tr>\n",
       "    <tr>\n",
       "      <td>3428</td>\n",
       "      <td>1</td>\n",
       "      <td>627462</td>\n",
       "      <td>0.999458</td>\n",
       "      <td>1</td>\n",
       "      <td>99.95</td>\n",
       "    </tr>\n",
       "    <tr>\n",
       "      <td>5921</td>\n",
       "      <td>1</td>\n",
       "      <td>604411</td>\n",
       "      <td>0.999389</td>\n",
       "      <td>1</td>\n",
       "      <td>99.94</td>\n",
       "    </tr>\n",
       "  </tbody>\n",
       "</table>\n",
       "</div>"
      ],
      "text/plain": [
       "      Converted  Lead_Number  Conversion_Prob  final_predicted  Score\n",
       "2656          1       634047         0.999681                1  99.97\n",
       "3478          1       627106         0.999659                1  99.97\n",
       "8074          1       588037         0.999566                1  99.96\n",
       "3428          1       627462         0.999458                1  99.95\n",
       "5921          1       604411         0.999389                1  99.94"
      ]
     },
     "execution_count": 217,
     "metadata": {},
     "output_type": "execute_result"
    }
   ],
   "source": [
    "#Displaying the top leads\n",
    "ResultDf.head()"
   ]
  },
  {
   "cell_type": "code",
   "execution_count": 218,
   "metadata": {
    "colab": {},
    "colab_type": "code",
    "id": "IRvZd0ZG3sxr"
   },
   "outputs": [],
   "source": [
    "FilteredResult = ResultDf.loc[ResultDf['Score'] >= 35]"
   ]
  },
  {
   "cell_type": "code",
   "execution_count": 219,
   "metadata": {
    "colab": {
     "base_uri": "https://localhost:8080/",
     "height": 51
    },
    "colab_type": "code",
    "id": "BeUotQAT5JCF",
    "outputId": "919bf306-5707-4971-cb4e-a1e2e3c6b945"
   },
   "outputs": [
    {
     "name": "stdout",
     "output_type": "stream",
     "text": [
      "(9240, 5)\n",
      "(3919, 5)\n"
     ]
    }
   ],
   "source": [
    "print(ResultDf.shape)\n",
    "print(FilteredResult.shape)"
   ]
  },
  {
   "cell_type": "code",
   "execution_count": 220,
   "metadata": {
    "colab": {
     "base_uri": "https://localhost:8080/",
     "height": 204
    },
    "colab_type": "code",
    "id": "iOIXX2RS5Ghh",
    "outputId": "2e9ca7cc-ec65-46f3-a7bc-f732ce3aecb8"
   },
   "outputs": [
    {
     "data": {
      "text/html": [
       "<div>\n",
       "<style scoped>\n",
       "    .dataframe tbody tr th:only-of-type {\n",
       "        vertical-align: middle;\n",
       "    }\n",
       "\n",
       "    .dataframe tbody tr th {\n",
       "        vertical-align: top;\n",
       "    }\n",
       "\n",
       "    .dataframe thead th {\n",
       "        text-align: right;\n",
       "    }\n",
       "</style>\n",
       "<table border=\"1\" class=\"dataframe\">\n",
       "  <thead>\n",
       "    <tr style=\"text-align: right;\">\n",
       "      <th></th>\n",
       "      <th>Converted</th>\n",
       "      <th>Lead_Number</th>\n",
       "      <th>Conversion_Prob</th>\n",
       "      <th>final_predicted</th>\n",
       "      <th>Score</th>\n",
       "    </tr>\n",
       "  </thead>\n",
       "  <tbody>\n",
       "    <tr>\n",
       "      <td>2656</td>\n",
       "      <td>1</td>\n",
       "      <td>634047</td>\n",
       "      <td>0.999681</td>\n",
       "      <td>1</td>\n",
       "      <td>99.97</td>\n",
       "    </tr>\n",
       "    <tr>\n",
       "      <td>3478</td>\n",
       "      <td>1</td>\n",
       "      <td>627106</td>\n",
       "      <td>0.999659</td>\n",
       "      <td>1</td>\n",
       "      <td>99.97</td>\n",
       "    </tr>\n",
       "    <tr>\n",
       "      <td>8074</td>\n",
       "      <td>1</td>\n",
       "      <td>588037</td>\n",
       "      <td>0.999566</td>\n",
       "      <td>1</td>\n",
       "      <td>99.96</td>\n",
       "    </tr>\n",
       "    <tr>\n",
       "      <td>3428</td>\n",
       "      <td>1</td>\n",
       "      <td>627462</td>\n",
       "      <td>0.999458</td>\n",
       "      <td>1</td>\n",
       "      <td>99.95</td>\n",
       "    </tr>\n",
       "    <tr>\n",
       "      <td>5921</td>\n",
       "      <td>1</td>\n",
       "      <td>604411</td>\n",
       "      <td>0.999389</td>\n",
       "      <td>1</td>\n",
       "      <td>99.94</td>\n",
       "    </tr>\n",
       "  </tbody>\n",
       "</table>\n",
       "</div>"
      ],
      "text/plain": [
       "      Converted  Lead_Number  Conversion_Prob  final_predicted  Score\n",
       "2656          1       634047         0.999681                1  99.97\n",
       "3478          1       627106         0.999659                1  99.97\n",
       "8074          1       588037         0.999566                1  99.96\n",
       "3428          1       627462         0.999458                1  99.95\n",
       "5921          1       604411         0.999389                1  99.94"
      ]
     },
     "execution_count": 220,
     "metadata": {},
     "output_type": "execute_result"
    }
   ],
   "source": [
    "FilteredResult.head()"
   ]
  },
  {
   "cell_type": "code",
   "execution_count": 221,
   "metadata": {
    "colab": {
     "base_uri": "https://localhost:8080/",
     "height": 34
    },
    "colab_type": "code",
    "id": "ohD4CLsX5Vx7",
    "outputId": "fc7a718b-9cfc-4067-e867-1ca15b766e31"
   },
   "outputs": [
    {
     "data": {
      "text/plain": [
       "72.87573360551161"
      ]
     },
     "execution_count": 221,
     "metadata": {},
     "output_type": "execute_result"
    }
   ],
   "source": [
    "#Checking the Converted Rate\n",
    "Converted_Rate_AfterModelling= (sum(FilteredResult['Converted'])/len(FilteredResult['Converted'].index))*100\n",
    "Converted_Rate_AfterModelling"
   ]
  },
  {
   "cell_type": "markdown",
   "metadata": {
    "colab_type": "text",
    "id": "mxXHQht7s3ZV"
   },
   "source": [
    "**We provide a list of only 4000 who have the chances of getting converted into a potential lead so it is easier for the company to limit their target. When we check for conversion rate, it is found to be around 73%.**"
   ]
  },
  {
   "cell_type": "markdown",
   "metadata": {
    "colab_type": "text",
    "id": "i1-va8OTwhWi"
   },
   "source": [
    "### ***SORTING THE DATAFRAME - TO FIND THE HOT LEADS WITH HIGHER CONVERSION RATE***"
   ]
  },
  {
   "cell_type": "code",
   "execution_count": 222,
   "metadata": {
    "colab": {},
    "colab_type": "code",
    "id": "WX87mV9982Fo"
   },
   "outputs": [],
   "source": [
    "HotLeads = ResultDf.loc[ResultDf['Score'] >= 95]"
   ]
  },
  {
   "cell_type": "code",
   "execution_count": 223,
   "metadata": {
    "colab": {
     "base_uri": "https://localhost:8080/",
     "height": 34
    },
    "colab_type": "code",
    "id": "CkAi2A_M8773",
    "outputId": "26ba34ad-46a9-49fb-dce1-f27a4d87cb3a"
   },
   "outputs": [
    {
     "data": {
      "text/plain": [
       "(716, 5)"
      ]
     },
     "execution_count": 223,
     "metadata": {},
     "output_type": "execute_result"
    }
   ],
   "source": [
    "HotLeads.shape"
   ]
  },
  {
   "cell_type": "code",
   "execution_count": 224,
   "metadata": {
    "colab": {
     "base_uri": "https://localhost:8080/",
     "height": 34
    },
    "colab_type": "code",
    "id": "a6DxUIfr9DKr",
    "outputId": "15151e76-0082-4682-98b0-05b212a6b066"
   },
   "outputs": [
    {
     "data": {
      "text/plain": [
       "95.94972067039106"
      ]
     },
     "execution_count": 224,
     "metadata": {},
     "output_type": "execute_result"
    }
   ],
   "source": [
    "#Checking the Converted Rate\n",
    "Converted_Rate_ForHotLeads= (sum(HotLeads['Converted'])/len(HotLeads['Converted'].index))*100\n",
    "Converted_Rate_ForHotLeads"
   ]
  },
  {
   "cell_type": "markdown",
   "metadata": {
    "colab_type": "text",
    "id": "v7Vjce0StRHR"
   },
   "source": [
    "**We provide a list of only 700 who are mostly getting converted to a lead,  so it is easier for the company to limit their target. When we check for conversion rate, it is found to be around 96%. This list aims to target the top 10% of the customers.**"
   ]
  }
 ],
 "metadata": {
  "colab": {
   "collapsed_sections": [
    "0ZESMq9h00D3",
    "4FrjyG6wMUJX",
    "qpITdkosMu3h",
    "5jlkikIyMkr9",
    "UhlEW8H6TGWr",
    "gwRI1SspTrfq",
    "n8GdBYLtUrbn",
    "S0axlu5urEvC",
    "tzBWQ4HhTPgm"
   ],
   "name": "LeadScoringCaseStudy-ModelBuilding.ipynb",
   "provenance": [],
   "toc_visible": true
  },
  "kernelspec": {
   "display_name": "Python 3",
   "language": "python",
   "name": "python3"
  },
  "language_info": {
   "codemirror_mode": {
    "name": "ipython",
    "version": 3
   },
   "file_extension": ".py",
   "mimetype": "text/x-python",
   "name": "python",
   "nbconvert_exporter": "python",
   "pygments_lexer": "ipython3",
   "version": "3.7.4"
  }
 },
 "nbformat": 4,
 "nbformat_minor": 1
}
